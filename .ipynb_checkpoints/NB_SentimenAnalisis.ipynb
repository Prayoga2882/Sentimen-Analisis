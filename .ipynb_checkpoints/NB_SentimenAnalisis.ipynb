{
 "cells": [
  {
   "cell_type": "markdown",
   "metadata": {},
   "source": [
    "## ANALISIS SENTIMEN OPINI PUBLIK TERHADAP PENERAPAN PEMBELAJARAN LURING PADA MASA PANDEMI COVID-19"
   ]
  },
  {
   "cell_type": "markdown",
   "metadata": {},
   "source": [
    "#### Import Library dan Load Dataset"
   ]
  },
  {
   "cell_type": "code",
   "execution_count": 40,
   "metadata": {},
   "outputs": [],
   "source": [
    "import pandas as pd\n",
    "import numpy as np\n",
    "from sklearn.model_selection import train_test_split\n",
    "from datetime import datetime\n",
    "import pytz\n",
    "import matplotlib.pyplot as plt\n",
    "from wordcloud import WordCloud\n",
    "import string\n",
    "import nltk\n",
    "from nltk.tokenize import word_tokenize\n",
    "from nltk.tokenize import TweetTokenizer\n",
    "from nltk.corpus import stopwords\n",
    "# from Sastrawi.Stemmer.StemmerFactory import StemmerFactory\n",
    "# from Sastrawi.StopWordRemover.StopWordRemoverFactory import StopWordRemoverFactory\n",
    "import re\n",
    "import pickle"
   ]
  },
  {
   "cell_type": "code",
   "execution_count": 41,
   "metadata": {},
   "outputs": [
    {
     "data": {
      "text/html": [
       "<div>\n",
       "<style scoped>\n",
       "    .dataframe tbody tr th:only-of-type {\n",
       "        vertical-align: middle;\n",
       "    }\n",
       "\n",
       "    .dataframe tbody tr th {\n",
       "        vertical-align: top;\n",
       "    }\n",
       "\n",
       "    .dataframe thead th {\n",
       "        text-align: right;\n",
       "    }\n",
       "</style>\n",
       "<table border=\"1\" class=\"dataframe\">\n",
       "  <thead>\n",
       "    <tr style=\"text-align: right;\">\n",
       "      <th></th>\n",
       "      <th>id</th>\n",
       "      <th>username</th>\n",
       "      <th>created_at</th>\n",
       "      <th>replies_count</th>\n",
       "      <th>retweets_count</th>\n",
       "      <th>likes_count</th>\n",
       "      <th>text_clean</th>\n",
       "      <th>text_preprocessed</th>\n",
       "      <th>polarity</th>\n",
       "    </tr>\n",
       "  </thead>\n",
       "  <tbody>\n",
       "    <tr>\n",
       "      <th>0</th>\n",
       "      <td>1.330000e+18</td>\n",
       "      <td>njmyg_</td>\n",
       "      <td>2020-11-18 23:17:14 SE Asia Standard Time</td>\n",
       "      <td>0</td>\n",
       "      <td>0</td>\n",
       "      <td>0</td>\n",
       "      <td>iya sih tapi maksud sender kuliah online kali</td>\n",
       "      <td>['iya', 'sih', 'maksud', 'sender', 'kuliah', '...</td>\n",
       "      <td>positive</td>\n",
       "    </tr>\n",
       "    <tr>\n",
       "      <th>1</th>\n",
       "      <td>1.330000e+18</td>\n",
       "      <td>urbbyyyyyyyy</td>\n",
       "      <td>2020-11-18 23:07:06 SE Asia Standard Time</td>\n",
       "      <td>0</td>\n",
       "      <td>0</td>\n",
       "      <td>0</td>\n",
       "      <td>males kuliah online temennya sikit</td>\n",
       "      <td>['males', 'kuliah', 'online', 'temennya', 'sik...</td>\n",
       "      <td>negative</td>\n",
       "    </tr>\n",
       "    <tr>\n",
       "      <th>2</th>\n",
       "      <td>1.330000e+18</td>\n",
       "      <td>risyaanggun</td>\n",
       "      <td>2020-11-18 23:05:21 SE Asia Standard Time</td>\n",
       "      <td>0</td>\n",
       "      <td>0</td>\n",
       "      <td>0</td>\n",
       "      <td>tumbenan td kuliah online dosennya minta join ...</td>\n",
       "      <td>['tumben', 'td', 'kuliah', 'online', 'dosen', ...</td>\n",
       "      <td>negative</td>\n",
       "    </tr>\n",
       "    <tr>\n",
       "      <th>3</th>\n",
       "      <td>1.330000e+18</td>\n",
       "      <td>nyctophilexxx</td>\n",
       "      <td>2020-11-18 22:58:58 SE Asia Standard Time</td>\n",
       "      <td>1</td>\n",
       "      <td>0</td>\n",
       "      <td>0</td>\n",
       "      <td>nangis krn kecapean kuliah online</td>\n",
       "      <td>['nang', 'krn', 'cape', 'kuliah', 'online']</td>\n",
       "      <td>negative</td>\n",
       "    </tr>\n",
       "    <tr>\n",
       "      <th>4</th>\n",
       "      <td>1.330000e+18</td>\n",
       "      <td>anisanwl</td>\n",
       "      <td>2020-11-18 22:50:53 SE Asia Standard Time</td>\n",
       "      <td>0</td>\n",
       "      <td>0</td>\n",
       "      <td>1</td>\n",
       "      <td>apa hanya aku yang merasa semenjak kuliah onli...</td>\n",
       "      <td>['semenjak', 'kuliah', 'online', 'kerja', 'ota...</td>\n",
       "      <td>negative</td>\n",
       "    </tr>\n",
       "  </tbody>\n",
       "</table>\n",
       "</div>"
      ],
      "text/plain": [
       "             id       username                                 created_at  \\\n",
       "0  1.330000e+18         njmyg_  2020-11-18 23:17:14 SE Asia Standard Time   \n",
       "1  1.330000e+18   urbbyyyyyyyy  2020-11-18 23:07:06 SE Asia Standard Time   \n",
       "2  1.330000e+18    risyaanggun  2020-11-18 23:05:21 SE Asia Standard Time   \n",
       "3  1.330000e+18  nyctophilexxx  2020-11-18 22:58:58 SE Asia Standard Time   \n",
       "4  1.330000e+18       anisanwl  2020-11-18 22:50:53 SE Asia Standard Time   \n",
       "\n",
       "   replies_count  retweets_count  likes_count  \\\n",
       "0              0               0            0   \n",
       "1              0               0            0   \n",
       "2              0               0            0   \n",
       "3              1               0            0   \n",
       "4              0               0            1   \n",
       "\n",
       "                                          text_clean  \\\n",
       "0      iya sih tapi maksud sender kuliah online kali   \n",
       "1                 males kuliah online temennya sikit   \n",
       "2  tumbenan td kuliah online dosennya minta join ...   \n",
       "3                  nangis krn kecapean kuliah online   \n",
       "4  apa hanya aku yang merasa semenjak kuliah onli...   \n",
       "\n",
       "                                   text_preprocessed  polarity  \n",
       "0  ['iya', 'sih', 'maksud', 'sender', 'kuliah', '...  positive  \n",
       "1  ['males', 'kuliah', 'online', 'temennya', 'sik...  negative  \n",
       "2  ['tumben', 'td', 'kuliah', 'online', 'dosen', ...  negative  \n",
       "3        ['nang', 'krn', 'cape', 'kuliah', 'online']  negative  \n",
       "4  ['semenjak', 'kuliah', 'online', 'kerja', 'ota...  negative  "
      ]
     },
     "execution_count": 41,
     "metadata": {},
     "output_type": "execute_result"
    }
   ],
   "source": [
    "#load Dataset\n",
    "# data_frame = pd.read_csv('tweets_data.csv')\n",
    "data_frame = pd.read_csv('tweets_data_clean.csv')\n",
    "data_frame = data_frame[:5000]\n",
    "data_frame.head()"
   ]
  },
  {
   "cell_type": "code",
   "execution_count": 42,
   "metadata": {},
   "outputs": [
    {
     "data": {
      "text/plain": [
       "(5000, 9)"
      ]
     },
     "execution_count": 42,
     "metadata": {},
     "output_type": "execute_result"
    }
   ],
   "source": [
    "data_frame.shape"
   ]
  },
  {
   "cell_type": "markdown",
   "metadata": {},
   "source": [
    "#### DATA PROCESSING ####"
   ]
  },
  {
   "cell_type": "code",
   "execution_count": 43,
   "metadata": {},
   "outputs": [
    {
     "data": {
      "text/plain": [
       "2    2925\n",
       "1    2056\n",
       "0      19\n",
       "Name: polarity, dtype: int64"
      ]
     },
     "execution_count": 43,
     "metadata": {},
     "output_type": "execute_result"
    }
   ],
   "source": [
    "data_frame['polarity'].replace(('neutral', 'positive', 'negative'), (0, 1, 2), inplace=True)\n",
    "data_frame['polarity'].value_counts()"
   ]
  },
  {
   "cell_type": "code",
   "execution_count": 44,
   "metadata": {},
   "outputs": [],
   "source": [
    "data = data_frame['text_preprocessed'].values.tolist()\n",
    "label = data_frame['polarity'].values.tolist()"
   ]
  },
  {
   "cell_type": "markdown",
   "metadata": {},
   "source": [
    "#### Split Data Train dan Test (80/20) ####"
   ]
  },
  {
   "cell_type": "code",
   "execution_count": 45,
   "metadata": {},
   "outputs": [
    {
     "name": "stdout",
     "output_type": "stream",
     "text": [
      "Jumlah data training: 4000\n",
      "Jumlah data testing: 1000\n"
     ]
    }
   ],
   "source": [
    "train_X, test_X, y_train, y_test = train_test_split(data, label, test_size=0.2, shuffle=True)\n",
    "\n",
    "print(f'Jumlah data training: {len(train_X)}')\n",
    "print(f'Jumlah data testing: {len(test_X)}')"
   ]
  },
  {
   "cell_type": "markdown",
   "metadata": {},
   "source": [
    "#### TEXT PREPROCESSING ####"
   ]
  },
  {
   "cell_type": "code",
   "execution_count": 46,
   "metadata": {},
   "outputs": [],
   "source": [
    "def cleaningText(text):\n",
    "    text_clean = re.sub(r'@[A-Za-z0-9]+', '', str(text)) # Hapus Mention\n",
    "    text_clean = re.sub(r'#[A-Za-z0-9]+', '', text_clean) # Hapus hashtag\n",
    "    text_clean = re.sub(r'RT[\\s]', '', text_clean) # Hapus RT\n",
    "    text_clean = re.sub(r\"http\\S+\", '', text_clean) # Hapus link\n",
    "    text_clean = re.sub(r'[0-9]+', '', text_clean) # Hapus angka\n",
    "    text_clean = text_clean.replace('\\n', ' ') # Ganti enter ke spasi\n",
    "    text_clean = text_clean.translate(str.maketrans('', '', string.punctuation)) # Hapus tanda baca\n",
    "    text_clean = text_clean.strip(' ') # Hapus spasi tdk jelas\n",
    "    return text_clean\n",
    "\n",
    "def casefoldingText(text):\n",
    "    lwr = text\n",
    "    map(str.lower, lwr)\n",
    "    text = lwr\n",
    "    return text\n",
    "\n",
    "tokenizer = TweetTokenizer(preserve_case=False, strip_handles=True,\n",
    "                               reduce_len=True)\n",
    "def tokenizingText(text): \n",
    "    text = tokenizer.tokenize(text)\n",
    "                               \n",
    "    return text\n",
    "\n",
    "def filteringText(text):\n",
    "    listStopwords = set(stopwords.words('indonesian'))\n",
    "    filtered = []\n",
    "    for txt in text:\n",
    "        if txt not in listStopwords:\n",
    "            filtered.append(txt)\n",
    "    text = filtered \n",
    "    return text\n",
    "\n",
    "def stemmingText(text): \n",
    "    factory = StemmerFactory()\n",
    "    stemmer = factory.create_stemmer()\n",
    "    text = [stemmer.stem(word) for word in text]\n",
    "    return text\n"
   ]
  },
  {
   "cell_type": "code",
   "execution_count": 47,
   "metadata": {},
   "outputs": [],
   "source": [
    "def process_tweet(tweet):\n",
    "    tweet_Cleaning = cleaningText(tweet)\n",
    "    tweet_CaseFolding = casefoldingText(tweet_Cleaning)\n",
    "    tweet_Tokenizing = tokenizingText(tweet_CaseFolding)\n",
    "    tweet_Filtering = filteringText(tweet_Tokenizing)\n",
    "#     tweet_Stemming = stemmingText(tweet_Filtering)    \n",
    "    return tweet_Filtering"
   ]
  },
  {
   "cell_type": "code",
   "execution_count": 48,
   "metadata": {},
   "outputs": [
    {
     "name": "stdout",
     "output_type": "stream",
     "text": [
      "Mulai: 18:19:51\n",
      "Selesai: 18:19:57\n"
     ]
    }
   ],
   "source": [
    "\n",
    "time_jkt = pytz.timezone('Asia/Jakarta')\n",
    "print(\"Mulai:\", datetime.now(time_jkt).strftime(\"%H:%M:%S\"))\n",
    "\n",
    "#preprocess data train\n",
    "preprocessed_text = []\n",
    "for i in range(0, len(train_X)):\n",
    "    preprocessed_text.append(process_tweet(train_X[i]))\n",
    "\n",
    "X_train = preprocessed_text\n",
    "\n",
    "# Pkl_Filename = \"X_train.pkl\"  \n",
    "\n",
    "# with open(Pkl_Filename, 'wb') as file:  \n",
    "#     pickle.dump(X_train, file)\n",
    "\n",
    "\n",
    "#preprocess data test\n",
    "preprocessed_text = []\n",
    "for i in range(0, len(test_X)):\n",
    "    preprocessed_text.append(process_tweet(test_X[i]))\n",
    "\n",
    "X_test = preprocessed_text\n",
    "\n",
    "# Pkl_Filename = \"y_train.pkl\"  \n",
    "\n",
    "# with open(Pkl_Filename, 'wb') as file:  \n",
    "#     pickle.dump(y_train, file)\n",
    "print(\"Selesai:\", datetime.now(time_jkt).strftime(\"%H:%M:%S\"))"
   ]
  },
  {
   "cell_type": "code",
   "execution_count": null,
   "metadata": {},
   "outputs": [],
   "source": [
    "# Pkl_Filename = \"X_train.pkl\" \n",
    "# with open(Pkl_Filename, 'rb') as file:  \n",
    "#     X_train = pickle.load(file)"
   ]
  },
  {
   "cell_type": "code",
   "execution_count": null,
   "metadata": {},
   "outputs": [],
   "source": [
    "# Pkl_Filename = \"y_train.pkl\" \n",
    "# with open(Pkl_Filename, 'rb') as file:  \n",
    "#     y_train = pickle.load(file)"
   ]
  },
  {
   "cell_type": "markdown",
   "metadata": {},
   "source": [
    "#### CREATE DICTIONARY ####"
   ]
  },
  {
   "cell_type": "code",
   "execution_count": null,
   "metadata": {},
   "outputs": [],
   "source": [
    "def createDictionary(data):\n",
    "  dictionary = dict()\n",
    "  for sampel in  data:\n",
    "    for token in sampel:\n",
    "      dictionary[token] = dictionary.get(token, 0) + 1\n",
    "  #sorting dictionary berdasarkan nilainya\n",
    "  daftar_dict = sorted(dictionary.items(), key=lambda x: x[1], reverse=True)\n",
    "  return dict(daftar_dict)"
   ]
  },
  {
   "cell_type": "code",
   "execution_count": null,
   "metadata": {},
   "outputs": [],
   "source": [
    "bow = createDictionary(X_train)\n",
    "\n",
    "print(\"Token teratas pada Dictionary:\\n\")\n",
    "list(bow.items())[:10]"
   ]
  },
  {
   "cell_type": "code",
   "execution_count": null,
   "metadata": {},
   "outputs": [],
   "source": [
    "print(len(bow))"
   ]
  },
  {
   "cell_type": "markdown",
   "metadata": {},
   "source": [
    "#### NAIVE BAYES CLASSIFIER ####"
   ]
  },
  {
   "cell_type": "code",
   "execution_count": 4,
   "metadata": {},
   "outputs": [],
   "source": [
    "#Navie Bayes Classifier \n",
    "class NBClassifier:\n",
    "\n",
    "    def __init__(self, X_train, y_train, size):  \n",
    "      self.X_train = X_train\n",
    "      self.y_train = y_train\n",
    "      self.size = size\n",
    "\n",
    "    def createDictionary(self):\n",
    "      dictionary = dict()\n",
    "    \n",
    "      for sampel in  X_train:\n",
    "        for token in sampel:\n",
    "          dictionary[token] = dictionary.get(token, 0) + 1\n",
    "      daftar_dict = sorted(dictionary.items(), key=lambda x: x[1], reverse=True)\n",
    "      return dict(daftar_dict)\n",
    "    \n",
    "    def train(self):\n",
    "      X_train_dict = self.createDictionary()\n",
    "      if self.size == 'full':\n",
    "        self.daftar_kata = list(X_train_dict.keys())\n",
    "        self.jumlah_kata = dict.fromkeys(self.daftar_kata, None)\n",
    "        \n",
    "      else:\n",
    "        self.daftar_kata = list(X_train_dict.keys())[:int(self.size)]\n",
    "        self.jumlah_kata = dict.fromkeys(self.daftar_kata, None)\n",
    "        \n",
    "        print(daftar_kata)\n",
    "      train = pd.DataFrame(columns = ['X_train', 'y_train'])\n",
    "      train['X_train'] = X_train\n",
    "      train['y_train'] = y_train\n",
    "\n",
    "      train_0 = train.copy()[train['y_train'] == 0]\n",
    "      train_1 = train.copy()[train['y_train'] == 1]\n",
    "      train_2 = train.copy()[train['y_train'] == 2]\n",
    "\n",
    "      Prior_0 = train_0.shape[0]/train.shape[0] \n",
    "      Prior_1 = train_1.shape[0]/train.shape[0]\n",
    "      Prior_2 = train_2.shape[0]/train.shape[0]\n",
    "      \n",
    "      self.Prior = np.array([Prior_0, Prior_1, Prior_2])\n",
    "        \n",
    "      def flat(listOfList):\n",
    "        jadi = []\n",
    "        for elemen in listOfList:\n",
    "         jadi.extend(elemen)\n",
    "        return jadi\n",
    "  \n",
    "      X_train_0 = flat(train[train['y_train'] == 0]['X_train'].tolist())\n",
    "      X_train_1 = flat(train[train['y_train'] == 1]['X_train'].tolist())\n",
    "      X_train_2 = flat(train[train['y_train'] == 2]['X_train'].tolist())\n",
    "      \n",
    "      self.X_train_len = np.array([len(X_train_0), len(X_train_1), len(X_train_2)])\n",
    "    # Bag of word\n",
    "      for token in self.daftar_kata:\n",
    "        res = []\n",
    "        res.insert(0, X_train_0.count(token))\n",
    "        res.insert(1, X_train_1.count(token))\n",
    "        res.insert(2, X_train_2.count(token))\n",
    "        self.jumlah_kata[token] = res\n",
    "      return self\n",
    "\n",
    "    def predict(self, X_test):     \n",
    "      pred = []\n",
    "      for sampel in X_test:\n",
    "            \n",
    "        mulai = np.array([1,1,1])\n",
    "        \n",
    "        for tokens in sampel:\n",
    "          jumlah_vocab = len(self.daftar_kata)\n",
    "          if tokens in self.daftar_kata:\n",
    "            prob = ((np.array(self.jumlah_kata[tokens])+1) / (self.X_train_len + jumlah_vocab))\n",
    "          else:\n",
    "            prob = ((np.array([0,0,0])+1) / (self.X_train_len + jumlah_vocab))\n",
    "          mulai = mulai * prob\n",
    "        pos = mulai * self.Prior\n",
    "        pred.append(np.argmax(pos))\n",
    "      return pred\n",
    "    \n",
    "    def score(self, pred, labels):\n",
    "      correct = (np.array(pred) == np.array(labels)).sum()\n",
    "      accuracy = correct/len(pred)\n",
    "      return correct, accuracy"
   ]
  },
  {
   "cell_type": "markdown",
   "metadata": {},
   "source": [
    "#### TRAINING DAN TESTING MODEL NB ####"
   ]
  },
  {
   "cell_type": "code",
   "execution_count": 2,
   "metadata": {},
   "outputs": [
    {
     "ename": "NameError",
     "evalue": "name 'X_train' is not defined",
     "output_type": "error",
     "traceback": [
      "\u001b[1;31m---------------------------------------------------------------------------\u001b[0m",
      "\u001b[1;31mNameError\u001b[0m                                 Traceback (most recent call last)",
      "\u001b[1;32m~\\AppData\\Local\\Temp/ipykernel_12068/3977070634.py\u001b[0m in \u001b[0;36m<module>\u001b[1;34m\u001b[0m\n\u001b[0;32m      1\u001b[0m \u001b[1;31m#training classifier\u001b[0m\u001b[1;33m\u001b[0m\u001b[1;33m\u001b[0m\u001b[0m\n\u001b[1;32m----> 2\u001b[1;33m \u001b[0mnb\u001b[0m \u001b[1;33m=\u001b[0m \u001b[0mNBClassifier\u001b[0m\u001b[1;33m(\u001b[0m\u001b[0mX_train\u001b[0m\u001b[1;33m,\u001b[0m \u001b[0my_train\u001b[0m\u001b[1;33m,\u001b[0m \u001b[1;36m5000\u001b[0m\u001b[1;33m)\u001b[0m\u001b[1;33m\u001b[0m\u001b[1;33m\u001b[0m\u001b[0m\n\u001b[0m\u001b[0;32m      3\u001b[0m \u001b[0mnb\u001b[0m\u001b[1;33m.\u001b[0m\u001b[0mtrain\u001b[0m\u001b[1;33m(\u001b[0m\u001b[1;33m)\u001b[0m\u001b[1;33m\u001b[0m\u001b[1;33m\u001b[0m\u001b[0m\n",
      "\u001b[1;31mNameError\u001b[0m: name 'X_train' is not defined"
     ]
    }
   ],
   "source": [
    "#training classifier     \n",
    "nb = NBClassifier(X_train, y_train, '5000)  \n",
    "nb.train()"
   ]
  },
  {
   "cell_type": "code",
   "execution_count": 21,
   "metadata": {},
   "outputs": [],
   "source": [
    "Pkl_Filename = \"Pickle_NB_Model.pkl\" \n",
    "with open(Pkl_Filename, 'rb') as file:  \n",
    "    nb = pickle.load(file)\n"
   ]
  },
  {
   "cell_type": "code",
   "execution_count": 22,
   "metadata": {},
   "outputs": [],
   "source": [
    "#predict\n",
    "y_pred = nb.predict(X_test)"
   ]
  },
  {
   "cell_type": "markdown",
   "metadata": {},
   "source": [
    "## Hasil Evaluasi ##"
   ]
  },
  {
   "cell_type": "code",
   "execution_count": 23,
   "metadata": {},
   "outputs": [
    {
     "name": "stdout",
     "output_type": "stream",
     "text": [
      "[[  0   3   2]\n",
      " [  0 292 109]\n",
      " [  1  65 528]]\n",
      "\n",
      "Accuracy: 0.82\n",
      "\n",
      "\n",
      "Classification Report\n",
      "\n",
      "              precision    recall  f1-score   support\n",
      "\n",
      "     Neutral       0.00      0.00      0.00         5\n",
      "    Positive       0.81      0.73      0.77       401\n",
      "    Negative       0.83      0.89      0.86       594\n",
      "\n",
      "    accuracy                           0.82      1000\n",
      "   macro avg       0.55      0.54      0.54      1000\n",
      "weighted avg       0.82      0.82      0.82      1000\n",
      "\n"
     ]
    }
   ],
   "source": [
    "from sklearn.metrics import confusion_matrix\n",
    "confusion=confusion_matrix(y_test, y_pred)\n",
    "print(confusion)\n",
    "\n",
    "from sklearn.metrics import accuracy_score\n",
    "print('\\nAccuracy: {:.2f}\\n'.format(accuracy_score(y_test, y_pred)))\n",
    "\n",
    "from sklearn.metrics import classification_report\n",
    "print('\\nClassification Report\\n')\n",
    "print(classification_report(y_test, y_pred, target_names=['Neutral', 'Positive', 'Negative']))"
   ]
  },
  {
   "cell_type": "code",
   "execution_count": null,
   "metadata": {},
   "outputs": [],
   "source": [
    "#Evaluasi Performa Model NB Manual\n",
    "cor1, acc1 = nb.score(y_pred, y_test)\n",
    "print(\"Prediksi Benar:\", cor1)\n",
    "print(\"Akurasi: %i / %i = %.4f \" %(cor1, len(y_pred), acc1))"
   ]
  },
  {
   "cell_type": "markdown",
   "metadata": {},
   "source": [
    "## Visualisasi Tabel ##"
   ]
  },
  {
   "cell_type": "code",
   "execution_count": null,
   "metadata": {},
   "outputs": [],
   "source": [
    "pd.set_option('display.max_colwidth', 3000)\n",
    "hasil = pd.DataFrame(list(zip(test_X, X_test, y_pred)),\n",
    "               columns =['Tweet', 'Tweet_Processed', 'Sentimen'])\n",
    "hasil['Sentimen'].replace((0, 1, 2), ('neutral', 'positive', 'negative'), inplace=True)\n",
    "\n",
    "hasil.head()"
   ]
  },
  {
   "cell_type": "markdown",
   "metadata": {},
   "source": [
    "## Visualisasi Pie Chart ##"
   ]
  },
  {
   "cell_type": "code",
   "execution_count": null,
   "metadata": {},
   "outputs": [],
   "source": [
    "fig, ax = plt.subplots(figsize = (6, 6))\n",
    "sizes = [count for count in hasil['Sentimen'].value_counts()]\n",
    "labels = list(hasil['Sentimen'].value_counts().index)\n",
    "# explode = (0.1, 0, 0)\n",
    "ax.pie(x = sizes, labels = labels, autopct = '%1.1f%%', textprops={'fontsize': 14})\n",
    "ax.set_title('Polaritas Sentimen Data dari Tweet \\n\\n Jumlah Tweet=10000', fontsize = 16, pad = 20)\n",
    "plt.show()"
   ]
  },
  {
   "cell_type": "markdown",
   "metadata": {},
   "source": [
    "## Visualisasi WordCloud ##"
   ]
  },
  {
   "cell_type": "code",
   "execution_count": null,
   "metadata": {},
   "outputs": [],
   "source": [
    "# Visualize word cloud\n",
    "\n",
    "list_words=''\n",
    "for tweet in hasil['Tweet_Processed']:\n",
    "    for word in tweet:\n",
    "        list_words += ' '+(word)\n",
    "        \n",
    "wordcloud = WordCloud(width = 600, height = 400, background_color = 'black', min_font_size = 10).generate(list_words)\n",
    "fig, ax = plt.subplots(figsize = (8, 6))\n",
    "ax.set_title('Word Cloud Data Tweet', fontsize = 18)\n",
    "ax.grid(False)\n",
    "ax.imshow((wordcloud))\n",
    "fig.tight_layout(pad=0)\n",
    "ax.axis('off')\n",
    "plt.show()"
   ]
  },
  {
   "cell_type": "markdown",
   "metadata": {},
   "source": [
    "# Visualisasi WordCloud Positif ##"
   ]
  },
  {
   "cell_type": "code",
   "execution_count": null,
   "metadata": {},
   "outputs": [],
   "source": [
    "hasil_pos = hasil.loc[hasil['Sentimen']=='positive']\n",
    "\n",
    "list_words_postive=''\n",
    "for row_word in hasil_pos['Tweet_Processed']:\n",
    "    for word in row_word:\n",
    "        list_words_postive += ' '+(word)\n",
    "        \n",
    "wordcloud = WordCloud(width = 800, height = 600, background_color = 'black', colormap = 'Greens'\n",
    "                               , min_font_size = 10).generate(list_words_postive)\n",
    "fig, ax = plt.subplots(figsize = (8, 6))\n",
    "ax.set_title('Word Cloud Data Tweet Positif', fontsize = 18)\n",
    "ax.grid(False)\n",
    "ax.imshow((wordcloud))\n",
    "fig.tight_layout(pad=0)\n",
    "ax.axis('off')\n",
    "plt.show()"
   ]
  },
  {
   "cell_type": "markdown",
   "metadata": {},
   "source": [
    "# Visualisasi WordCloud Negatif ##"
   ]
  },
  {
   "cell_type": "code",
   "execution_count": null,
   "metadata": {},
   "outputs": [],
   "source": [
    "hasil_neg = hasil.loc[hasil['Sentimen']=='negative']\n",
    "\n",
    "list_words_negative=''\n",
    "for row_word in hasil_neg['Tweet_Processed']:\n",
    "    for word in row_word:\n",
    "        list_words_negative += ' '+(word)\n",
    "        \n",
    "wordcloud = WordCloud(width = 800, height = 600, background_color = 'black', colormap = 'Reds'\n",
    "                               , min_font_size = 10).generate(list_words_negative)\n",
    "fig, ax = plt.subplots(figsize = (8, 6))\n",
    "ax.set_title('Word Cloud Data Tweet Negatif', fontsize = 18)\n",
    "ax.grid(False)\n",
    "ax.imshow((wordcloud))\n",
    "fig.tight_layout(pad=0)\n",
    "ax.axis('off')\n",
    "plt.show()"
   ]
  },
  {
   "cell_type": "markdown",
   "metadata": {},
   "source": [
    "# Visualisasi WordCloud Netral ##"
   ]
  },
  {
   "cell_type": "code",
   "execution_count": null,
   "metadata": {},
   "outputs": [],
   "source": [
    "hasil_neu = hasil.loc[hasil['Sentimen']=='neutral']\n",
    "\n",
    "list_words_neutral=''\n",
    "for row_word in hasil_neu['Tweet_Processed']:\n",
    "    for word in row_word:\n",
    "        list_words_neutral += ' '+(word)\n",
    "        \n",
    "wordcloud = WordCloud(width = 800, height = 600, background_color = 'black', colormap = 'Blues_r'\n",
    "                               , min_font_size = 10).generate(list_words_neutral)\n",
    "fig, ax = plt.subplots(figsize = (8, 6))\n",
    "ax.set_title('Word Cloud Data Tweet Netral', fontsize = 18)\n",
    "ax.grid(False)\n",
    "ax.imshow((wordcloud))\n",
    "fig.tight_layout(pad=0)\n",
    "ax.axis('off')\n",
    "plt.show()"
   ]
  },
  {
   "cell_type": "code",
   "execution_count": null,
   "metadata": {},
   "outputs": [],
   "source": [
    "X_test_1 = []\n",
    "lagi = ''\n",
    "\n",
    "while lagi != 'n':\n",
    "    tweet_x= input(\"Input tweet: \")\n",
    "    lagi= input(\"Input Lagi (y/n):\")\n",
    "\n",
    "    X_test_1.append(tweet_x)"
   ]
  },
  {
   "cell_type": "code",
   "execution_count": null,
   "metadata": {},
   "outputs": [],
   "source": [
    "preprocessed_text = []\n",
    "for i in range(0, len(X_test_1)):\n",
    "    preprocessed_text.append(process_tweet(X_test_1[i]))\n",
    "\n",
    "X_test_2 = preprocessed_text"
   ]
  },
  {
   "cell_type": "code",
   "execution_count": null,
   "metadata": {},
   "outputs": [],
   "source": [
    "predicting\n",
    "y_pred = nb.predict(X_test_2)"
   ]
  },
  {
   "cell_type": "code",
   "execution_count": null,
   "metadata": {},
   "outputs": [],
   "source": [
    "hasil_1 = pd.DataFrame(list(zip(X_test_1, X_test_2, y_pred)),\n",
    "               columns =['Tweet', 'Tweet_Processed', 'Sentimen'])\n",
    "hasil_1['Sentimen'].replace((0, 1, 2), ('neutral', 'positive', 'negative'), inplace=True)\n"
   ]
  },
  {
   "cell_type": "code",
   "execution_count": null,
   "metadata": {},
   "outputs": [],
   "source": [
    "pd.set_option('display.max_colwidth', 3000)\n",
    "hasil_1"
   ]
  },
  {
   "cell_type": "markdown",
   "metadata": {},
   "source": [
    "# Test Data Dari Twitter #"
   ]
  },
  {
   "cell_type": "code",
   "execution_count": 27,
   "metadata": {},
   "outputs": [
    {
     "name": "stdout",
     "output_type": "stream",
     "text": [
      "Masukan Kata Kunci:malas\n",
      "Masukan Jumlah Tweets:10\n",
      "[Status(_api=<tweepy.api.API object at 0x00000152E6A92CD0>, _json={'created_at': 'Sat Feb 12 16:07:30 +0000 2022', 'id': 1492530814168571906, 'id_str': '1492530814168571906', 'text': 'La nueva versión de rebelde es como rbd pero con 1 par de maricas malas estoy--------', 'truncated': False, 'entities': {'hashtags': [], 'symbols': [], 'user_mentions': [], 'urls': []}, 'metadata': {'iso_language_code': 'es', 'result_type': 'recent'}, 'source': '<a href=\"http://twitter.com/download/android\" rel=\"nofollow\">Twitter for Android</a>', 'in_reply_to_status_id': None, 'in_reply_to_status_id_str': None, 'in_reply_to_user_id': None, 'in_reply_to_user_id_str': None, 'in_reply_to_screen_name': None, 'user': {'id': 1055526270312812545, 'id_str': '1055526270312812545', 'name': 'susana 👹', 'screen_name': 'susanssss_', 'location': '💩', 'description': 'arrastrada x la vida cual cucaracha.\\n Fan de Rafaella Carra x supuesto xq es la reina del universo rumore rumore.', 'url': None, 'entities': {'description': {'urls': []}}, 'protected': False, 'followers_count': 165, 'friends_count': 175, 'listed_count': 1, 'created_at': 'Thu Oct 25 18:27:28 +0000 2018', 'favourites_count': 6580, 'utc_offset': None, 'time_zone': None, 'geo_enabled': False, 'verified': False, 'statuses_count': 3230, 'lang': None, 'contributors_enabled': False, 'is_translator': False, 'is_translation_enabled': False, 'profile_background_color': 'F5F8FA', 'profile_background_image_url': None, 'profile_background_image_url_https': None, 'profile_background_tile': False, 'profile_image_url': 'http://pbs.twimg.com/profile_images/1483570446348042245/LgaF1bea_normal.jpg', 'profile_image_url_https': 'https://pbs.twimg.com/profile_images/1483570446348042245/LgaF1bea_normal.jpg', 'profile_banner_url': 'https://pbs.twimg.com/profile_banners/1055526270312812545/1642545776', 'profile_link_color': '1DA1F2', 'profile_sidebar_border_color': 'C0DEED', 'profile_sidebar_fill_color': 'DDEEF6', 'profile_text_color': '333333', 'profile_use_background_image': True, 'has_extended_profile': True, 'default_profile': True, 'default_profile_image': False, 'following': False, 'follow_request_sent': False, 'notifications': False, 'translator_type': 'none', 'withheld_in_countries': []}, 'geo': None, 'coordinates': None, 'place': None, 'contributors': None, 'is_quote_status': False, 'retweet_count': 0, 'favorite_count': 0, 'favorited': False, 'retweeted': False, 'lang': 'es'}, created_at=datetime.datetime(2022, 2, 12, 16, 7, 30, tzinfo=datetime.timezone.utc), id=1492530814168571906, id_str='1492530814168571906', text='La nueva versión de rebelde es como rbd pero con 1 par de maricas malas estoy--------', truncated=False, entities={'hashtags': [], 'symbols': [], 'user_mentions': [], 'urls': []}, metadata={'iso_language_code': 'es', 'result_type': 'recent'}, source='Twitter for Android', source_url='http://twitter.com/download/android', in_reply_to_status_id=None, in_reply_to_status_id_str=None, in_reply_to_user_id=None, in_reply_to_user_id_str=None, in_reply_to_screen_name=None, author=User(_api=<tweepy.api.API object at 0x00000152E6A92CD0>, _json={'id': 1055526270312812545, 'id_str': '1055526270312812545', 'name': 'susana 👹', 'screen_name': 'susanssss_', 'location': '💩', 'description': 'arrastrada x la vida cual cucaracha.\\n Fan de Rafaella Carra x supuesto xq es la reina del universo rumore rumore.', 'url': None, 'entities': {'description': {'urls': []}}, 'protected': False, 'followers_count': 165, 'friends_count': 175, 'listed_count': 1, 'created_at': 'Thu Oct 25 18:27:28 +0000 2018', 'favourites_count': 6580, 'utc_offset': None, 'time_zone': None, 'geo_enabled': False, 'verified': False, 'statuses_count': 3230, 'lang': None, 'contributors_enabled': False, 'is_translator': False, 'is_translation_enabled': False, 'profile_background_color': 'F5F8FA', 'profile_background_image_url': None, 'profile_background_image_url_https': None, 'profile_background_tile': False, 'profile_image_url': 'http://pbs.twimg.com/profile_images/1483570446348042245/LgaF1bea_normal.jpg', 'profile_image_url_https': 'https://pbs.twimg.com/profile_images/1483570446348042245/LgaF1bea_normal.jpg', 'profile_banner_url': 'https://pbs.twimg.com/profile_banners/1055526270312812545/1642545776', 'profile_link_color': '1DA1F2', 'profile_sidebar_border_color': 'C0DEED', 'profile_sidebar_fill_color': 'DDEEF6', 'profile_text_color': '333333', 'profile_use_background_image': True, 'has_extended_profile': True, 'default_profile': True, 'default_profile_image': False, 'following': False, 'follow_request_sent': False, 'notifications': False, 'translator_type': 'none', 'withheld_in_countries': []}, id=1055526270312812545, id_str='1055526270312812545', name='susana 👹', screen_name='susanssss_', location='💩', description='arrastrada x la vida cual cucaracha.\\n Fan de Rafaella Carra x supuesto xq es la reina del universo rumore rumore.', url=None, entities={'description': {'urls': []}}, protected=False, followers_count=165, friends_count=175, listed_count=1, created_at=datetime.datetime(2018, 10, 25, 18, 27, 28, tzinfo=datetime.timezone.utc), favourites_count=6580, utc_offset=None, time_zone=None, geo_enabled=False, verified=False, statuses_count=3230, lang=None, contributors_enabled=False, is_translator=False, is_translation_enabled=False, profile_background_color='F5F8FA', profile_background_image_url=None, profile_background_image_url_https=None, profile_background_tile=False, profile_image_url='http://pbs.twimg.com/profile_images/1483570446348042245/LgaF1bea_normal.jpg', profile_image_url_https='https://pbs.twimg.com/profile_images/1483570446348042245/LgaF1bea_normal.jpg', profile_banner_url='https://pbs.twimg.com/profile_banners/1055526270312812545/1642545776', profile_link_color='1DA1F2', profile_sidebar_border_color='C0DEED', profile_sidebar_fill_color='DDEEF6', profile_text_color='333333', profile_use_background_image=True, has_extended_profile=True, default_profile=True, default_profile_image=False, following=False, follow_request_sent=False, notifications=False, translator_type='none', withheld_in_countries=[]), user=User(_api=<tweepy.api.API object at 0x00000152E6A92CD0>, _json={'id': 1055526270312812545, 'id_str': '1055526270312812545', 'name': 'susana 👹', 'screen_name': 'susanssss_', 'location': '💩', 'description': 'arrastrada x la vida cual cucaracha.\\n Fan de Rafaella Carra x supuesto xq es la reina del universo rumore rumore.', 'url': None, 'entities': {'description': {'urls': []}}, 'protected': False, 'followers_count': 165, 'friends_count': 175, 'listed_count': 1, 'created_at': 'Thu Oct 25 18:27:28 +0000 2018', 'favourites_count': 6580, 'utc_offset': None, 'time_zone': None, 'geo_enabled': False, 'verified': False, 'statuses_count': 3230, 'lang': None, 'contributors_enabled': False, 'is_translator': False, 'is_translation_enabled': False, 'profile_background_color': 'F5F8FA', 'profile_background_image_url': None, 'profile_background_image_url_https': None, 'profile_background_tile': False, 'profile_image_url': 'http://pbs.twimg.com/profile_images/1483570446348042245/LgaF1bea_normal.jpg', 'profile_image_url_https': 'https://pbs.twimg.com/profile_images/1483570446348042245/LgaF1bea_normal.jpg', 'profile_banner_url': 'https://pbs.twimg.com/profile_banners/1055526270312812545/1642545776', 'profile_link_color': '1DA1F2', 'profile_sidebar_border_color': 'C0DEED', 'profile_sidebar_fill_color': 'DDEEF6', 'profile_text_color': '333333', 'profile_use_background_image': True, 'has_extended_profile': True, 'default_profile': True, 'default_profile_image': False, 'following': False, 'follow_request_sent': False, 'notifications': False, 'translator_type': 'none', 'withheld_in_countries': []}, id=1055526270312812545, id_str='1055526270312812545', name='susana 👹', screen_name='susanssss_', location='💩', description='arrastrada x la vida cual cucaracha.\\n Fan de Rafaella Carra x supuesto xq es la reina del universo rumore rumore.', url=None, entities={'description': {'urls': []}}, protected=False, followers_count=165, friends_count=175, listed_count=1, created_at=datetime.datetime(2018, 10, 25, 18, 27, 28, tzinfo=datetime.timezone.utc), favourites_count=6580, utc_offset=None, time_zone=None, geo_enabled=False, verified=False, statuses_count=3230, lang=None, contributors_enabled=False, is_translator=False, is_translation_enabled=False, profile_background_color='F5F8FA', profile_background_image_url=None, profile_background_image_url_https=None, profile_background_tile=False, profile_image_url='http://pbs.twimg.com/profile_images/1483570446348042245/LgaF1bea_normal.jpg', profile_image_url_https='https://pbs.twimg.com/profile_images/1483570446348042245/LgaF1bea_normal.jpg', profile_banner_url='https://pbs.twimg.com/profile_banners/1055526270312812545/1642545776', profile_link_color='1DA1F2', profile_sidebar_border_color='C0DEED', profile_sidebar_fill_color='DDEEF6', profile_text_color='333333', profile_use_background_image=True, has_extended_profile=True, default_profile=True, default_profile_image=False, following=False, follow_request_sent=False, notifications=False, translator_type='none', withheld_in_countries=[]), geo=None, coordinates=None, place=None, contributors=None, is_quote_status=False, retweet_count=0, favorite_count=0, favorited=False, retweeted=False, lang='es'), Status(_api=<tweepy.api.API object at 0x00000152E6A92CD0>, _json={'created_at': 'Sat Feb 12 16:07:30 +0000 2022', 'id': 1492530812138364930, 'id_str': '1492530812138364930', 'text': 'RT @funes_bri: un día sos joven y al otro crees en el universo, el Karma, las malas energías,la ley de atracción y vas por la vida prendien…', 'truncated': False, 'entities': {'hashtags': [], 'symbols': [], 'user_mentions': [{'screen_name': 'funes_bri', 'name': 'Bri🐞', 'id': 894058082405318656, 'id_str': '894058082405318656', 'indices': [3, 13]}], 'urls': []}, 'metadata': {'iso_language_code': 'es', 'result_type': 'recent'}, 'source': '<a href=\"http://twitter.com/download/android\" rel=\"nofollow\">Twitter for Android</a>', 'in_reply_to_status_id': None, 'in_reply_to_status_id_str': None, 'in_reply_to_user_id': None, 'in_reply_to_user_id_str': None, 'in_reply_to_screen_name': None, 'user': {'id': 1224957813652410368, 'id_str': '1224957813652410368', 'name': 'OFF', 'screen_name': 'Soffffffffy', 'location': '', 'description': '♻️', 'url': 'https://t.co/uFwMmLFOke', 'entities': {'url': {'urls': [{'url': 'https://t.co/uFwMmLFOke', 'expanded_url': 'https://instagram.com/soffffffff__', 'display_url': 'instagram.com/soffffffff__', 'indices': [0, 23]}]}, 'description': {'urls': []}}, 'protected': False, 'followers_count': 82, 'friends_count': 59, 'listed_count': 0, 'created_at': 'Wed Feb 05 07:28:11 +0000 2020', 'favourites_count': 14990, 'utc_offset': None, 'time_zone': None, 'geo_enabled': False, 'verified': False, 'statuses_count': 21360, 'lang': None, 'contributors_enabled': False, 'is_translator': False, 'is_translation_enabled': False, 'profile_background_color': 'F5F8FA', 'profile_background_image_url': None, 'profile_background_image_url_https': None, 'profile_background_tile': False, 'profile_image_url': 'http://pbs.twimg.com/profile_images/1483553895011938305/LuLboyWV_normal.jpg', 'profile_image_url_https': 'https://pbs.twimg.com/profile_images/1483553895011938305/LuLboyWV_normal.jpg', 'profile_banner_url': 'https://pbs.twimg.com/profile_banners/1224957813652410368/1634443071', 'profile_link_color': '1DA1F2', 'profile_sidebar_border_color': 'C0DEED', 'profile_sidebar_fill_color': 'DDEEF6', 'profile_text_color': '333333', 'profile_use_background_image': True, 'has_extended_profile': False, 'default_profile': True, 'default_profile_image': False, 'following': False, 'follow_request_sent': False, 'notifications': False, 'translator_type': 'none', 'withheld_in_countries': []}, 'geo': None, 'coordinates': None, 'place': None, 'contributors': None, 'retweeted_status': {'created_at': 'Thu Feb 10 19:06:29 +0000 2022', 'id': 1491851081642496010, 'id_str': '1491851081642496010', 'text': 'un día sos joven y al otro crees en el universo, el Karma, las malas energías,la ley de atracción y vas por la vida prendiendo sahumerios', 'truncated': False, 'entities': {'hashtags': [], 'symbols': [], 'user_mentions': [], 'urls': []}, 'metadata': {'iso_language_code': 'es', 'result_type': 'recent'}, 'source': '<a href=\"http://twitter.com/download/iphone\" rel=\"nofollow\">Twitter for iPhone</a>', 'in_reply_to_status_id': None, 'in_reply_to_status_id_str': None, 'in_reply_to_user_id': None, 'in_reply_to_user_id_str': None, 'in_reply_to_screen_name': None, 'user': {'id': 894058082405318656, 'id_str': '894058082405318656', 'name': 'Bri🐞', 'screen_name': 'funes_bri', 'location': 'San Juan, Argentina', 'description': '', 'url': 'https://t.co/zbTN3jgxoY', 'entities': {'url': {'urls': [{'url': 'https://t.co/zbTN3jgxoY', 'expanded_url': 'https://instagram.com/brifunes03?r=nametag', 'display_url': 'instagram.com/brifunes03?r=n…', 'indices': [0, 23]}]}, 'description': {'urls': []}}, 'protected': False, 'followers_count': 134, 'friends_count': 266, 'listed_count': 0, 'created_at': 'Sun Aug 06 04:50:32 +0000 2017', 'favourites_count': 10512, 'utc_offset': None, 'time_zone': None, 'geo_enabled': False, 'verified': False, 'statuses_count': 758, 'lang': None, 'contributors_enabled': False, 'is_translator': False, 'is_translation_enabled': False, 'profile_background_color': 'F5F8FA', 'profile_background_image_url': None, 'profile_background_image_url_https': None, 'profile_background_tile': False, 'profile_image_url': 'http://pbs.twimg.com/profile_images/1483306969322737672/ci3qhGoT_normal.jpg', 'profile_image_url_https': 'https://pbs.twimg.com/profile_images/1483306969322737672/ci3qhGoT_normal.jpg', 'profile_banner_url': 'https://pbs.twimg.com/profile_banners/894058082405318656/1638467640', 'profile_link_color': '1DA1F2', 'profile_sidebar_border_color': 'C0DEED', 'profile_sidebar_fill_color': 'DDEEF6', 'profile_text_color': '333333', 'profile_use_background_image': True, 'has_extended_profile': True, 'default_profile': True, 'default_profile_image': False, 'following': False, 'follow_request_sent': False, 'notifications': False, 'translator_type': 'none', 'withheld_in_countries': []}, 'geo': None, 'coordinates': None, 'place': None, 'contributors': None, 'is_quote_status': False, 'retweet_count': 11857, 'favorite_count': 39089, 'favorited': False, 'retweeted': False, 'lang': 'es'}, 'is_quote_status': False, 'retweet_count': 11857, 'favorite_count': 0, 'favorited': False, 'retweeted': False, 'lang': 'es'}, created_at=datetime.datetime(2022, 2, 12, 16, 7, 30, tzinfo=datetime.timezone.utc), id=1492530812138364930, id_str='1492530812138364930', text='RT @funes_bri: un día sos joven y al otro crees en el universo, el Karma, las malas energías,la ley de atracción y vas por la vida prendien…', truncated=False, entities={'hashtags': [], 'symbols': [], 'user_mentions': [{'screen_name': 'funes_bri', 'name': 'Bri🐞', 'id': 894058082405318656, 'id_str': '894058082405318656', 'indices': [3, 13]}], 'urls': []}, metadata={'iso_language_code': 'es', 'result_type': 'recent'}, source='Twitter for Android', source_url='http://twitter.com/download/android', in_reply_to_status_id=None, in_reply_to_status_id_str=None, in_reply_to_user_id=None, in_reply_to_user_id_str=None, in_reply_to_screen_name=None, author=User(_api=<tweepy.api.API object at 0x00000152E6A92CD0>, _json={'id': 1224957813652410368, 'id_str': '1224957813652410368', 'name': 'OFF', 'screen_name': 'Soffffffffy', 'location': '', 'description': '♻️', 'url': 'https://t.co/uFwMmLFOke', 'entities': {'url': {'urls': [{'url': 'https://t.co/uFwMmLFOke', 'expanded_url': 'https://instagram.com/soffffffff__', 'display_url': 'instagram.com/soffffffff__', 'indices': [0, 23]}]}, 'description': {'urls': []}}, 'protected': False, 'followers_count': 82, 'friends_count': 59, 'listed_count': 0, 'created_at': 'Wed Feb 05 07:28:11 +0000 2020', 'favourites_count': 14990, 'utc_offset': None, 'time_zone': None, 'geo_enabled': False, 'verified': False, 'statuses_count': 21360, 'lang': None, 'contributors_enabled': False, 'is_translator': False, 'is_translation_enabled': False, 'profile_background_color': 'F5F8FA', 'profile_background_image_url': None, 'profile_background_image_url_https': None, 'profile_background_tile': False, 'profile_image_url': 'http://pbs.twimg.com/profile_images/1483553895011938305/LuLboyWV_normal.jpg', 'profile_image_url_https': 'https://pbs.twimg.com/profile_images/1483553895011938305/LuLboyWV_normal.jpg', 'profile_banner_url': 'https://pbs.twimg.com/profile_banners/1224957813652410368/1634443071', 'profile_link_color': '1DA1F2', 'profile_sidebar_border_color': 'C0DEED', 'profile_sidebar_fill_color': 'DDEEF6', 'profile_text_color': '333333', 'profile_use_background_image': True, 'has_extended_profile': False, 'default_profile': True, 'default_profile_image': False, 'following': False, 'follow_request_sent': False, 'notifications': False, 'translator_type': 'none', 'withheld_in_countries': []}, id=1224957813652410368, id_str='1224957813652410368', name='OFF', screen_name='Soffffffffy', location='', description='♻️', url='https://t.co/uFwMmLFOke', entities={'url': {'urls': [{'url': 'https://t.co/uFwMmLFOke', 'expanded_url': 'https://instagram.com/soffffffff__', 'display_url': 'instagram.com/soffffffff__', 'indices': [0, 23]}]}, 'description': {'urls': []}}, protected=False, followers_count=82, friends_count=59, listed_count=0, created_at=datetime.datetime(2020, 2, 5, 7, 28, 11, tzinfo=datetime.timezone.utc), favourites_count=14990, utc_offset=None, time_zone=None, geo_enabled=False, verified=False, statuses_count=21360, lang=None, contributors_enabled=False, is_translator=False, is_translation_enabled=False, profile_background_color='F5F8FA', profile_background_image_url=None, profile_background_image_url_https=None, profile_background_tile=False, profile_image_url='http://pbs.twimg.com/profile_images/1483553895011938305/LuLboyWV_normal.jpg', profile_image_url_https='https://pbs.twimg.com/profile_images/1483553895011938305/LuLboyWV_normal.jpg', profile_banner_url='https://pbs.twimg.com/profile_banners/1224957813652410368/1634443071', profile_link_color='1DA1F2', profile_sidebar_border_color='C0DEED', profile_sidebar_fill_color='DDEEF6', profile_text_color='333333', profile_use_background_image=True, has_extended_profile=False, default_profile=True, default_profile_image=False, following=False, follow_request_sent=False, notifications=False, translator_type='none', withheld_in_countries=[]), user=User(_api=<tweepy.api.API object at 0x00000152E6A92CD0>, _json={'id': 1224957813652410368, 'id_str': '1224957813652410368', 'name': 'OFF', 'screen_name': 'Soffffffffy', 'location': '', 'description': '♻️', 'url': 'https://t.co/uFwMmLFOke', 'entities': {'url': {'urls': [{'url': 'https://t.co/uFwMmLFOke', 'expanded_url': 'https://instagram.com/soffffffff__', 'display_url': 'instagram.com/soffffffff__', 'indices': [0, 23]}]}, 'description': {'urls': []}}, 'protected': False, 'followers_count': 82, 'friends_count': 59, 'listed_count': 0, 'created_at': 'Wed Feb 05 07:28:11 +0000 2020', 'favourites_count': 14990, 'utc_offset': None, 'time_zone': None, 'geo_enabled': False, 'verified': False, 'statuses_count': 21360, 'lang': None, 'contributors_enabled': False, 'is_translator': False, 'is_translation_enabled': False, 'profile_background_color': 'F5F8FA', 'profile_background_image_url': None, 'profile_background_image_url_https': None, 'profile_background_tile': False, 'profile_image_url': 'http://pbs.twimg.com/profile_images/1483553895011938305/LuLboyWV_normal.jpg', 'profile_image_url_https': 'https://pbs.twimg.com/profile_images/1483553895011938305/LuLboyWV_normal.jpg', 'profile_banner_url': 'https://pbs.twimg.com/profile_banners/1224957813652410368/1634443071', 'profile_link_color': '1DA1F2', 'profile_sidebar_border_color': 'C0DEED', 'profile_sidebar_fill_color': 'DDEEF6', 'profile_text_color': '333333', 'profile_use_background_image': True, 'has_extended_profile': False, 'default_profile': True, 'default_profile_image': False, 'following': False, 'follow_request_sent': False, 'notifications': False, 'translator_type': 'none', 'withheld_in_countries': []}, id=1224957813652410368, id_str='1224957813652410368', name='OFF', screen_name='Soffffffffy', location='', description='♻️', url='https://t.co/uFwMmLFOke', entities={'url': {'urls': [{'url': 'https://t.co/uFwMmLFOke', 'expanded_url': 'https://instagram.com/soffffffff__', 'display_url': 'instagram.com/soffffffff__', 'indices': [0, 23]}]}, 'description': {'urls': []}}, protected=False, followers_count=82, friends_count=59, listed_count=0, created_at=datetime.datetime(2020, 2, 5, 7, 28, 11, tzinfo=datetime.timezone.utc), favourites_count=14990, utc_offset=None, time_zone=None, geo_enabled=False, verified=False, statuses_count=21360, lang=None, contributors_enabled=False, is_translator=False, is_translation_enabled=False, profile_background_color='F5F8FA', profile_background_image_url=None, profile_background_image_url_https=None, profile_background_tile=False, profile_image_url='http://pbs.twimg.com/profile_images/1483553895011938305/LuLboyWV_normal.jpg', profile_image_url_https='https://pbs.twimg.com/profile_images/1483553895011938305/LuLboyWV_normal.jpg', profile_banner_url='https://pbs.twimg.com/profile_banners/1224957813652410368/1634443071', profile_link_color='1DA1F2', profile_sidebar_border_color='C0DEED', profile_sidebar_fill_color='DDEEF6', profile_text_color='333333', profile_use_background_image=True, has_extended_profile=False, default_profile=True, default_profile_image=False, following=False, follow_request_sent=False, notifications=False, translator_type='none', withheld_in_countries=[]), geo=None, coordinates=None, place=None, contributors=None, retweeted_status=Status(_api=<tweepy.api.API object at 0x00000152E6A92CD0>, _json={'created_at': 'Thu Feb 10 19:06:29 +0000 2022', 'id': 1491851081642496010, 'id_str': '1491851081642496010', 'text': 'un día sos joven y al otro crees en el universo, el Karma, las malas energías,la ley de atracción y vas por la vida prendiendo sahumerios', 'truncated': False, 'entities': {'hashtags': [], 'symbols': [], 'user_mentions': [], 'urls': []}, 'metadata': {'iso_language_code': 'es', 'result_type': 'recent'}, 'source': '<a href=\"http://twitter.com/download/iphone\" rel=\"nofollow\">Twitter for iPhone</a>', 'in_reply_to_status_id': None, 'in_reply_to_status_id_str': None, 'in_reply_to_user_id': None, 'in_reply_to_user_id_str': None, 'in_reply_to_screen_name': None, 'user': {'id': 894058082405318656, 'id_str': '894058082405318656', 'name': 'Bri🐞', 'screen_name': 'funes_bri', 'location': 'San Juan, Argentina', 'description': '', 'url': 'https://t.co/zbTN3jgxoY', 'entities': {'url': {'urls': [{'url': 'https://t.co/zbTN3jgxoY', 'expanded_url': 'https://instagram.com/brifunes03?r=nametag', 'display_url': 'instagram.com/brifunes03?r=n…', 'indices': [0, 23]}]}, 'description': {'urls': []}}, 'protected': False, 'followers_count': 134, 'friends_count': 266, 'listed_count': 0, 'created_at': 'Sun Aug 06 04:50:32 +0000 2017', 'favourites_count': 10512, 'utc_offset': None, 'time_zone': None, 'geo_enabled': False, 'verified': False, 'statuses_count': 758, 'lang': None, 'contributors_enabled': False, 'is_translator': False, 'is_translation_enabled': False, 'profile_background_color': 'F5F8FA', 'profile_background_image_url': None, 'profile_background_image_url_https': None, 'profile_background_tile': False, 'profile_image_url': 'http://pbs.twimg.com/profile_images/1483306969322737672/ci3qhGoT_normal.jpg', 'profile_image_url_https': 'https://pbs.twimg.com/profile_images/1483306969322737672/ci3qhGoT_normal.jpg', 'profile_banner_url': 'https://pbs.twimg.com/profile_banners/894058082405318656/1638467640', 'profile_link_color': '1DA1F2', 'profile_sidebar_border_color': 'C0DEED', 'profile_sidebar_fill_color': 'DDEEF6', 'profile_text_color': '333333', 'profile_use_background_image': True, 'has_extended_profile': True, 'default_profile': True, 'default_profile_image': False, 'following': False, 'follow_request_sent': False, 'notifications': False, 'translator_type': 'none', 'withheld_in_countries': []}, 'geo': None, 'coordinates': None, 'place': None, 'contributors': None, 'is_quote_status': False, 'retweet_count': 11857, 'favorite_count': 39089, 'favorited': False, 'retweeted': False, 'lang': 'es'}, created_at=datetime.datetime(2022, 2, 10, 19, 6, 29, tzinfo=datetime.timezone.utc), id=1491851081642496010, id_str='1491851081642496010', text='un día sos joven y al otro crees en el universo, el Karma, las malas energías,la ley de atracción y vas por la vida prendiendo sahumerios', truncated=False, entities={'hashtags': [], 'symbols': [], 'user_mentions': [], 'urls': []}, metadata={'iso_language_code': 'es', 'result_type': 'recent'}, source='Twitter for iPhone', source_url='http://twitter.com/download/iphone', in_reply_to_status_id=None, in_reply_to_status_id_str=None, in_reply_to_user_id=None, in_reply_to_user_id_str=None, in_reply_to_screen_name=None, author=User(_api=<tweepy.api.API object at 0x00000152E6A92CD0>, _json={'id': 894058082405318656, 'id_str': '894058082405318656', 'name': 'Bri🐞', 'screen_name': 'funes_bri', 'location': 'San Juan, Argentina', 'description': '', 'url': 'https://t.co/zbTN3jgxoY', 'entities': {'url': {'urls': [{'url': 'https://t.co/zbTN3jgxoY', 'expanded_url': 'https://instagram.com/brifunes03?r=nametag', 'display_url': 'instagram.com/brifunes03?r=n…', 'indices': [0, 23]}]}, 'description': {'urls': []}}, 'protected': False, 'followers_count': 134, 'friends_count': 266, 'listed_count': 0, 'created_at': 'Sun Aug 06 04:50:32 +0000 2017', 'favourites_count': 10512, 'utc_offset': None, 'time_zone': None, 'geo_enabled': False, 'verified': False, 'statuses_count': 758, 'lang': None, 'contributors_enabled': False, 'is_translator': False, 'is_translation_enabled': False, 'profile_background_color': 'F5F8FA', 'profile_background_image_url': None, 'profile_background_image_url_https': None, 'profile_background_tile': False, 'profile_image_url': 'http://pbs.twimg.com/profile_images/1483306969322737672/ci3qhGoT_normal.jpg', 'profile_image_url_https': 'https://pbs.twimg.com/profile_images/1483306969322737672/ci3qhGoT_normal.jpg', 'profile_banner_url': 'https://pbs.twimg.com/profile_banners/894058082405318656/1638467640', 'profile_link_color': '1DA1F2', 'profile_sidebar_border_color': 'C0DEED', 'profile_sidebar_fill_color': 'DDEEF6', 'profile_text_color': '333333', 'profile_use_background_image': True, 'has_extended_profile': True, 'default_profile': True, 'default_profile_image': False, 'following': False, 'follow_request_sent': False, 'notifications': False, 'translator_type': 'none', 'withheld_in_countries': []}, id=894058082405318656, id_str='894058082405318656', name='Bri🐞', screen_name='funes_bri', location='San Juan, Argentina', description='', url='https://t.co/zbTN3jgxoY', entities={'url': {'urls': [{'url': 'https://t.co/zbTN3jgxoY', 'expanded_url': 'https://instagram.com/brifunes03?r=nametag', 'display_url': 'instagram.com/brifunes03?r=n…', 'indices': [0, 23]}]}, 'description': {'urls': []}}, protected=False, followers_count=134, friends_count=266, listed_count=0, created_at=datetime.datetime(2017, 8, 6, 4, 50, 32, tzinfo=datetime.timezone.utc), favourites_count=10512, utc_offset=None, time_zone=None, geo_enabled=False, verified=False, statuses_count=758, lang=None, contributors_enabled=False, is_translator=False, is_translation_enabled=False, profile_background_color='F5F8FA', profile_background_image_url=None, profile_background_image_url_https=None, profile_background_tile=False, profile_image_url='http://pbs.twimg.com/profile_images/1483306969322737672/ci3qhGoT_normal.jpg', profile_image_url_https='https://pbs.twimg.com/profile_images/1483306969322737672/ci3qhGoT_normal.jpg', profile_banner_url='https://pbs.twimg.com/profile_banners/894058082405318656/1638467640', profile_link_color='1DA1F2', profile_sidebar_border_color='C0DEED', profile_sidebar_fill_color='DDEEF6', profile_text_color='333333', profile_use_background_image=True, has_extended_profile=True, default_profile=True, default_profile_image=False, following=False, follow_request_sent=False, notifications=False, translator_type='none', withheld_in_countries=[]), user=User(_api=<tweepy.api.API object at 0x00000152E6A92CD0>, _json={'id': 894058082405318656, 'id_str': '894058082405318656', 'name': 'Bri🐞', 'screen_name': 'funes_bri', 'location': 'San Juan, Argentina', 'description': '', 'url': 'https://t.co/zbTN3jgxoY', 'entities': {'url': {'urls': [{'url': 'https://t.co/zbTN3jgxoY', 'expanded_url': 'https://instagram.com/brifunes03?r=nametag', 'display_url': 'instagram.com/brifunes03?r=n…', 'indices': [0, 23]}]}, 'description': {'urls': []}}, 'protected': False, 'followers_count': 134, 'friends_count': 266, 'listed_count': 0, 'created_at': 'Sun Aug 06 04:50:32 +0000 2017', 'favourites_count': 10512, 'utc_offset': None, 'time_zone': None, 'geo_enabled': False, 'verified': False, 'statuses_count': 758, 'lang': None, 'contributors_enabled': False, 'is_translator': False, 'is_translation_enabled': False, 'profile_background_color': 'F5F8FA', 'profile_background_image_url': None, 'profile_background_image_url_https': None, 'profile_background_tile': False, 'profile_image_url': 'http://pbs.twimg.com/profile_images/1483306969322737672/ci3qhGoT_normal.jpg', 'profile_image_url_https': 'https://pbs.twimg.com/profile_images/1483306969322737672/ci3qhGoT_normal.jpg', 'profile_banner_url': 'https://pbs.twimg.com/profile_banners/894058082405318656/1638467640', 'profile_link_color': '1DA1F2', 'profile_sidebar_border_color': 'C0DEED', 'profile_sidebar_fill_color': 'DDEEF6', 'profile_text_color': '333333', 'profile_use_background_image': True, 'has_extended_profile': True, 'default_profile': True, 'default_profile_image': False, 'following': False, 'follow_request_sent': False, 'notifications': False, 'translator_type': 'none', 'withheld_in_countries': []}, id=894058082405318656, id_str='894058082405318656', name='Bri🐞', screen_name='funes_bri', location='San Juan, Argentina', description='', url='https://t.co/zbTN3jgxoY', entities={'url': {'urls': [{'url': 'https://t.co/zbTN3jgxoY', 'expanded_url': 'https://instagram.com/brifunes03?r=nametag', 'display_url': 'instagram.com/brifunes03?r=n…', 'indices': [0, 23]}]}, 'description': {'urls': []}}, protected=False, followers_count=134, friends_count=266, listed_count=0, created_at=datetime.datetime(2017, 8, 6, 4, 50, 32, tzinfo=datetime.timezone.utc), favourites_count=10512, utc_offset=None, time_zone=None, geo_enabled=False, verified=False, statuses_count=758, lang=None, contributors_enabled=False, is_translator=False, is_translation_enabled=False, profile_background_color='F5F8FA', profile_background_image_url=None, profile_background_image_url_https=None, profile_background_tile=False, profile_image_url='http://pbs.twimg.com/profile_images/1483306969322737672/ci3qhGoT_normal.jpg', profile_image_url_https='https://pbs.twimg.com/profile_images/1483306969322737672/ci3qhGoT_normal.jpg', profile_banner_url='https://pbs.twimg.com/profile_banners/894058082405318656/1638467640', profile_link_color='1DA1F2', profile_sidebar_border_color='C0DEED', profile_sidebar_fill_color='DDEEF6', profile_text_color='333333', profile_use_background_image=True, has_extended_profile=True, default_profile=True, default_profile_image=False, following=False, follow_request_sent=False, notifications=False, translator_type='none', withheld_in_countries=[]), geo=None, coordinates=None, place=None, contributors=None, is_quote_status=False, retweet_count=11857, favorite_count=39089, favorited=False, retweeted=False, lang='es'), is_quote_status=False, retweet_count=11857, favorite_count=0, favorited=False, retweeted=False, lang='es'), Status(_api=<tweepy.api.API object at 0x00000152E6A92CD0>, _json={'created_at': 'Sat Feb 12 16:07:28 +0000 2022', 'id': 1492530804605566986, 'id_str': '1492530804605566986', 'text': 'RT @Anggiesala_12: No sean malas personas con alguien que aunque no tuviera mucho se los brindó todo.', 'truncated': False, 'entities': {'hashtags': [], 'symbols': [], 'user_mentions': [{'screen_name': 'Anggiesala_12', 'name': 'Anggie Salamanca', 'id': 1443687102412111874, 'id_str': '1443687102412111874', 'indices': [3, 17]}], 'urls': []}, 'metadata': {'iso_language_code': 'es', 'result_type': 'recent'}, 'source': '<a href=\"http://twitter.com/download/android\" rel=\"nofollow\">Twitter for Android</a>', 'in_reply_to_status_id': None, 'in_reply_to_status_id_str': None, 'in_reply_to_user_id': None, 'in_reply_to_user_id_str': None, 'in_reply_to_screen_name': None, 'user': {'id': 1064202093043609600, 'id_str': '1064202093043609600', 'name': 'camilo! 🐘', 'screen_name': 'itscamilo1', 'location': '', 'description': 'hola!', 'url': None, 'entities': {'description': {'urls': []}}, 'protected': False, 'followers_count': 201, 'friends_count': 178, 'listed_count': 0, 'created_at': 'Sun Nov 18 17:02:05 +0000 2018', 'favourites_count': 28571, 'utc_offset': None, 'time_zone': None, 'geo_enabled': False, 'verified': False, 'statuses_count': 15401, 'lang': None, 'contributors_enabled': False, 'is_translator': False, 'is_translation_enabled': False, 'profile_background_color': 'F5F8FA', 'profile_background_image_url': None, 'profile_background_image_url_https': None, 'profile_background_tile': False, 'profile_image_url': 'http://pbs.twimg.com/profile_images/1349950176270692352/hpFOHHuO_normal.jpg', 'profile_image_url_https': 'https://pbs.twimg.com/profile_images/1349950176270692352/hpFOHHuO_normal.jpg', 'profile_banner_url': 'https://pbs.twimg.com/profile_banners/1064202093043609600/1607059383', 'profile_link_color': '1DA1F2', 'profile_sidebar_border_color': 'C0DEED', 'profile_sidebar_fill_color': 'DDEEF6', 'profile_text_color': '333333', 'profile_use_background_image': True, 'has_extended_profile': True, 'default_profile': True, 'default_profile_image': False, 'following': False, 'follow_request_sent': False, 'notifications': False, 'translator_type': 'none', 'withheld_in_countries': []}, 'geo': None, 'coordinates': None, 'place': None, 'contributors': None, 'retweeted_status': {'created_at': 'Sat Feb 12 04:28:28 +0000 2022', 'id': 1492354894740738052, 'id_str': '1492354894740738052', 'text': 'No sean malas personas con alguien que aunque no tuviera mucho se los brindó todo.', 'truncated': False, 'entities': {'hashtags': [], 'symbols': [], 'user_mentions': [], 'urls': []}, 'metadata': {'iso_language_code': 'es', 'result_type': 'recent'}, 'source': '<a href=\"http://twitter.com/download/iphone\" rel=\"nofollow\">Twitter for iPhone</a>', 'in_reply_to_status_id': None, 'in_reply_to_status_id_str': None, 'in_reply_to_user_id': None, 'in_reply_to_user_id_str': None, 'in_reply_to_screen_name': None, 'user': {'id': 1443687102412111874, 'id_str': '1443687102412111874', 'name': 'Anggie Salamanca', 'screen_name': 'Anggiesala_12', 'location': 'Tunja, Colombia', 'description': 'Med-UPTC\\n🇨🇴', 'url': None, 'entities': {'description': {'urls': []}}, 'protected': False, 'followers_count': 134, 'friends_count': 146, 'listed_count': 0, 'created_at': 'Thu Sep 30 21:20:22 +0000 2021', 'favourites_count': 1814, 'utc_offset': None, 'time_zone': None, 'geo_enabled': False, 'verified': False, 'statuses_count': 97, 'lang': None, 'contributors_enabled': False, 'is_translator': False, 'is_translation_enabled': False, 'profile_background_color': 'F5F8FA', 'profile_background_image_url': None, 'profile_background_image_url_https': None, 'profile_background_tile': False, 'profile_image_url': 'http://pbs.twimg.com/profile_images/1481487866047905795/9JUCkMEa_normal.jpg', 'profile_image_url_https': 'https://pbs.twimg.com/profile_images/1481487866047905795/9JUCkMEa_normal.jpg', 'profile_banner_url': 'https://pbs.twimg.com/profile_banners/1443687102412111874/1633037450', 'profile_link_color': '1DA1F2', 'profile_sidebar_border_color': 'C0DEED', 'profile_sidebar_fill_color': 'DDEEF6', 'profile_text_color': '333333', 'profile_use_background_image': True, 'has_extended_profile': True, 'default_profile': True, 'default_profile_image': False, 'following': False, 'follow_request_sent': False, 'notifications': False, 'translator_type': 'none', 'withheld_in_countries': []}, 'geo': None, 'coordinates': None, 'place': None, 'contributors': None, 'is_quote_status': False, 'retweet_count': 8, 'favorite_count': 34, 'favorited': False, 'retweeted': False, 'lang': 'es'}, 'is_quote_status': False, 'retweet_count': 8, 'favorite_count': 0, 'favorited': False, 'retweeted': False, 'lang': 'es'}, created_at=datetime.datetime(2022, 2, 12, 16, 7, 28, tzinfo=datetime.timezone.utc), id=1492530804605566986, id_str='1492530804605566986', text='RT @Anggiesala_12: No sean malas personas con alguien que aunque no tuviera mucho se los brindó todo.', truncated=False, entities={'hashtags': [], 'symbols': [], 'user_mentions': [{'screen_name': 'Anggiesala_12', 'name': 'Anggie Salamanca', 'id': 1443687102412111874, 'id_str': '1443687102412111874', 'indices': [3, 17]}], 'urls': []}, metadata={'iso_language_code': 'es', 'result_type': 'recent'}, source='Twitter for Android', source_url='http://twitter.com/download/android', in_reply_to_status_id=None, in_reply_to_status_id_str=None, in_reply_to_user_id=None, in_reply_to_user_id_str=None, in_reply_to_screen_name=None, author=User(_api=<tweepy.api.API object at 0x00000152E6A92CD0>, _json={'id': 1064202093043609600, 'id_str': '1064202093043609600', 'name': 'camilo! 🐘', 'screen_name': 'itscamilo1', 'location': '', 'description': 'hola!', 'url': None, 'entities': {'description': {'urls': []}}, 'protected': False, 'followers_count': 201, 'friends_count': 178, 'listed_count': 0, 'created_at': 'Sun Nov 18 17:02:05 +0000 2018', 'favourites_count': 28571, 'utc_offset': None, 'time_zone': None, 'geo_enabled': False, 'verified': False, 'statuses_count': 15401, 'lang': None, 'contributors_enabled': False, 'is_translator': False, 'is_translation_enabled': False, 'profile_background_color': 'F5F8FA', 'profile_background_image_url': None, 'profile_background_image_url_https': None, 'profile_background_tile': False, 'profile_image_url': 'http://pbs.twimg.com/profile_images/1349950176270692352/hpFOHHuO_normal.jpg', 'profile_image_url_https': 'https://pbs.twimg.com/profile_images/1349950176270692352/hpFOHHuO_normal.jpg', 'profile_banner_url': 'https://pbs.twimg.com/profile_banners/1064202093043609600/1607059383', 'profile_link_color': '1DA1F2', 'profile_sidebar_border_color': 'C0DEED', 'profile_sidebar_fill_color': 'DDEEF6', 'profile_text_color': '333333', 'profile_use_background_image': True, 'has_extended_profile': True, 'default_profile': True, 'default_profile_image': False, 'following': False, 'follow_request_sent': False, 'notifications': False, 'translator_type': 'none', 'withheld_in_countries': []}, id=1064202093043609600, id_str='1064202093043609600', name='camilo! 🐘', screen_name='itscamilo1', location='', description='hola!', url=None, entities={'description': {'urls': []}}, protected=False, followers_count=201, friends_count=178, listed_count=0, created_at=datetime.datetime(2018, 11, 18, 17, 2, 5, tzinfo=datetime.timezone.utc), favourites_count=28571, utc_offset=None, time_zone=None, geo_enabled=False, verified=False, statuses_count=15401, lang=None, contributors_enabled=False, is_translator=False, is_translation_enabled=False, profile_background_color='F5F8FA', profile_background_image_url=None, profile_background_image_url_https=None, profile_background_tile=False, profile_image_url='http://pbs.twimg.com/profile_images/1349950176270692352/hpFOHHuO_normal.jpg', profile_image_url_https='https://pbs.twimg.com/profile_images/1349950176270692352/hpFOHHuO_normal.jpg', profile_banner_url='https://pbs.twimg.com/profile_banners/1064202093043609600/1607059383', profile_link_color='1DA1F2', profile_sidebar_border_color='C0DEED', profile_sidebar_fill_color='DDEEF6', profile_text_color='333333', profile_use_background_image=True, has_extended_profile=True, default_profile=True, default_profile_image=False, following=False, follow_request_sent=False, notifications=False, translator_type='none', withheld_in_countries=[]), user=User(_api=<tweepy.api.API object at 0x00000152E6A92CD0>, _json={'id': 1064202093043609600, 'id_str': '1064202093043609600', 'name': 'camilo! 🐘', 'screen_name': 'itscamilo1', 'location': '', 'description': 'hola!', 'url': None, 'entities': {'description': {'urls': []}}, 'protected': False, 'followers_count': 201, 'friends_count': 178, 'listed_count': 0, 'created_at': 'Sun Nov 18 17:02:05 +0000 2018', 'favourites_count': 28571, 'utc_offset': None, 'time_zone': None, 'geo_enabled': False, 'verified': False, 'statuses_count': 15401, 'lang': None, 'contributors_enabled': False, 'is_translator': False, 'is_translation_enabled': False, 'profile_background_color': 'F5F8FA', 'profile_background_image_url': None, 'profile_background_image_url_https': None, 'profile_background_tile': False, 'profile_image_url': 'http://pbs.twimg.com/profile_images/1349950176270692352/hpFOHHuO_normal.jpg', 'profile_image_url_https': 'https://pbs.twimg.com/profile_images/1349950176270692352/hpFOHHuO_normal.jpg', 'profile_banner_url': 'https://pbs.twimg.com/profile_banners/1064202093043609600/1607059383', 'profile_link_color': '1DA1F2', 'profile_sidebar_border_color': 'C0DEED', 'profile_sidebar_fill_color': 'DDEEF6', 'profile_text_color': '333333', 'profile_use_background_image': True, 'has_extended_profile': True, 'default_profile': True, 'default_profile_image': False, 'following': False, 'follow_request_sent': False, 'notifications': False, 'translator_type': 'none', 'withheld_in_countries': []}, id=1064202093043609600, id_str='1064202093043609600', name='camilo! 🐘', screen_name='itscamilo1', location='', description='hola!', url=None, entities={'description': {'urls': []}}, protected=False, followers_count=201, friends_count=178, listed_count=0, created_at=datetime.datetime(2018, 11, 18, 17, 2, 5, tzinfo=datetime.timezone.utc), favourites_count=28571, utc_offset=None, time_zone=None, geo_enabled=False, verified=False, statuses_count=15401, lang=None, contributors_enabled=False, is_translator=False, is_translation_enabled=False, profile_background_color='F5F8FA', profile_background_image_url=None, profile_background_image_url_https=None, profile_background_tile=False, profile_image_url='http://pbs.twimg.com/profile_images/1349950176270692352/hpFOHHuO_normal.jpg', profile_image_url_https='https://pbs.twimg.com/profile_images/1349950176270692352/hpFOHHuO_normal.jpg', profile_banner_url='https://pbs.twimg.com/profile_banners/1064202093043609600/1607059383', profile_link_color='1DA1F2', profile_sidebar_border_color='C0DEED', profile_sidebar_fill_color='DDEEF6', profile_text_color='333333', profile_use_background_image=True, has_extended_profile=True, default_profile=True, default_profile_image=False, following=False, follow_request_sent=False, notifications=False, translator_type='none', withheld_in_countries=[]), geo=None, coordinates=None, place=None, contributors=None, retweeted_status=Status(_api=<tweepy.api.API object at 0x00000152E6A92CD0>, _json={'created_at': 'Sat Feb 12 04:28:28 +0000 2022', 'id': 1492354894740738052, 'id_str': '1492354894740738052', 'text': 'No sean malas personas con alguien que aunque no tuviera mucho se los brindó todo.', 'truncated': False, 'entities': {'hashtags': [], 'symbols': [], 'user_mentions': [], 'urls': []}, 'metadata': {'iso_language_code': 'es', 'result_type': 'recent'}, 'source': '<a href=\"http://twitter.com/download/iphone\" rel=\"nofollow\">Twitter for iPhone</a>', 'in_reply_to_status_id': None, 'in_reply_to_status_id_str': None, 'in_reply_to_user_id': None, 'in_reply_to_user_id_str': None, 'in_reply_to_screen_name': None, 'user': {'id': 1443687102412111874, 'id_str': '1443687102412111874', 'name': 'Anggie Salamanca', 'screen_name': 'Anggiesala_12', 'location': 'Tunja, Colombia', 'description': 'Med-UPTC\\n🇨🇴', 'url': None, 'entities': {'description': {'urls': []}}, 'protected': False, 'followers_count': 134, 'friends_count': 146, 'listed_count': 0, 'created_at': 'Thu Sep 30 21:20:22 +0000 2021', 'favourites_count': 1814, 'utc_offset': None, 'time_zone': None, 'geo_enabled': False, 'verified': False, 'statuses_count': 97, 'lang': None, 'contributors_enabled': False, 'is_translator': False, 'is_translation_enabled': False, 'profile_background_color': 'F5F8FA', 'profile_background_image_url': None, 'profile_background_image_url_https': None, 'profile_background_tile': False, 'profile_image_url': 'http://pbs.twimg.com/profile_images/1481487866047905795/9JUCkMEa_normal.jpg', 'profile_image_url_https': 'https://pbs.twimg.com/profile_images/1481487866047905795/9JUCkMEa_normal.jpg', 'profile_banner_url': 'https://pbs.twimg.com/profile_banners/1443687102412111874/1633037450', 'profile_link_color': '1DA1F2', 'profile_sidebar_border_color': 'C0DEED', 'profile_sidebar_fill_color': 'DDEEF6', 'profile_text_color': '333333', 'profile_use_background_image': True, 'has_extended_profile': True, 'default_profile': True, 'default_profile_image': False, 'following': False, 'follow_request_sent': False, 'notifications': False, 'translator_type': 'none', 'withheld_in_countries': []}, 'geo': None, 'coordinates': None, 'place': None, 'contributors': None, 'is_quote_status': False, 'retweet_count': 8, 'favorite_count': 34, 'favorited': False, 'retweeted': False, 'lang': 'es'}, created_at=datetime.datetime(2022, 2, 12, 4, 28, 28, tzinfo=datetime.timezone.utc), id=1492354894740738052, id_str='1492354894740738052', text='No sean malas personas con alguien que aunque no tuviera mucho se los brindó todo.', truncated=False, entities={'hashtags': [], 'symbols': [], 'user_mentions': [], 'urls': []}, metadata={'iso_language_code': 'es', 'result_type': 'recent'}, source='Twitter for iPhone', source_url='http://twitter.com/download/iphone', in_reply_to_status_id=None, in_reply_to_status_id_str=None, in_reply_to_user_id=None, in_reply_to_user_id_str=None, in_reply_to_screen_name=None, author=User(_api=<tweepy.api.API object at 0x00000152E6A92CD0>, _json={'id': 1443687102412111874, 'id_str': '1443687102412111874', 'name': 'Anggie Salamanca', 'screen_name': 'Anggiesala_12', 'location': 'Tunja, Colombia', 'description': 'Med-UPTC\\n🇨🇴', 'url': None, 'entities': {'description': {'urls': []}}, 'protected': False, 'followers_count': 134, 'friends_count': 146, 'listed_count': 0, 'created_at': 'Thu Sep 30 21:20:22 +0000 2021', 'favourites_count': 1814, 'utc_offset': None, 'time_zone': None, 'geo_enabled': False, 'verified': False, 'statuses_count': 97, 'lang': None, 'contributors_enabled': False, 'is_translator': False, 'is_translation_enabled': False, 'profile_background_color': 'F5F8FA', 'profile_background_image_url': None, 'profile_background_image_url_https': None, 'profile_background_tile': False, 'profile_image_url': 'http://pbs.twimg.com/profile_images/1481487866047905795/9JUCkMEa_normal.jpg', 'profile_image_url_https': 'https://pbs.twimg.com/profile_images/1481487866047905795/9JUCkMEa_normal.jpg', 'profile_banner_url': 'https://pbs.twimg.com/profile_banners/1443687102412111874/1633037450', 'profile_link_color': '1DA1F2', 'profile_sidebar_border_color': 'C0DEED', 'profile_sidebar_fill_color': 'DDEEF6', 'profile_text_color': '333333', 'profile_use_background_image': True, 'has_extended_profile': True, 'default_profile': True, 'default_profile_image': False, 'following': False, 'follow_request_sent': False, 'notifications': False, 'translator_type': 'none', 'withheld_in_countries': []}, id=1443687102412111874, id_str='1443687102412111874', name='Anggie Salamanca', screen_name='Anggiesala_12', location='Tunja, Colombia', description='Med-UPTC\\n🇨🇴', url=None, entities={'description': {'urls': []}}, protected=False, followers_count=134, friends_count=146, listed_count=0, created_at=datetime.datetime(2021, 9, 30, 21, 20, 22, tzinfo=datetime.timezone.utc), favourites_count=1814, utc_offset=None, time_zone=None, geo_enabled=False, verified=False, statuses_count=97, lang=None, contributors_enabled=False, is_translator=False, is_translation_enabled=False, profile_background_color='F5F8FA', profile_background_image_url=None, profile_background_image_url_https=None, profile_background_tile=False, profile_image_url='http://pbs.twimg.com/profile_images/1481487866047905795/9JUCkMEa_normal.jpg', profile_image_url_https='https://pbs.twimg.com/profile_images/1481487866047905795/9JUCkMEa_normal.jpg', profile_banner_url='https://pbs.twimg.com/profile_banners/1443687102412111874/1633037450', profile_link_color='1DA1F2', profile_sidebar_border_color='C0DEED', profile_sidebar_fill_color='DDEEF6', profile_text_color='333333', profile_use_background_image=True, has_extended_profile=True, default_profile=True, default_profile_image=False, following=False, follow_request_sent=False, notifications=False, translator_type='none', withheld_in_countries=[]), user=User(_api=<tweepy.api.API object at 0x00000152E6A92CD0>, _json={'id': 1443687102412111874, 'id_str': '1443687102412111874', 'name': 'Anggie Salamanca', 'screen_name': 'Anggiesala_12', 'location': 'Tunja, Colombia', 'description': 'Med-UPTC\\n🇨🇴', 'url': None, 'entities': {'description': {'urls': []}}, 'protected': False, 'followers_count': 134, 'friends_count': 146, 'listed_count': 0, 'created_at': 'Thu Sep 30 21:20:22 +0000 2021', 'favourites_count': 1814, 'utc_offset': None, 'time_zone': None, 'geo_enabled': False, 'verified': False, 'statuses_count': 97, 'lang': None, 'contributors_enabled': False, 'is_translator': False, 'is_translation_enabled': False, 'profile_background_color': 'F5F8FA', 'profile_background_image_url': None, 'profile_background_image_url_https': None, 'profile_background_tile': False, 'profile_image_url': 'http://pbs.twimg.com/profile_images/1481487866047905795/9JUCkMEa_normal.jpg', 'profile_image_url_https': 'https://pbs.twimg.com/profile_images/1481487866047905795/9JUCkMEa_normal.jpg', 'profile_banner_url': 'https://pbs.twimg.com/profile_banners/1443687102412111874/1633037450', 'profile_link_color': '1DA1F2', 'profile_sidebar_border_color': 'C0DEED', 'profile_sidebar_fill_color': 'DDEEF6', 'profile_text_color': '333333', 'profile_use_background_image': True, 'has_extended_profile': True, 'default_profile': True, 'default_profile_image': False, 'following': False, 'follow_request_sent': False, 'notifications': False, 'translator_type': 'none', 'withheld_in_countries': []}, id=1443687102412111874, id_str='1443687102412111874', name='Anggie Salamanca', screen_name='Anggiesala_12', location='Tunja, Colombia', description='Med-UPTC\\n🇨🇴', url=None, entities={'description': {'urls': []}}, protected=False, followers_count=134, friends_count=146, listed_count=0, created_at=datetime.datetime(2021, 9, 30, 21, 20, 22, tzinfo=datetime.timezone.utc), favourites_count=1814, utc_offset=None, time_zone=None, geo_enabled=False, verified=False, statuses_count=97, lang=None, contributors_enabled=False, is_translator=False, is_translation_enabled=False, profile_background_color='F5F8FA', profile_background_image_url=None, profile_background_image_url_https=None, profile_background_tile=False, profile_image_url='http://pbs.twimg.com/profile_images/1481487866047905795/9JUCkMEa_normal.jpg', profile_image_url_https='https://pbs.twimg.com/profile_images/1481487866047905795/9JUCkMEa_normal.jpg', profile_banner_url='https://pbs.twimg.com/profile_banners/1443687102412111874/1633037450', profile_link_color='1DA1F2', profile_sidebar_border_color='C0DEED', profile_sidebar_fill_color='DDEEF6', profile_text_color='333333', profile_use_background_image=True, has_extended_profile=True, default_profile=True, default_profile_image=False, following=False, follow_request_sent=False, notifications=False, translator_type='none', withheld_in_countries=[]), geo=None, coordinates=None, place=None, contributors=None, is_quote_status=False, retweet_count=8, favorite_count=34, favorited=False, retweeted=False, lang='es'), is_quote_status=False, retweet_count=8, favorite_count=0, favorited=False, retweeted=False, lang='es'), Status(_api=<tweepy.api.API object at 0x00000152E6A92CD0>, _json={'created_at': 'Sat Feb 12 16:07:25 +0000 2022', 'id': 1492530790592303110, 'id_str': '1492530790592303110', 'text': 'RT @LetrasVirales: Yo sí creo que una persona es capaz de cambiar sus cosas malas cuando se enamora de verdad.', 'truncated': False, 'entities': {'hashtags': [], 'symbols': [], 'user_mentions': [{'screen_name': 'LetrasVirales', 'name': '𝕷𝖊𝖙𝖗𝖆𝖘 𝖛𝖎𝖗𝖆𝖑𝖊𝖘✏', 'id': 148862570, 'id_str': '148862570', 'indices': [3, 17]}], 'urls': []}, 'metadata': {'iso_language_code': 'es', 'result_type': 'recent'}, 'source': '<a href=\"http://twitter.com/download/iphone\" rel=\"nofollow\">Twitter for iPhone</a>', 'in_reply_to_status_id': None, 'in_reply_to_status_id_str': None, 'in_reply_to_user_id': None, 'in_reply_to_user_id_str': None, 'in_reply_to_screen_name': None, 'user': {'id': 1082038639251673088, 'id_str': '1082038639251673088', 'name': 'Fernando López', 'screen_name': 'FernandoLpezVe1', 'location': '', 'description': '', 'url': None, 'entities': {'description': {'urls': []}}, 'protected': False, 'followers_count': 56, 'friends_count': 167, 'listed_count': 0, 'created_at': 'Sun Jan 06 22:18:09 +0000 2019', 'favourites_count': 2543, 'utc_offset': None, 'time_zone': None, 'geo_enabled': False, 'verified': False, 'statuses_count': 1637, 'lang': None, 'contributors_enabled': False, 'is_translator': False, 'is_translation_enabled': False, 'profile_background_color': 'F5F8FA', 'profile_background_image_url': None, 'profile_background_image_url_https': None, 'profile_background_tile': False, 'profile_image_url': 'http://pbs.twimg.com/profile_images/1489098393666392069/soITc-ca_normal.jpg', 'profile_image_url_https': 'https://pbs.twimg.com/profile_images/1489098393666392069/soITc-ca_normal.jpg', 'profile_link_color': '1DA1F2', 'profile_sidebar_border_color': 'C0DEED', 'profile_sidebar_fill_color': 'DDEEF6', 'profile_text_color': '333333', 'profile_use_background_image': True, 'has_extended_profile': False, 'default_profile': True, 'default_profile_image': False, 'following': False, 'follow_request_sent': False, 'notifications': False, 'translator_type': 'none', 'withheld_in_countries': []}, 'geo': None, 'coordinates': None, 'place': None, 'contributors': None, 'retweeted_status': {'created_at': 'Sat Feb 12 15:03:03 +0000 2022', 'id': 1492514594073448450, 'id_str': '1492514594073448450', 'text': 'Yo sí creo que una persona es capaz de cambiar sus cosas malas cuando se enamora de verdad.', 'truncated': False, 'entities': {'hashtags': [], 'symbols': [], 'user_mentions': [], 'urls': []}, 'metadata': {'iso_language_code': 'es', 'result_type': 'recent'}, 'source': '<a href=\"http://twitter.com\" rel=\"nofollow\">Ensarcasmo</a>', 'in_reply_to_status_id': None, 'in_reply_to_status_id_str': None, 'in_reply_to_user_id': None, 'in_reply_to_user_id_str': None, 'in_reply_to_screen_name': None, 'user': {'id': 148862570, 'id_str': '148862570', 'name': '𝕷𝖊𝖙𝖗𝖆𝖘 𝖛𝖎𝖗𝖆𝖑𝖊𝖘✏', 'screen_name': 'LetrasVirales', 'location': '', 'description': 'Las mejores frases de todo TWITTER!!\\nSarcasmo, Amor, Noticias, etc. 📘🤯\\n\\n📩PublicidadTW@live.com.mx', 'url': None, 'entities': {'description': {'urls': []}}, 'protected': False, 'followers_count': 1432194, 'friends_count': 78, 'listed_count': 1757, 'created_at': 'Thu May 27 20:18:49 +0000 2010', 'favourites_count': 6382, 'utc_offset': None, 'time_zone': None, 'geo_enabled': False, 'verified': False, 'statuses_count': 42085, 'lang': None, 'contributors_enabled': False, 'is_translator': False, 'is_translation_enabled': False, 'profile_background_color': '000000', 'profile_background_image_url': 'http://abs.twimg.com/images/themes/theme14/bg.gif', 'profile_background_image_url_https': 'https://abs.twimg.com/images/themes/theme14/bg.gif', 'profile_background_tile': True, 'profile_image_url': 'http://pbs.twimg.com/profile_images/1483761798344024068/7o5YQGEB_normal.jpg', 'profile_image_url_https': 'https://pbs.twimg.com/profile_images/1483761798344024068/7o5YQGEB_normal.jpg', 'profile_banner_url': 'https://pbs.twimg.com/profile_banners/148862570/1642591896', 'profile_link_color': 'FF691F', 'profile_sidebar_border_color': 'FFFFFF', 'profile_sidebar_fill_color': 'EFEFEF', 'profile_text_color': '333333', 'profile_use_background_image': True, 'has_extended_profile': True, 'default_profile': False, 'default_profile_image': False, 'following': False, 'follow_request_sent': False, 'notifications': False, 'translator_type': 'regular', 'withheld_in_countries': []}, 'geo': None, 'coordinates': None, 'place': None, 'contributors': None, 'is_quote_status': False, 'retweet_count': 21, 'favorite_count': 87, 'favorited': False, 'retweeted': False, 'lang': 'es'}, 'is_quote_status': False, 'retweet_count': 21, 'favorite_count': 0, 'favorited': False, 'retweeted': False, 'lang': 'es'}, created_at=datetime.datetime(2022, 2, 12, 16, 7, 25, tzinfo=datetime.timezone.utc), id=1492530790592303110, id_str='1492530790592303110', text='RT @LetrasVirales: Yo sí creo que una persona es capaz de cambiar sus cosas malas cuando se enamora de verdad.', truncated=False, entities={'hashtags': [], 'symbols': [], 'user_mentions': [{'screen_name': 'LetrasVirales', 'name': '𝕷𝖊𝖙𝖗𝖆𝖘 𝖛𝖎𝖗𝖆𝖑𝖊𝖘✏', 'id': 148862570, 'id_str': '148862570', 'indices': [3, 17]}], 'urls': []}, metadata={'iso_language_code': 'es', 'result_type': 'recent'}, source='Twitter for iPhone', source_url='http://twitter.com/download/iphone', in_reply_to_status_id=None, in_reply_to_status_id_str=None, in_reply_to_user_id=None, in_reply_to_user_id_str=None, in_reply_to_screen_name=None, author=User(_api=<tweepy.api.API object at 0x00000152E6A92CD0>, _json={'id': 1082038639251673088, 'id_str': '1082038639251673088', 'name': 'Fernando López', 'screen_name': 'FernandoLpezVe1', 'location': '', 'description': '', 'url': None, 'entities': {'description': {'urls': []}}, 'protected': False, 'followers_count': 56, 'friends_count': 167, 'listed_count': 0, 'created_at': 'Sun Jan 06 22:18:09 +0000 2019', 'favourites_count': 2543, 'utc_offset': None, 'time_zone': None, 'geo_enabled': False, 'verified': False, 'statuses_count': 1637, 'lang': None, 'contributors_enabled': False, 'is_translator': False, 'is_translation_enabled': False, 'profile_background_color': 'F5F8FA', 'profile_background_image_url': None, 'profile_background_image_url_https': None, 'profile_background_tile': False, 'profile_image_url': 'http://pbs.twimg.com/profile_images/1489098393666392069/soITc-ca_normal.jpg', 'profile_image_url_https': 'https://pbs.twimg.com/profile_images/1489098393666392069/soITc-ca_normal.jpg', 'profile_link_color': '1DA1F2', 'profile_sidebar_border_color': 'C0DEED', 'profile_sidebar_fill_color': 'DDEEF6', 'profile_text_color': '333333', 'profile_use_background_image': True, 'has_extended_profile': False, 'default_profile': True, 'default_profile_image': False, 'following': False, 'follow_request_sent': False, 'notifications': False, 'translator_type': 'none', 'withheld_in_countries': []}, id=1082038639251673088, id_str='1082038639251673088', name='Fernando López', screen_name='FernandoLpezVe1', location='', description='', url=None, entities={'description': {'urls': []}}, protected=False, followers_count=56, friends_count=167, listed_count=0, created_at=datetime.datetime(2019, 1, 6, 22, 18, 9, tzinfo=datetime.timezone.utc), favourites_count=2543, utc_offset=None, time_zone=None, geo_enabled=False, verified=False, statuses_count=1637, lang=None, contributors_enabled=False, is_translator=False, is_translation_enabled=False, profile_background_color='F5F8FA', profile_background_image_url=None, profile_background_image_url_https=None, profile_background_tile=False, profile_image_url='http://pbs.twimg.com/profile_images/1489098393666392069/soITc-ca_normal.jpg', profile_image_url_https='https://pbs.twimg.com/profile_images/1489098393666392069/soITc-ca_normal.jpg', profile_link_color='1DA1F2', profile_sidebar_border_color='C0DEED', profile_sidebar_fill_color='DDEEF6', profile_text_color='333333', profile_use_background_image=True, has_extended_profile=False, default_profile=True, default_profile_image=False, following=False, follow_request_sent=False, notifications=False, translator_type='none', withheld_in_countries=[]), user=User(_api=<tweepy.api.API object at 0x00000152E6A92CD0>, _json={'id': 1082038639251673088, 'id_str': '1082038639251673088', 'name': 'Fernando López', 'screen_name': 'FernandoLpezVe1', 'location': '', 'description': '', 'url': None, 'entities': {'description': {'urls': []}}, 'protected': False, 'followers_count': 56, 'friends_count': 167, 'listed_count': 0, 'created_at': 'Sun Jan 06 22:18:09 +0000 2019', 'favourites_count': 2543, 'utc_offset': None, 'time_zone': None, 'geo_enabled': False, 'verified': False, 'statuses_count': 1637, 'lang': None, 'contributors_enabled': False, 'is_translator': False, 'is_translation_enabled': False, 'profile_background_color': 'F5F8FA', 'profile_background_image_url': None, 'profile_background_image_url_https': None, 'profile_background_tile': False, 'profile_image_url': 'http://pbs.twimg.com/profile_images/1489098393666392069/soITc-ca_normal.jpg', 'profile_image_url_https': 'https://pbs.twimg.com/profile_images/1489098393666392069/soITc-ca_normal.jpg', 'profile_link_color': '1DA1F2', 'profile_sidebar_border_color': 'C0DEED', 'profile_sidebar_fill_color': 'DDEEF6', 'profile_text_color': '333333', 'profile_use_background_image': True, 'has_extended_profile': False, 'default_profile': True, 'default_profile_image': False, 'following': False, 'follow_request_sent': False, 'notifications': False, 'translator_type': 'none', 'withheld_in_countries': []}, id=1082038639251673088, id_str='1082038639251673088', name='Fernando López', screen_name='FernandoLpezVe1', location='', description='', url=None, entities={'description': {'urls': []}}, protected=False, followers_count=56, friends_count=167, listed_count=0, created_at=datetime.datetime(2019, 1, 6, 22, 18, 9, tzinfo=datetime.timezone.utc), favourites_count=2543, utc_offset=None, time_zone=None, geo_enabled=False, verified=False, statuses_count=1637, lang=None, contributors_enabled=False, is_translator=False, is_translation_enabled=False, profile_background_color='F5F8FA', profile_background_image_url=None, profile_background_image_url_https=None, profile_background_tile=False, profile_image_url='http://pbs.twimg.com/profile_images/1489098393666392069/soITc-ca_normal.jpg', profile_image_url_https='https://pbs.twimg.com/profile_images/1489098393666392069/soITc-ca_normal.jpg', profile_link_color='1DA1F2', profile_sidebar_border_color='C0DEED', profile_sidebar_fill_color='DDEEF6', profile_text_color='333333', profile_use_background_image=True, has_extended_profile=False, default_profile=True, default_profile_image=False, following=False, follow_request_sent=False, notifications=False, translator_type='none', withheld_in_countries=[]), geo=None, coordinates=None, place=None, contributors=None, retweeted_status=Status(_api=<tweepy.api.API object at 0x00000152E6A92CD0>, _json={'created_at': 'Sat Feb 12 15:03:03 +0000 2022', 'id': 1492514594073448450, 'id_str': '1492514594073448450', 'text': 'Yo sí creo que una persona es capaz de cambiar sus cosas malas cuando se enamora de verdad.', 'truncated': False, 'entities': {'hashtags': [], 'symbols': [], 'user_mentions': [], 'urls': []}, 'metadata': {'iso_language_code': 'es', 'result_type': 'recent'}, 'source': '<a href=\"http://twitter.com\" rel=\"nofollow\">Ensarcasmo</a>', 'in_reply_to_status_id': None, 'in_reply_to_status_id_str': None, 'in_reply_to_user_id': None, 'in_reply_to_user_id_str': None, 'in_reply_to_screen_name': None, 'user': {'id': 148862570, 'id_str': '148862570', 'name': '𝕷𝖊𝖙𝖗𝖆𝖘 𝖛𝖎𝖗𝖆𝖑𝖊𝖘✏', 'screen_name': 'LetrasVirales', 'location': '', 'description': 'Las mejores frases de todo TWITTER!!\\nSarcasmo, Amor, Noticias, etc. 📘🤯\\n\\n📩PublicidadTW@live.com.mx', 'url': None, 'entities': {'description': {'urls': []}}, 'protected': False, 'followers_count': 1432194, 'friends_count': 78, 'listed_count': 1757, 'created_at': 'Thu May 27 20:18:49 +0000 2010', 'favourites_count': 6382, 'utc_offset': None, 'time_zone': None, 'geo_enabled': False, 'verified': False, 'statuses_count': 42085, 'lang': None, 'contributors_enabled': False, 'is_translator': False, 'is_translation_enabled': False, 'profile_background_color': '000000', 'profile_background_image_url': 'http://abs.twimg.com/images/themes/theme14/bg.gif', 'profile_background_image_url_https': 'https://abs.twimg.com/images/themes/theme14/bg.gif', 'profile_background_tile': True, 'profile_image_url': 'http://pbs.twimg.com/profile_images/1483761798344024068/7o5YQGEB_normal.jpg', 'profile_image_url_https': 'https://pbs.twimg.com/profile_images/1483761798344024068/7o5YQGEB_normal.jpg', 'profile_banner_url': 'https://pbs.twimg.com/profile_banners/148862570/1642591896', 'profile_link_color': 'FF691F', 'profile_sidebar_border_color': 'FFFFFF', 'profile_sidebar_fill_color': 'EFEFEF', 'profile_text_color': '333333', 'profile_use_background_image': True, 'has_extended_profile': True, 'default_profile': False, 'default_profile_image': False, 'following': False, 'follow_request_sent': False, 'notifications': False, 'translator_type': 'regular', 'withheld_in_countries': []}, 'geo': None, 'coordinates': None, 'place': None, 'contributors': None, 'is_quote_status': False, 'retweet_count': 21, 'favorite_count': 87, 'favorited': False, 'retweeted': False, 'lang': 'es'}, created_at=datetime.datetime(2022, 2, 12, 15, 3, 3, tzinfo=datetime.timezone.utc), id=1492514594073448450, id_str='1492514594073448450', text='Yo sí creo que una persona es capaz de cambiar sus cosas malas cuando se enamora de verdad.', truncated=False, entities={'hashtags': [], 'symbols': [], 'user_mentions': [], 'urls': []}, metadata={'iso_language_code': 'es', 'result_type': 'recent'}, source='Ensarcasmo', source_url='http://twitter.com', in_reply_to_status_id=None, in_reply_to_status_id_str=None, in_reply_to_user_id=None, in_reply_to_user_id_str=None, in_reply_to_screen_name=None, author=User(_api=<tweepy.api.API object at 0x00000152E6A92CD0>, _json={'id': 148862570, 'id_str': '148862570', 'name': '𝕷𝖊𝖙𝖗𝖆𝖘 𝖛𝖎𝖗𝖆𝖑𝖊𝖘✏', 'screen_name': 'LetrasVirales', 'location': '', 'description': 'Las mejores frases de todo TWITTER!!\\nSarcasmo, Amor, Noticias, etc. 📘🤯\\n\\n📩PublicidadTW@live.com.mx', 'url': None, 'entities': {'description': {'urls': []}}, 'protected': False, 'followers_count': 1432194, 'friends_count': 78, 'listed_count': 1757, 'created_at': 'Thu May 27 20:18:49 +0000 2010', 'favourites_count': 6382, 'utc_offset': None, 'time_zone': None, 'geo_enabled': False, 'verified': False, 'statuses_count': 42085, 'lang': None, 'contributors_enabled': False, 'is_translator': False, 'is_translation_enabled': False, 'profile_background_color': '000000', 'profile_background_image_url': 'http://abs.twimg.com/images/themes/theme14/bg.gif', 'profile_background_image_url_https': 'https://abs.twimg.com/images/themes/theme14/bg.gif', 'profile_background_tile': True, 'profile_image_url': 'http://pbs.twimg.com/profile_images/1483761798344024068/7o5YQGEB_normal.jpg', 'profile_image_url_https': 'https://pbs.twimg.com/profile_images/1483761798344024068/7o5YQGEB_normal.jpg', 'profile_banner_url': 'https://pbs.twimg.com/profile_banners/148862570/1642591896', 'profile_link_color': 'FF691F', 'profile_sidebar_border_color': 'FFFFFF', 'profile_sidebar_fill_color': 'EFEFEF', 'profile_text_color': '333333', 'profile_use_background_image': True, 'has_extended_profile': True, 'default_profile': False, 'default_profile_image': False, 'following': False, 'follow_request_sent': False, 'notifications': False, 'translator_type': 'regular', 'withheld_in_countries': []}, id=148862570, id_str='148862570', name='𝕷𝖊𝖙𝖗𝖆𝖘 𝖛𝖎𝖗𝖆𝖑𝖊𝖘✏', screen_name='LetrasVirales', location='', description='Las mejores frases de todo TWITTER!!\\nSarcasmo, Amor, Noticias, etc. 📘🤯\\n\\n📩PublicidadTW@live.com.mx', url=None, entities={'description': {'urls': []}}, protected=False, followers_count=1432194, friends_count=78, listed_count=1757, created_at=datetime.datetime(2010, 5, 27, 20, 18, 49, tzinfo=datetime.timezone.utc), favourites_count=6382, utc_offset=None, time_zone=None, geo_enabled=False, verified=False, statuses_count=42085, lang=None, contributors_enabled=False, is_translator=False, is_translation_enabled=False, profile_background_color='000000', profile_background_image_url='http://abs.twimg.com/images/themes/theme14/bg.gif', profile_background_image_url_https='https://abs.twimg.com/images/themes/theme14/bg.gif', profile_background_tile=True, profile_image_url='http://pbs.twimg.com/profile_images/1483761798344024068/7o5YQGEB_normal.jpg', profile_image_url_https='https://pbs.twimg.com/profile_images/1483761798344024068/7o5YQGEB_normal.jpg', profile_banner_url='https://pbs.twimg.com/profile_banners/148862570/1642591896', profile_link_color='FF691F', profile_sidebar_border_color='FFFFFF', profile_sidebar_fill_color='EFEFEF', profile_text_color='333333', profile_use_background_image=True, has_extended_profile=True, default_profile=False, default_profile_image=False, following=False, follow_request_sent=False, notifications=False, translator_type='regular', withheld_in_countries=[]), user=User(_api=<tweepy.api.API object at 0x00000152E6A92CD0>, _json={'id': 148862570, 'id_str': '148862570', 'name': '𝕷𝖊𝖙𝖗𝖆𝖘 𝖛𝖎𝖗𝖆𝖑𝖊𝖘✏', 'screen_name': 'LetrasVirales', 'location': '', 'description': 'Las mejores frases de todo TWITTER!!\\nSarcasmo, Amor, Noticias, etc. 📘🤯\\n\\n📩PublicidadTW@live.com.mx', 'url': None, 'entities': {'description': {'urls': []}}, 'protected': False, 'followers_count': 1432194, 'friends_count': 78, 'listed_count': 1757, 'created_at': 'Thu May 27 20:18:49 +0000 2010', 'favourites_count': 6382, 'utc_offset': None, 'time_zone': None, 'geo_enabled': False, 'verified': False, 'statuses_count': 42085, 'lang': None, 'contributors_enabled': False, 'is_translator': False, 'is_translation_enabled': False, 'profile_background_color': '000000', 'profile_background_image_url': 'http://abs.twimg.com/images/themes/theme14/bg.gif', 'profile_background_image_url_https': 'https://abs.twimg.com/images/themes/theme14/bg.gif', 'profile_background_tile': True, 'profile_image_url': 'http://pbs.twimg.com/profile_images/1483761798344024068/7o5YQGEB_normal.jpg', 'profile_image_url_https': 'https://pbs.twimg.com/profile_images/1483761798344024068/7o5YQGEB_normal.jpg', 'profile_banner_url': 'https://pbs.twimg.com/profile_banners/148862570/1642591896', 'profile_link_color': 'FF691F', 'profile_sidebar_border_color': 'FFFFFF', 'profile_sidebar_fill_color': 'EFEFEF', 'profile_text_color': '333333', 'profile_use_background_image': True, 'has_extended_profile': True, 'default_profile': False, 'default_profile_image': False, 'following': False, 'follow_request_sent': False, 'notifications': False, 'translator_type': 'regular', 'withheld_in_countries': []}, id=148862570, id_str='148862570', name='𝕷𝖊𝖙𝖗𝖆𝖘 𝖛𝖎𝖗𝖆𝖑𝖊𝖘✏', screen_name='LetrasVirales', location='', description='Las mejores frases de todo TWITTER!!\\nSarcasmo, Amor, Noticias, etc. 📘🤯\\n\\n📩PublicidadTW@live.com.mx', url=None, entities={'description': {'urls': []}}, protected=False, followers_count=1432194, friends_count=78, listed_count=1757, created_at=datetime.datetime(2010, 5, 27, 20, 18, 49, tzinfo=datetime.timezone.utc), favourites_count=6382, utc_offset=None, time_zone=None, geo_enabled=False, verified=False, statuses_count=42085, lang=None, contributors_enabled=False, is_translator=False, is_translation_enabled=False, profile_background_color='000000', profile_background_image_url='http://abs.twimg.com/images/themes/theme14/bg.gif', profile_background_image_url_https='https://abs.twimg.com/images/themes/theme14/bg.gif', profile_background_tile=True, profile_image_url='http://pbs.twimg.com/profile_images/1483761798344024068/7o5YQGEB_normal.jpg', profile_image_url_https='https://pbs.twimg.com/profile_images/1483761798344024068/7o5YQGEB_normal.jpg', profile_banner_url='https://pbs.twimg.com/profile_banners/148862570/1642591896', profile_link_color='FF691F', profile_sidebar_border_color='FFFFFF', profile_sidebar_fill_color='EFEFEF', profile_text_color='333333', profile_use_background_image=True, has_extended_profile=True, default_profile=False, default_profile_image=False, following=False, follow_request_sent=False, notifications=False, translator_type='regular', withheld_in_countries=[]), geo=None, coordinates=None, place=None, contributors=None, is_quote_status=False, retweet_count=21, favorite_count=87, favorited=False, retweeted=False, lang='es'), is_quote_status=False, retweet_count=21, favorite_count=0, favorited=False, retweeted=False, lang='es'), Status(_api=<tweepy.api.API object at 0x00000152E6A92CD0>, _json={'created_at': 'Sat Feb 12 16:07:24 +0000 2022', 'id': 1492530788641824768, 'id_str': '1492530788641824768', 'text': 'RT @funes_bri: un día sos joven y al otro crees en el universo, el Karma, las malas energías,la ley de atracción y vas por la vida prendien…', 'truncated': False, 'entities': {'hashtags': [], 'symbols': [], 'user_mentions': [{'screen_name': 'funes_bri', 'name': 'Bri🐞', 'id': 894058082405318656, 'id_str': '894058082405318656', 'indices': [3, 13]}], 'urls': []}, 'metadata': {'iso_language_code': 'es', 'result_type': 'recent'}, 'source': '<a href=\"http://twitter.com/download/android\" rel=\"nofollow\">Twitter for Android</a>', 'in_reply_to_status_id': None, 'in_reply_to_status_id_str': None, 'in_reply_to_user_id': None, 'in_reply_to_user_id_str': None, 'in_reply_to_screen_name': None, 'user': {'id': 1093707032685887489, 'id_str': '1093707032685887489', 'name': '•Kiara•', 'screen_name': 'Kiara_pereeez', 'location': '', 'description': 'ig: @kiara_pereeez', 'url': None, 'entities': {'description': {'urls': []}}, 'protected': False, 'followers_count': 155, 'friends_count': 265, 'listed_count': 0, 'created_at': 'Fri Feb 08 03:04:11 +0000 2019', 'favourites_count': 10553, 'utc_offset': None, 'time_zone': None, 'geo_enabled': False, 'verified': False, 'statuses_count': 1629, 'lang': None, 'contributors_enabled': False, 'is_translator': False, 'is_translation_enabled': False, 'profile_background_color': 'F5F8FA', 'profile_background_image_url': None, 'profile_background_image_url_https': None, 'profile_background_tile': False, 'profile_image_url': 'http://pbs.twimg.com/profile_images/1475654169495326720/cVtjlvOg_normal.jpg', 'profile_image_url_https': 'https://pbs.twimg.com/profile_images/1475654169495326720/cVtjlvOg_normal.jpg', 'profile_banner_url': 'https://pbs.twimg.com/profile_banners/1093707032685887489/1640552795', 'profile_link_color': '1DA1F2', 'profile_sidebar_border_color': 'C0DEED', 'profile_sidebar_fill_color': 'DDEEF6', 'profile_text_color': '333333', 'profile_use_background_image': True, 'has_extended_profile': False, 'default_profile': True, 'default_profile_image': False, 'following': False, 'follow_request_sent': False, 'notifications': False, 'translator_type': 'none', 'withheld_in_countries': []}, 'geo': None, 'coordinates': None, 'place': None, 'contributors': None, 'retweeted_status': {'created_at': 'Thu Feb 10 19:06:29 +0000 2022', 'id': 1491851081642496010, 'id_str': '1491851081642496010', 'text': 'un día sos joven y al otro crees en el universo, el Karma, las malas energías,la ley de atracción y vas por la vida prendiendo sahumerios', 'truncated': False, 'entities': {'hashtags': [], 'symbols': [], 'user_mentions': [], 'urls': []}, 'metadata': {'iso_language_code': 'es', 'result_type': 'recent'}, 'source': '<a href=\"http://twitter.com/download/iphone\" rel=\"nofollow\">Twitter for iPhone</a>', 'in_reply_to_status_id': None, 'in_reply_to_status_id_str': None, 'in_reply_to_user_id': None, 'in_reply_to_user_id_str': None, 'in_reply_to_screen_name': None, 'user': {'id': 894058082405318656, 'id_str': '894058082405318656', 'name': 'Bri🐞', 'screen_name': 'funes_bri', 'location': 'San Juan, Argentina', 'description': '', 'url': 'https://t.co/zbTN3jgxoY', 'entities': {'url': {'urls': [{'url': 'https://t.co/zbTN3jgxoY', 'expanded_url': 'https://instagram.com/brifunes03?r=nametag', 'display_url': 'instagram.com/brifunes03?r=n…', 'indices': [0, 23]}]}, 'description': {'urls': []}}, 'protected': False, 'followers_count': 134, 'friends_count': 266, 'listed_count': 0, 'created_at': 'Sun Aug 06 04:50:32 +0000 2017', 'favourites_count': 10512, 'utc_offset': None, 'time_zone': None, 'geo_enabled': False, 'verified': False, 'statuses_count': 758, 'lang': None, 'contributors_enabled': False, 'is_translator': False, 'is_translation_enabled': False, 'profile_background_color': 'F5F8FA', 'profile_background_image_url': None, 'profile_background_image_url_https': None, 'profile_background_tile': False, 'profile_image_url': 'http://pbs.twimg.com/profile_images/1483306969322737672/ci3qhGoT_normal.jpg', 'profile_image_url_https': 'https://pbs.twimg.com/profile_images/1483306969322737672/ci3qhGoT_normal.jpg', 'profile_banner_url': 'https://pbs.twimg.com/profile_banners/894058082405318656/1638467640', 'profile_link_color': '1DA1F2', 'profile_sidebar_border_color': 'C0DEED', 'profile_sidebar_fill_color': 'DDEEF6', 'profile_text_color': '333333', 'profile_use_background_image': True, 'has_extended_profile': True, 'default_profile': True, 'default_profile_image': False, 'following': False, 'follow_request_sent': False, 'notifications': False, 'translator_type': 'none', 'withheld_in_countries': []}, 'geo': None, 'coordinates': None, 'place': None, 'contributors': None, 'is_quote_status': False, 'retweet_count': 11857, 'favorite_count': 39089, 'favorited': False, 'retweeted': False, 'lang': 'es'}, 'is_quote_status': False, 'retweet_count': 11857, 'favorite_count': 0, 'favorited': False, 'retweeted': False, 'lang': 'es'}, created_at=datetime.datetime(2022, 2, 12, 16, 7, 24, tzinfo=datetime.timezone.utc), id=1492530788641824768, id_str='1492530788641824768', text='RT @funes_bri: un día sos joven y al otro crees en el universo, el Karma, las malas energías,la ley de atracción y vas por la vida prendien…', truncated=False, entities={'hashtags': [], 'symbols': [], 'user_mentions': [{'screen_name': 'funes_bri', 'name': 'Bri🐞', 'id': 894058082405318656, 'id_str': '894058082405318656', 'indices': [3, 13]}], 'urls': []}, metadata={'iso_language_code': 'es', 'result_type': 'recent'}, source='Twitter for Android', source_url='http://twitter.com/download/android', in_reply_to_status_id=None, in_reply_to_status_id_str=None, in_reply_to_user_id=None, in_reply_to_user_id_str=None, in_reply_to_screen_name=None, author=User(_api=<tweepy.api.API object at 0x00000152E6A92CD0>, _json={'id': 1093707032685887489, 'id_str': '1093707032685887489', 'name': '•Kiara•', 'screen_name': 'Kiara_pereeez', 'location': '', 'description': 'ig: @kiara_pereeez', 'url': None, 'entities': {'description': {'urls': []}}, 'protected': False, 'followers_count': 155, 'friends_count': 265, 'listed_count': 0, 'created_at': 'Fri Feb 08 03:04:11 +0000 2019', 'favourites_count': 10553, 'utc_offset': None, 'time_zone': None, 'geo_enabled': False, 'verified': False, 'statuses_count': 1629, 'lang': None, 'contributors_enabled': False, 'is_translator': False, 'is_translation_enabled': False, 'profile_background_color': 'F5F8FA', 'profile_background_image_url': None, 'profile_background_image_url_https': None, 'profile_background_tile': False, 'profile_image_url': 'http://pbs.twimg.com/profile_images/1475654169495326720/cVtjlvOg_normal.jpg', 'profile_image_url_https': 'https://pbs.twimg.com/profile_images/1475654169495326720/cVtjlvOg_normal.jpg', 'profile_banner_url': 'https://pbs.twimg.com/profile_banners/1093707032685887489/1640552795', 'profile_link_color': '1DA1F2', 'profile_sidebar_border_color': 'C0DEED', 'profile_sidebar_fill_color': 'DDEEF6', 'profile_text_color': '333333', 'profile_use_background_image': True, 'has_extended_profile': False, 'default_profile': True, 'default_profile_image': False, 'following': False, 'follow_request_sent': False, 'notifications': False, 'translator_type': 'none', 'withheld_in_countries': []}, id=1093707032685887489, id_str='1093707032685887489', name='•Kiara•', screen_name='Kiara_pereeez', location='', description='ig: @kiara_pereeez', url=None, entities={'description': {'urls': []}}, protected=False, followers_count=155, friends_count=265, listed_count=0, created_at=datetime.datetime(2019, 2, 8, 3, 4, 11, tzinfo=datetime.timezone.utc), favourites_count=10553, utc_offset=None, time_zone=None, geo_enabled=False, verified=False, statuses_count=1629, lang=None, contributors_enabled=False, is_translator=False, is_translation_enabled=False, profile_background_color='F5F8FA', profile_background_image_url=None, profile_background_image_url_https=None, profile_background_tile=False, profile_image_url='http://pbs.twimg.com/profile_images/1475654169495326720/cVtjlvOg_normal.jpg', profile_image_url_https='https://pbs.twimg.com/profile_images/1475654169495326720/cVtjlvOg_normal.jpg', profile_banner_url='https://pbs.twimg.com/profile_banners/1093707032685887489/1640552795', profile_link_color='1DA1F2', profile_sidebar_border_color='C0DEED', profile_sidebar_fill_color='DDEEF6', profile_text_color='333333', profile_use_background_image=True, has_extended_profile=False, default_profile=True, default_profile_image=False, following=False, follow_request_sent=False, notifications=False, translator_type='none', withheld_in_countries=[]), user=User(_api=<tweepy.api.API object at 0x00000152E6A92CD0>, _json={'id': 1093707032685887489, 'id_str': '1093707032685887489', 'name': '•Kiara•', 'screen_name': 'Kiara_pereeez', 'location': '', 'description': 'ig: @kiara_pereeez', 'url': None, 'entities': {'description': {'urls': []}}, 'protected': False, 'followers_count': 155, 'friends_count': 265, 'listed_count': 0, 'created_at': 'Fri Feb 08 03:04:11 +0000 2019', 'favourites_count': 10553, 'utc_offset': None, 'time_zone': None, 'geo_enabled': False, 'verified': False, 'statuses_count': 1629, 'lang': None, 'contributors_enabled': False, 'is_translator': False, 'is_translation_enabled': False, 'profile_background_color': 'F5F8FA', 'profile_background_image_url': None, 'profile_background_image_url_https': None, 'profile_background_tile': False, 'profile_image_url': 'http://pbs.twimg.com/profile_images/1475654169495326720/cVtjlvOg_normal.jpg', 'profile_image_url_https': 'https://pbs.twimg.com/profile_images/1475654169495326720/cVtjlvOg_normal.jpg', 'profile_banner_url': 'https://pbs.twimg.com/profile_banners/1093707032685887489/1640552795', 'profile_link_color': '1DA1F2', 'profile_sidebar_border_color': 'C0DEED', 'profile_sidebar_fill_color': 'DDEEF6', 'profile_text_color': '333333', 'profile_use_background_image': True, 'has_extended_profile': False, 'default_profile': True, 'default_profile_image': False, 'following': False, 'follow_request_sent': False, 'notifications': False, 'translator_type': 'none', 'withheld_in_countries': []}, id=1093707032685887489, id_str='1093707032685887489', name='•Kiara•', screen_name='Kiara_pereeez', location='', description='ig: @kiara_pereeez', url=None, entities={'description': {'urls': []}}, protected=False, followers_count=155, friends_count=265, listed_count=0, created_at=datetime.datetime(2019, 2, 8, 3, 4, 11, tzinfo=datetime.timezone.utc), favourites_count=10553, utc_offset=None, time_zone=None, geo_enabled=False, verified=False, statuses_count=1629, lang=None, contributors_enabled=False, is_translator=False, is_translation_enabled=False, profile_background_color='F5F8FA', profile_background_image_url=None, profile_background_image_url_https=None, profile_background_tile=False, profile_image_url='http://pbs.twimg.com/profile_images/1475654169495326720/cVtjlvOg_normal.jpg', profile_image_url_https='https://pbs.twimg.com/profile_images/1475654169495326720/cVtjlvOg_normal.jpg', profile_banner_url='https://pbs.twimg.com/profile_banners/1093707032685887489/1640552795', profile_link_color='1DA1F2', profile_sidebar_border_color='C0DEED', profile_sidebar_fill_color='DDEEF6', profile_text_color='333333', profile_use_background_image=True, has_extended_profile=False, default_profile=True, default_profile_image=False, following=False, follow_request_sent=False, notifications=False, translator_type='none', withheld_in_countries=[]), geo=None, coordinates=None, place=None, contributors=None, retweeted_status=Status(_api=<tweepy.api.API object at 0x00000152E6A92CD0>, _json={'created_at': 'Thu Feb 10 19:06:29 +0000 2022', 'id': 1491851081642496010, 'id_str': '1491851081642496010', 'text': 'un día sos joven y al otro crees en el universo, el Karma, las malas energías,la ley de atracción y vas por la vida prendiendo sahumerios', 'truncated': False, 'entities': {'hashtags': [], 'symbols': [], 'user_mentions': [], 'urls': []}, 'metadata': {'iso_language_code': 'es', 'result_type': 'recent'}, 'source': '<a href=\"http://twitter.com/download/iphone\" rel=\"nofollow\">Twitter for iPhone</a>', 'in_reply_to_status_id': None, 'in_reply_to_status_id_str': None, 'in_reply_to_user_id': None, 'in_reply_to_user_id_str': None, 'in_reply_to_screen_name': None, 'user': {'id': 894058082405318656, 'id_str': '894058082405318656', 'name': 'Bri🐞', 'screen_name': 'funes_bri', 'location': 'San Juan, Argentina', 'description': '', 'url': 'https://t.co/zbTN3jgxoY', 'entities': {'url': {'urls': [{'url': 'https://t.co/zbTN3jgxoY', 'expanded_url': 'https://instagram.com/brifunes03?r=nametag', 'display_url': 'instagram.com/brifunes03?r=n…', 'indices': [0, 23]}]}, 'description': {'urls': []}}, 'protected': False, 'followers_count': 134, 'friends_count': 266, 'listed_count': 0, 'created_at': 'Sun Aug 06 04:50:32 +0000 2017', 'favourites_count': 10512, 'utc_offset': None, 'time_zone': None, 'geo_enabled': False, 'verified': False, 'statuses_count': 758, 'lang': None, 'contributors_enabled': False, 'is_translator': False, 'is_translation_enabled': False, 'profile_background_color': 'F5F8FA', 'profile_background_image_url': None, 'profile_background_image_url_https': None, 'profile_background_tile': False, 'profile_image_url': 'http://pbs.twimg.com/profile_images/1483306969322737672/ci3qhGoT_normal.jpg', 'profile_image_url_https': 'https://pbs.twimg.com/profile_images/1483306969322737672/ci3qhGoT_normal.jpg', 'profile_banner_url': 'https://pbs.twimg.com/profile_banners/894058082405318656/1638467640', 'profile_link_color': '1DA1F2', 'profile_sidebar_border_color': 'C0DEED', 'profile_sidebar_fill_color': 'DDEEF6', 'profile_text_color': '333333', 'profile_use_background_image': True, 'has_extended_profile': True, 'default_profile': True, 'default_profile_image': False, 'following': False, 'follow_request_sent': False, 'notifications': False, 'translator_type': 'none', 'withheld_in_countries': []}, 'geo': None, 'coordinates': None, 'place': None, 'contributors': None, 'is_quote_status': False, 'retweet_count': 11857, 'favorite_count': 39089, 'favorited': False, 'retweeted': False, 'lang': 'es'}, created_at=datetime.datetime(2022, 2, 10, 19, 6, 29, tzinfo=datetime.timezone.utc), id=1491851081642496010, id_str='1491851081642496010', text='un día sos joven y al otro crees en el universo, el Karma, las malas energías,la ley de atracción y vas por la vida prendiendo sahumerios', truncated=False, entities={'hashtags': [], 'symbols': [], 'user_mentions': [], 'urls': []}, metadata={'iso_language_code': 'es', 'result_type': 'recent'}, source='Twitter for iPhone', source_url='http://twitter.com/download/iphone', in_reply_to_status_id=None, in_reply_to_status_id_str=None, in_reply_to_user_id=None, in_reply_to_user_id_str=None, in_reply_to_screen_name=None, author=User(_api=<tweepy.api.API object at 0x00000152E6A92CD0>, _json={'id': 894058082405318656, 'id_str': '894058082405318656', 'name': 'Bri🐞', 'screen_name': 'funes_bri', 'location': 'San Juan, Argentina', 'description': '', 'url': 'https://t.co/zbTN3jgxoY', 'entities': {'url': {'urls': [{'url': 'https://t.co/zbTN3jgxoY', 'expanded_url': 'https://instagram.com/brifunes03?r=nametag', 'display_url': 'instagram.com/brifunes03?r=n…', 'indices': [0, 23]}]}, 'description': {'urls': []}}, 'protected': False, 'followers_count': 134, 'friends_count': 266, 'listed_count': 0, 'created_at': 'Sun Aug 06 04:50:32 +0000 2017', 'favourites_count': 10512, 'utc_offset': None, 'time_zone': None, 'geo_enabled': False, 'verified': False, 'statuses_count': 758, 'lang': None, 'contributors_enabled': False, 'is_translator': False, 'is_translation_enabled': False, 'profile_background_color': 'F5F8FA', 'profile_background_image_url': None, 'profile_background_image_url_https': None, 'profile_background_tile': False, 'profile_image_url': 'http://pbs.twimg.com/profile_images/1483306969322737672/ci3qhGoT_normal.jpg', 'profile_image_url_https': 'https://pbs.twimg.com/profile_images/1483306969322737672/ci3qhGoT_normal.jpg', 'profile_banner_url': 'https://pbs.twimg.com/profile_banners/894058082405318656/1638467640', 'profile_link_color': '1DA1F2', 'profile_sidebar_border_color': 'C0DEED', 'profile_sidebar_fill_color': 'DDEEF6', 'profile_text_color': '333333', 'profile_use_background_image': True, 'has_extended_profile': True, 'default_profile': True, 'default_profile_image': False, 'following': False, 'follow_request_sent': False, 'notifications': False, 'translator_type': 'none', 'withheld_in_countries': []}, id=894058082405318656, id_str='894058082405318656', name='Bri🐞', screen_name='funes_bri', location='San Juan, Argentina', description='', url='https://t.co/zbTN3jgxoY', entities={'url': {'urls': [{'url': 'https://t.co/zbTN3jgxoY', 'expanded_url': 'https://instagram.com/brifunes03?r=nametag', 'display_url': 'instagram.com/brifunes03?r=n…', 'indices': [0, 23]}]}, 'description': {'urls': []}}, protected=False, followers_count=134, friends_count=266, listed_count=0, created_at=datetime.datetime(2017, 8, 6, 4, 50, 32, tzinfo=datetime.timezone.utc), favourites_count=10512, utc_offset=None, time_zone=None, geo_enabled=False, verified=False, statuses_count=758, lang=None, contributors_enabled=False, is_translator=False, is_translation_enabled=False, profile_background_color='F5F8FA', profile_background_image_url=None, profile_background_image_url_https=None, profile_background_tile=False, profile_image_url='http://pbs.twimg.com/profile_images/1483306969322737672/ci3qhGoT_normal.jpg', profile_image_url_https='https://pbs.twimg.com/profile_images/1483306969322737672/ci3qhGoT_normal.jpg', profile_banner_url='https://pbs.twimg.com/profile_banners/894058082405318656/1638467640', profile_link_color='1DA1F2', profile_sidebar_border_color='C0DEED', profile_sidebar_fill_color='DDEEF6', profile_text_color='333333', profile_use_background_image=True, has_extended_profile=True, default_profile=True, default_profile_image=False, following=False, follow_request_sent=False, notifications=False, translator_type='none', withheld_in_countries=[]), user=User(_api=<tweepy.api.API object at 0x00000152E6A92CD0>, _json={'id': 894058082405318656, 'id_str': '894058082405318656', 'name': 'Bri🐞', 'screen_name': 'funes_bri', 'location': 'San Juan, Argentina', 'description': '', 'url': 'https://t.co/zbTN3jgxoY', 'entities': {'url': {'urls': [{'url': 'https://t.co/zbTN3jgxoY', 'expanded_url': 'https://instagram.com/brifunes03?r=nametag', 'display_url': 'instagram.com/brifunes03?r=n…', 'indices': [0, 23]}]}, 'description': {'urls': []}}, 'protected': False, 'followers_count': 134, 'friends_count': 266, 'listed_count': 0, 'created_at': 'Sun Aug 06 04:50:32 +0000 2017', 'favourites_count': 10512, 'utc_offset': None, 'time_zone': None, 'geo_enabled': False, 'verified': False, 'statuses_count': 758, 'lang': None, 'contributors_enabled': False, 'is_translator': False, 'is_translation_enabled': False, 'profile_background_color': 'F5F8FA', 'profile_background_image_url': None, 'profile_background_image_url_https': None, 'profile_background_tile': False, 'profile_image_url': 'http://pbs.twimg.com/profile_images/1483306969322737672/ci3qhGoT_normal.jpg', 'profile_image_url_https': 'https://pbs.twimg.com/profile_images/1483306969322737672/ci3qhGoT_normal.jpg', 'profile_banner_url': 'https://pbs.twimg.com/profile_banners/894058082405318656/1638467640', 'profile_link_color': '1DA1F2', 'profile_sidebar_border_color': 'C0DEED', 'profile_sidebar_fill_color': 'DDEEF6', 'profile_text_color': '333333', 'profile_use_background_image': True, 'has_extended_profile': True, 'default_profile': True, 'default_profile_image': False, 'following': False, 'follow_request_sent': False, 'notifications': False, 'translator_type': 'none', 'withheld_in_countries': []}, id=894058082405318656, id_str='894058082405318656', name='Bri🐞', screen_name='funes_bri', location='San Juan, Argentina', description='', url='https://t.co/zbTN3jgxoY', entities={'url': {'urls': [{'url': 'https://t.co/zbTN3jgxoY', 'expanded_url': 'https://instagram.com/brifunes03?r=nametag', 'display_url': 'instagram.com/brifunes03?r=n…', 'indices': [0, 23]}]}, 'description': {'urls': []}}, protected=False, followers_count=134, friends_count=266, listed_count=0, created_at=datetime.datetime(2017, 8, 6, 4, 50, 32, tzinfo=datetime.timezone.utc), favourites_count=10512, utc_offset=None, time_zone=None, geo_enabled=False, verified=False, statuses_count=758, lang=None, contributors_enabled=False, is_translator=False, is_translation_enabled=False, profile_background_color='F5F8FA', profile_background_image_url=None, profile_background_image_url_https=None, profile_background_tile=False, profile_image_url='http://pbs.twimg.com/profile_images/1483306969322737672/ci3qhGoT_normal.jpg', profile_image_url_https='https://pbs.twimg.com/profile_images/1483306969322737672/ci3qhGoT_normal.jpg', profile_banner_url='https://pbs.twimg.com/profile_banners/894058082405318656/1638467640', profile_link_color='1DA1F2', profile_sidebar_border_color='C0DEED', profile_sidebar_fill_color='DDEEF6', profile_text_color='333333', profile_use_background_image=True, has_extended_profile=True, default_profile=True, default_profile_image=False, following=False, follow_request_sent=False, notifications=False, translator_type='none', withheld_in_countries=[]), geo=None, coordinates=None, place=None, contributors=None, is_quote_status=False, retweet_count=11857, favorite_count=39089, favorited=False, retweeted=False, lang='es'), is_quote_status=False, retweet_count=11857, favorite_count=0, favorited=False, retweeted=False, lang='es'), Status(_api=<tweepy.api.API object at 0x00000152E6A92CD0>, _json={'created_at': 'Sat Feb 12 16:07:24 +0000 2022', 'id': 1492530788331667462, 'id_str': '1492530788331667462', 'text': 'RT @ElAmargado_03: Me la paso diciendo malas palabras, pero yo siempre digo \"por favor\", \"buenos días\" y \"gracias\".', 'truncated': False, 'entities': {'hashtags': [], 'symbols': [], 'user_mentions': [{'screen_name': 'ElAmargado_03', 'name': 'Josmar Gómez', 'id': 169972614, 'id_str': '169972614', 'indices': [3, 17]}], 'urls': []}, 'metadata': {'iso_language_code': 'es', 'result_type': 'recent'}, 'source': '<a href=\"https://mobile.twitter.com\" rel=\"nofollow\">Twitter Web App</a>', 'in_reply_to_status_id': None, 'in_reply_to_status_id_str': None, 'in_reply_to_user_id': None, 'in_reply_to_user_id_str': None, 'in_reply_to_screen_name': None, 'user': {'id': 2235921190, 'id_str': '2235921190', 'name': 'Carlos.', 'screen_name': 'CarlosDiaz_26w', 'location': '', 'description': 'Nada deja peor sabor de bocas que las cosas que nunca llegas a probar.', 'url': None, 'entities': {'description': {'urls': []}}, 'protected': False, 'followers_count': 148, 'friends_count': 142, 'listed_count': 0, 'created_at': 'Sat Dec 21 07:02:54 +0000 2013', 'favourites_count': 1639, 'utc_offset': None, 'time_zone': None, 'geo_enabled': True, 'verified': False, 'statuses_count': 768, 'lang': None, 'contributors_enabled': False, 'is_translator': False, 'is_translation_enabled': False, 'profile_background_color': '1A1B1F', 'profile_background_image_url': 'http://abs.twimg.com/images/themes/theme9/bg.gif', 'profile_background_image_url_https': 'https://abs.twimg.com/images/themes/theme9/bg.gif', 'profile_background_tile': False, 'profile_image_url': 'http://pbs.twimg.com/profile_images/1445119758219816961/BuUQOIlP_normal.jpg', 'profile_image_url_https': 'https://pbs.twimg.com/profile_images/1445119758219816961/BuUQOIlP_normal.jpg', 'profile_banner_url': 'https://pbs.twimg.com/profile_banners/2235921190/1623736179', 'profile_link_color': 'ABB8C2', 'profile_sidebar_border_color': 'C0DEED', 'profile_sidebar_fill_color': 'DDEEF6', 'profile_text_color': '333333', 'profile_use_background_image': True, 'has_extended_profile': False, 'default_profile': False, 'default_profile_image': False, 'following': False, 'follow_request_sent': False, 'notifications': False, 'translator_type': 'none', 'withheld_in_countries': []}, 'geo': None, 'coordinates': None, 'place': None, 'contributors': None, 'retweeted_status': {'created_at': 'Sat Feb 12 06:05:46 +0000 2022', 'id': 1492379380928155650, 'id_str': '1492379380928155650', 'text': 'Me la paso diciendo malas palabras, pero yo siempre digo \"por favor\", \"buenos días\" y \"gracias\".', 'truncated': False, 'entities': {'hashtags': [], 'symbols': [], 'user_mentions': [], 'urls': []}, 'metadata': {'iso_language_code': 'es', 'result_type': 'recent'}, 'source': '<a href=\"http://twitter.com/download/android\" rel=\"nofollow\">Twitter for Android</a>', 'in_reply_to_status_id': None, 'in_reply_to_status_id_str': None, 'in_reply_to_user_id': None, 'in_reply_to_user_id_str': None, 'in_reply_to_screen_name': None, 'user': {'id': 169972614, 'id_str': '169972614', 'name': 'Josmar Gómez', 'screen_name': 'ElAmargado_03', 'location': 'Barranquilla, Colombia', 'description': 'Te Amo Dios 💙\\n                                                                                                      Jvc #52 🔥', 'url': None, 'entities': {'description': {'urls': []}}, 'protected': False, 'followers_count': 389, 'friends_count': 278, 'listed_count': 0, 'created_at': 'Fri Jul 23 16:47:04 +0000 2010', 'favourites_count': 2479, 'utc_offset': None, 'time_zone': None, 'geo_enabled': True, 'verified': False, 'statuses_count': 5972, 'lang': None, 'contributors_enabled': False, 'is_translator': False, 'is_translation_enabled': False, 'profile_background_color': 'ACDED6', 'profile_background_image_url': 'http://abs.twimg.com/images/themes/theme18/bg.gif', 'profile_background_image_url_https': 'https://abs.twimg.com/images/themes/theme18/bg.gif', 'profile_background_tile': True, 'profile_image_url': 'http://pbs.twimg.com/profile_images/1482115420723240968/d7P0eH2S_normal.jpg', 'profile_image_url_https': 'https://pbs.twimg.com/profile_images/1482115420723240968/d7P0eH2S_normal.jpg', 'profile_banner_url': 'https://pbs.twimg.com/profile_banners/169972614/1617247699', 'profile_link_color': '038543', 'profile_sidebar_border_color': '000000', 'profile_sidebar_fill_color': 'F6F6F6', 'profile_text_color': '333333', 'profile_use_background_image': True, 'has_extended_profile': False, 'default_profile': False, 'default_profile_image': False, 'following': False, 'follow_request_sent': False, 'notifications': False, 'translator_type': 'none', 'withheld_in_countries': []}, 'geo': None, 'coordinates': None, 'place': None, 'contributors': None, 'is_quote_status': False, 'retweet_count': 6, 'favorite_count': 2, 'favorited': False, 'retweeted': False, 'lang': 'es'}, 'is_quote_status': False, 'retweet_count': 6, 'favorite_count': 0, 'favorited': False, 'retweeted': False, 'lang': 'es'}, created_at=datetime.datetime(2022, 2, 12, 16, 7, 24, tzinfo=datetime.timezone.utc), id=1492530788331667462, id_str='1492530788331667462', text='RT @ElAmargado_03: Me la paso diciendo malas palabras, pero yo siempre digo \"por favor\", \"buenos días\" y \"gracias\".', truncated=False, entities={'hashtags': [], 'symbols': [], 'user_mentions': [{'screen_name': 'ElAmargado_03', 'name': 'Josmar Gómez', 'id': 169972614, 'id_str': '169972614', 'indices': [3, 17]}], 'urls': []}, metadata={'iso_language_code': 'es', 'result_type': 'recent'}, source='Twitter Web App', source_url='https://mobile.twitter.com', in_reply_to_status_id=None, in_reply_to_status_id_str=None, in_reply_to_user_id=None, in_reply_to_user_id_str=None, in_reply_to_screen_name=None, author=User(_api=<tweepy.api.API object at 0x00000152E6A92CD0>, _json={'id': 2235921190, 'id_str': '2235921190', 'name': 'Carlos.', 'screen_name': 'CarlosDiaz_26w', 'location': '', 'description': 'Nada deja peor sabor de bocas que las cosas que nunca llegas a probar.', 'url': None, 'entities': {'description': {'urls': []}}, 'protected': False, 'followers_count': 148, 'friends_count': 142, 'listed_count': 0, 'created_at': 'Sat Dec 21 07:02:54 +0000 2013', 'favourites_count': 1639, 'utc_offset': None, 'time_zone': None, 'geo_enabled': True, 'verified': False, 'statuses_count': 768, 'lang': None, 'contributors_enabled': False, 'is_translator': False, 'is_translation_enabled': False, 'profile_background_color': '1A1B1F', 'profile_background_image_url': 'http://abs.twimg.com/images/themes/theme9/bg.gif', 'profile_background_image_url_https': 'https://abs.twimg.com/images/themes/theme9/bg.gif', 'profile_background_tile': False, 'profile_image_url': 'http://pbs.twimg.com/profile_images/1445119758219816961/BuUQOIlP_normal.jpg', 'profile_image_url_https': 'https://pbs.twimg.com/profile_images/1445119758219816961/BuUQOIlP_normal.jpg', 'profile_banner_url': 'https://pbs.twimg.com/profile_banners/2235921190/1623736179', 'profile_link_color': 'ABB8C2', 'profile_sidebar_border_color': 'C0DEED', 'profile_sidebar_fill_color': 'DDEEF6', 'profile_text_color': '333333', 'profile_use_background_image': True, 'has_extended_profile': False, 'default_profile': False, 'default_profile_image': False, 'following': False, 'follow_request_sent': False, 'notifications': False, 'translator_type': 'none', 'withheld_in_countries': []}, id=2235921190, id_str='2235921190', name='Carlos.', screen_name='CarlosDiaz_26w', location='', description='Nada deja peor sabor de bocas que las cosas que nunca llegas a probar.', url=None, entities={'description': {'urls': []}}, protected=False, followers_count=148, friends_count=142, listed_count=0, created_at=datetime.datetime(2013, 12, 21, 7, 2, 54, tzinfo=datetime.timezone.utc), favourites_count=1639, utc_offset=None, time_zone=None, geo_enabled=True, verified=False, statuses_count=768, lang=None, contributors_enabled=False, is_translator=False, is_translation_enabled=False, profile_background_color='1A1B1F', profile_background_image_url='http://abs.twimg.com/images/themes/theme9/bg.gif', profile_background_image_url_https='https://abs.twimg.com/images/themes/theme9/bg.gif', profile_background_tile=False, profile_image_url='http://pbs.twimg.com/profile_images/1445119758219816961/BuUQOIlP_normal.jpg', profile_image_url_https='https://pbs.twimg.com/profile_images/1445119758219816961/BuUQOIlP_normal.jpg', profile_banner_url='https://pbs.twimg.com/profile_banners/2235921190/1623736179', profile_link_color='ABB8C2', profile_sidebar_border_color='C0DEED', profile_sidebar_fill_color='DDEEF6', profile_text_color='333333', profile_use_background_image=True, has_extended_profile=False, default_profile=False, default_profile_image=False, following=False, follow_request_sent=False, notifications=False, translator_type='none', withheld_in_countries=[]), user=User(_api=<tweepy.api.API object at 0x00000152E6A92CD0>, _json={'id': 2235921190, 'id_str': '2235921190', 'name': 'Carlos.', 'screen_name': 'CarlosDiaz_26w', 'location': '', 'description': 'Nada deja peor sabor de bocas que las cosas que nunca llegas a probar.', 'url': None, 'entities': {'description': {'urls': []}}, 'protected': False, 'followers_count': 148, 'friends_count': 142, 'listed_count': 0, 'created_at': 'Sat Dec 21 07:02:54 +0000 2013', 'favourites_count': 1639, 'utc_offset': None, 'time_zone': None, 'geo_enabled': True, 'verified': False, 'statuses_count': 768, 'lang': None, 'contributors_enabled': False, 'is_translator': False, 'is_translation_enabled': False, 'profile_background_color': '1A1B1F', 'profile_background_image_url': 'http://abs.twimg.com/images/themes/theme9/bg.gif', 'profile_background_image_url_https': 'https://abs.twimg.com/images/themes/theme9/bg.gif', 'profile_background_tile': False, 'profile_image_url': 'http://pbs.twimg.com/profile_images/1445119758219816961/BuUQOIlP_normal.jpg', 'profile_image_url_https': 'https://pbs.twimg.com/profile_images/1445119758219816961/BuUQOIlP_normal.jpg', 'profile_banner_url': 'https://pbs.twimg.com/profile_banners/2235921190/1623736179', 'profile_link_color': 'ABB8C2', 'profile_sidebar_border_color': 'C0DEED', 'profile_sidebar_fill_color': 'DDEEF6', 'profile_text_color': '333333', 'profile_use_background_image': True, 'has_extended_profile': False, 'default_profile': False, 'default_profile_image': False, 'following': False, 'follow_request_sent': False, 'notifications': False, 'translator_type': 'none', 'withheld_in_countries': []}, id=2235921190, id_str='2235921190', name='Carlos.', screen_name='CarlosDiaz_26w', location='', description='Nada deja peor sabor de bocas que las cosas que nunca llegas a probar.', url=None, entities={'description': {'urls': []}}, protected=False, followers_count=148, friends_count=142, listed_count=0, created_at=datetime.datetime(2013, 12, 21, 7, 2, 54, tzinfo=datetime.timezone.utc), favourites_count=1639, utc_offset=None, time_zone=None, geo_enabled=True, verified=False, statuses_count=768, lang=None, contributors_enabled=False, is_translator=False, is_translation_enabled=False, profile_background_color='1A1B1F', profile_background_image_url='http://abs.twimg.com/images/themes/theme9/bg.gif', profile_background_image_url_https='https://abs.twimg.com/images/themes/theme9/bg.gif', profile_background_tile=False, profile_image_url='http://pbs.twimg.com/profile_images/1445119758219816961/BuUQOIlP_normal.jpg', profile_image_url_https='https://pbs.twimg.com/profile_images/1445119758219816961/BuUQOIlP_normal.jpg', profile_banner_url='https://pbs.twimg.com/profile_banners/2235921190/1623736179', profile_link_color='ABB8C2', profile_sidebar_border_color='C0DEED', profile_sidebar_fill_color='DDEEF6', profile_text_color='333333', profile_use_background_image=True, has_extended_profile=False, default_profile=False, default_profile_image=False, following=False, follow_request_sent=False, notifications=False, translator_type='none', withheld_in_countries=[]), geo=None, coordinates=None, place=None, contributors=None, retweeted_status=Status(_api=<tweepy.api.API object at 0x00000152E6A92CD0>, _json={'created_at': 'Sat Feb 12 06:05:46 +0000 2022', 'id': 1492379380928155650, 'id_str': '1492379380928155650', 'text': 'Me la paso diciendo malas palabras, pero yo siempre digo \"por favor\", \"buenos días\" y \"gracias\".', 'truncated': False, 'entities': {'hashtags': [], 'symbols': [], 'user_mentions': [], 'urls': []}, 'metadata': {'iso_language_code': 'es', 'result_type': 'recent'}, 'source': '<a href=\"http://twitter.com/download/android\" rel=\"nofollow\">Twitter for Android</a>', 'in_reply_to_status_id': None, 'in_reply_to_status_id_str': None, 'in_reply_to_user_id': None, 'in_reply_to_user_id_str': None, 'in_reply_to_screen_name': None, 'user': {'id': 169972614, 'id_str': '169972614', 'name': 'Josmar Gómez', 'screen_name': 'ElAmargado_03', 'location': 'Barranquilla, Colombia', 'description': 'Te Amo Dios 💙\\n                                                                                                      Jvc #52 🔥', 'url': None, 'entities': {'description': {'urls': []}}, 'protected': False, 'followers_count': 389, 'friends_count': 278, 'listed_count': 0, 'created_at': 'Fri Jul 23 16:47:04 +0000 2010', 'favourites_count': 2479, 'utc_offset': None, 'time_zone': None, 'geo_enabled': True, 'verified': False, 'statuses_count': 5972, 'lang': None, 'contributors_enabled': False, 'is_translator': False, 'is_translation_enabled': False, 'profile_background_color': 'ACDED6', 'profile_background_image_url': 'http://abs.twimg.com/images/themes/theme18/bg.gif', 'profile_background_image_url_https': 'https://abs.twimg.com/images/themes/theme18/bg.gif', 'profile_background_tile': True, 'profile_image_url': 'http://pbs.twimg.com/profile_images/1482115420723240968/d7P0eH2S_normal.jpg', 'profile_image_url_https': 'https://pbs.twimg.com/profile_images/1482115420723240968/d7P0eH2S_normal.jpg', 'profile_banner_url': 'https://pbs.twimg.com/profile_banners/169972614/1617247699', 'profile_link_color': '038543', 'profile_sidebar_border_color': '000000', 'profile_sidebar_fill_color': 'F6F6F6', 'profile_text_color': '333333', 'profile_use_background_image': True, 'has_extended_profile': False, 'default_profile': False, 'default_profile_image': False, 'following': False, 'follow_request_sent': False, 'notifications': False, 'translator_type': 'none', 'withheld_in_countries': []}, 'geo': None, 'coordinates': None, 'place': None, 'contributors': None, 'is_quote_status': False, 'retweet_count': 6, 'favorite_count': 2, 'favorited': False, 'retweeted': False, 'lang': 'es'}, created_at=datetime.datetime(2022, 2, 12, 6, 5, 46, tzinfo=datetime.timezone.utc), id=1492379380928155650, id_str='1492379380928155650', text='Me la paso diciendo malas palabras, pero yo siempre digo \"por favor\", \"buenos días\" y \"gracias\".', truncated=False, entities={'hashtags': [], 'symbols': [], 'user_mentions': [], 'urls': []}, metadata={'iso_language_code': 'es', 'result_type': 'recent'}, source='Twitter for Android', source_url='http://twitter.com/download/android', in_reply_to_status_id=None, in_reply_to_status_id_str=None, in_reply_to_user_id=None, in_reply_to_user_id_str=None, in_reply_to_screen_name=None, author=User(_api=<tweepy.api.API object at 0x00000152E6A92CD0>, _json={'id': 169972614, 'id_str': '169972614', 'name': 'Josmar Gómez', 'screen_name': 'ElAmargado_03', 'location': 'Barranquilla, Colombia', 'description': 'Te Amo Dios 💙\\n                                                                                                      Jvc #52 🔥', 'url': None, 'entities': {'description': {'urls': []}}, 'protected': False, 'followers_count': 389, 'friends_count': 278, 'listed_count': 0, 'created_at': 'Fri Jul 23 16:47:04 +0000 2010', 'favourites_count': 2479, 'utc_offset': None, 'time_zone': None, 'geo_enabled': True, 'verified': False, 'statuses_count': 5972, 'lang': None, 'contributors_enabled': False, 'is_translator': False, 'is_translation_enabled': False, 'profile_background_color': 'ACDED6', 'profile_background_image_url': 'http://abs.twimg.com/images/themes/theme18/bg.gif', 'profile_background_image_url_https': 'https://abs.twimg.com/images/themes/theme18/bg.gif', 'profile_background_tile': True, 'profile_image_url': 'http://pbs.twimg.com/profile_images/1482115420723240968/d7P0eH2S_normal.jpg', 'profile_image_url_https': 'https://pbs.twimg.com/profile_images/1482115420723240968/d7P0eH2S_normal.jpg', 'profile_banner_url': 'https://pbs.twimg.com/profile_banners/169972614/1617247699', 'profile_link_color': '038543', 'profile_sidebar_border_color': '000000', 'profile_sidebar_fill_color': 'F6F6F6', 'profile_text_color': '333333', 'profile_use_background_image': True, 'has_extended_profile': False, 'default_profile': False, 'default_profile_image': False, 'following': False, 'follow_request_sent': False, 'notifications': False, 'translator_type': 'none', 'withheld_in_countries': []}, id=169972614, id_str='169972614', name='Josmar Gómez', screen_name='ElAmargado_03', location='Barranquilla, Colombia', description='Te Amo Dios 💙\\n                                                                                                      Jvc #52 🔥', url=None, entities={'description': {'urls': []}}, protected=False, followers_count=389, friends_count=278, listed_count=0, created_at=datetime.datetime(2010, 7, 23, 16, 47, 4, tzinfo=datetime.timezone.utc), favourites_count=2479, utc_offset=None, time_zone=None, geo_enabled=True, verified=False, statuses_count=5972, lang=None, contributors_enabled=False, is_translator=False, is_translation_enabled=False, profile_background_color='ACDED6', profile_background_image_url='http://abs.twimg.com/images/themes/theme18/bg.gif', profile_background_image_url_https='https://abs.twimg.com/images/themes/theme18/bg.gif', profile_background_tile=True, profile_image_url='http://pbs.twimg.com/profile_images/1482115420723240968/d7P0eH2S_normal.jpg', profile_image_url_https='https://pbs.twimg.com/profile_images/1482115420723240968/d7P0eH2S_normal.jpg', profile_banner_url='https://pbs.twimg.com/profile_banners/169972614/1617247699', profile_link_color='038543', profile_sidebar_border_color='000000', profile_sidebar_fill_color='F6F6F6', profile_text_color='333333', profile_use_background_image=True, has_extended_profile=False, default_profile=False, default_profile_image=False, following=False, follow_request_sent=False, notifications=False, translator_type='none', withheld_in_countries=[]), user=User(_api=<tweepy.api.API object at 0x00000152E6A92CD0>, _json={'id': 169972614, 'id_str': '169972614', 'name': 'Josmar Gómez', 'screen_name': 'ElAmargado_03', 'location': 'Barranquilla, Colombia', 'description': 'Te Amo Dios 💙\\n                                                                                                      Jvc #52 🔥', 'url': None, 'entities': {'description': {'urls': []}}, 'protected': False, 'followers_count': 389, 'friends_count': 278, 'listed_count': 0, 'created_at': 'Fri Jul 23 16:47:04 +0000 2010', 'favourites_count': 2479, 'utc_offset': None, 'time_zone': None, 'geo_enabled': True, 'verified': False, 'statuses_count': 5972, 'lang': None, 'contributors_enabled': False, 'is_translator': False, 'is_translation_enabled': False, 'profile_background_color': 'ACDED6', 'profile_background_image_url': 'http://abs.twimg.com/images/themes/theme18/bg.gif', 'profile_background_image_url_https': 'https://abs.twimg.com/images/themes/theme18/bg.gif', 'profile_background_tile': True, 'profile_image_url': 'http://pbs.twimg.com/profile_images/1482115420723240968/d7P0eH2S_normal.jpg', 'profile_image_url_https': 'https://pbs.twimg.com/profile_images/1482115420723240968/d7P0eH2S_normal.jpg', 'profile_banner_url': 'https://pbs.twimg.com/profile_banners/169972614/1617247699', 'profile_link_color': '038543', 'profile_sidebar_border_color': '000000', 'profile_sidebar_fill_color': 'F6F6F6', 'profile_text_color': '333333', 'profile_use_background_image': True, 'has_extended_profile': False, 'default_profile': False, 'default_profile_image': False, 'following': False, 'follow_request_sent': False, 'notifications': False, 'translator_type': 'none', 'withheld_in_countries': []}, id=169972614, id_str='169972614', name='Josmar Gómez', screen_name='ElAmargado_03', location='Barranquilla, Colombia', description='Te Amo Dios 💙\\n                                                                                                      Jvc #52 🔥', url=None, entities={'description': {'urls': []}}, protected=False, followers_count=389, friends_count=278, listed_count=0, created_at=datetime.datetime(2010, 7, 23, 16, 47, 4, tzinfo=datetime.timezone.utc), favourites_count=2479, utc_offset=None, time_zone=None, geo_enabled=True, verified=False, statuses_count=5972, lang=None, contributors_enabled=False, is_translator=False, is_translation_enabled=False, profile_background_color='ACDED6', profile_background_image_url='http://abs.twimg.com/images/themes/theme18/bg.gif', profile_background_image_url_https='https://abs.twimg.com/images/themes/theme18/bg.gif', profile_background_tile=True, profile_image_url='http://pbs.twimg.com/profile_images/1482115420723240968/d7P0eH2S_normal.jpg', profile_image_url_https='https://pbs.twimg.com/profile_images/1482115420723240968/d7P0eH2S_normal.jpg', profile_banner_url='https://pbs.twimg.com/profile_banners/169972614/1617247699', profile_link_color='038543', profile_sidebar_border_color='000000', profile_sidebar_fill_color='F6F6F6', profile_text_color='333333', profile_use_background_image=True, has_extended_profile=False, default_profile=False, default_profile_image=False, following=False, follow_request_sent=False, notifications=False, translator_type='none', withheld_in_countries=[]), geo=None, coordinates=None, place=None, contributors=None, is_quote_status=False, retweet_count=6, favorite_count=2, favorited=False, retweeted=False, lang='es'), is_quote_status=False, retweet_count=6, favorite_count=0, favorited=False, retweeted=False, lang='es'), Status(_api=<tweepy.api.API object at 0x00000152E6A92CD0>, _json={'created_at': 'Sat Feb 12 16:07:22 +0000 2022', 'id': 1492530780375236608, 'id_str': '1492530780375236608', 'text': 'nak buat vietnam roll tapi malas', 'truncated': False, 'entities': {'hashtags': [], 'symbols': [], 'user_mentions': [], 'urls': []}, 'metadata': {'iso_language_code': 'in', 'result_type': 'recent'}, 'source': '<a href=\"http://twitter.com/download/iphone\" rel=\"nofollow\">Twitter for iPhone</a>', 'in_reply_to_status_id': None, 'in_reply_to_status_id_str': None, 'in_reply_to_user_id': None, 'in_reply_to_user_id_str': None, 'in_reply_to_screen_name': None, 'user': {'id': 442762770, 'id_str': '442762770', 'name': '𝓴𝔀𝓪𝓴𝓭𝓸', 'screen_name': 'arthirxh', 'location': '', 'description': '💎', 'url': None, 'entities': {'description': {'urls': []}}, 'protected': False, 'followers_count': 477, 'friends_count': 474, 'listed_count': 0, 'created_at': 'Wed Dec 21 12:50:58 +0000 2011', 'favourites_count': 2261, 'utc_offset': None, 'time_zone': None, 'geo_enabled': False, 'verified': False, 'statuses_count': 14423, 'lang': None, 'contributors_enabled': False, 'is_translator': False, 'is_translation_enabled': False, 'profile_background_color': 'DBE9ED', 'profile_background_image_url': 'http://abs.twimg.com/images/themes/theme17/bg.gif', 'profile_background_image_url_https': 'https://abs.twimg.com/images/themes/theme17/bg.gif', 'profile_background_tile': False, 'profile_image_url': 'http://pbs.twimg.com/profile_images/1483897867358339072/WTPCgHbi_normal.jpg', 'profile_image_url_https': 'https://pbs.twimg.com/profile_images/1483897867358339072/WTPCgHbi_normal.jpg', 'profile_banner_url': 'https://pbs.twimg.com/profile_banners/442762770/1577143147', 'profile_link_color': 'CC3366', 'profile_sidebar_border_color': 'DBE9ED', 'profile_sidebar_fill_color': 'E6F6F9', 'profile_text_color': '333333', 'profile_use_background_image': True, 'has_extended_profile': True, 'default_profile': False, 'default_profile_image': False, 'following': False, 'follow_request_sent': False, 'notifications': False, 'translator_type': 'none', 'withheld_in_countries': []}, 'geo': None, 'coordinates': None, 'place': None, 'contributors': None, 'is_quote_status': False, 'retweet_count': 0, 'favorite_count': 0, 'favorited': False, 'retweeted': False, 'lang': 'in'}, created_at=datetime.datetime(2022, 2, 12, 16, 7, 22, tzinfo=datetime.timezone.utc), id=1492530780375236608, id_str='1492530780375236608', text='nak buat vietnam roll tapi malas', truncated=False, entities={'hashtags': [], 'symbols': [], 'user_mentions': [], 'urls': []}, metadata={'iso_language_code': 'in', 'result_type': 'recent'}, source='Twitter for iPhone', source_url='http://twitter.com/download/iphone', in_reply_to_status_id=None, in_reply_to_status_id_str=None, in_reply_to_user_id=None, in_reply_to_user_id_str=None, in_reply_to_screen_name=None, author=User(_api=<tweepy.api.API object at 0x00000152E6A92CD0>, _json={'id': 442762770, 'id_str': '442762770', 'name': '𝓴𝔀𝓪𝓴𝓭𝓸', 'screen_name': 'arthirxh', 'location': '', 'description': '💎', 'url': None, 'entities': {'description': {'urls': []}}, 'protected': False, 'followers_count': 477, 'friends_count': 474, 'listed_count': 0, 'created_at': 'Wed Dec 21 12:50:58 +0000 2011', 'favourites_count': 2261, 'utc_offset': None, 'time_zone': None, 'geo_enabled': False, 'verified': False, 'statuses_count': 14423, 'lang': None, 'contributors_enabled': False, 'is_translator': False, 'is_translation_enabled': False, 'profile_background_color': 'DBE9ED', 'profile_background_image_url': 'http://abs.twimg.com/images/themes/theme17/bg.gif', 'profile_background_image_url_https': 'https://abs.twimg.com/images/themes/theme17/bg.gif', 'profile_background_tile': False, 'profile_image_url': 'http://pbs.twimg.com/profile_images/1483897867358339072/WTPCgHbi_normal.jpg', 'profile_image_url_https': 'https://pbs.twimg.com/profile_images/1483897867358339072/WTPCgHbi_normal.jpg', 'profile_banner_url': 'https://pbs.twimg.com/profile_banners/442762770/1577143147', 'profile_link_color': 'CC3366', 'profile_sidebar_border_color': 'DBE9ED', 'profile_sidebar_fill_color': 'E6F6F9', 'profile_text_color': '333333', 'profile_use_background_image': True, 'has_extended_profile': True, 'default_profile': False, 'default_profile_image': False, 'following': False, 'follow_request_sent': False, 'notifications': False, 'translator_type': 'none', 'withheld_in_countries': []}, id=442762770, id_str='442762770', name='𝓴𝔀𝓪𝓴𝓭𝓸', screen_name='arthirxh', location='', description='💎', url=None, entities={'description': {'urls': []}}, protected=False, followers_count=477, friends_count=474, listed_count=0, created_at=datetime.datetime(2011, 12, 21, 12, 50, 58, tzinfo=datetime.timezone.utc), favourites_count=2261, utc_offset=None, time_zone=None, geo_enabled=False, verified=False, statuses_count=14423, lang=None, contributors_enabled=False, is_translator=False, is_translation_enabled=False, profile_background_color='DBE9ED', profile_background_image_url='http://abs.twimg.com/images/themes/theme17/bg.gif', profile_background_image_url_https='https://abs.twimg.com/images/themes/theme17/bg.gif', profile_background_tile=False, profile_image_url='http://pbs.twimg.com/profile_images/1483897867358339072/WTPCgHbi_normal.jpg', profile_image_url_https='https://pbs.twimg.com/profile_images/1483897867358339072/WTPCgHbi_normal.jpg', profile_banner_url='https://pbs.twimg.com/profile_banners/442762770/1577143147', profile_link_color='CC3366', profile_sidebar_border_color='DBE9ED', profile_sidebar_fill_color='E6F6F9', profile_text_color='333333', profile_use_background_image=True, has_extended_profile=True, default_profile=False, default_profile_image=False, following=False, follow_request_sent=False, notifications=False, translator_type='none', withheld_in_countries=[]), user=User(_api=<tweepy.api.API object at 0x00000152E6A92CD0>, _json={'id': 442762770, 'id_str': '442762770', 'name': '𝓴𝔀𝓪𝓴𝓭𝓸', 'screen_name': 'arthirxh', 'location': '', 'description': '💎', 'url': None, 'entities': {'description': {'urls': []}}, 'protected': False, 'followers_count': 477, 'friends_count': 474, 'listed_count': 0, 'created_at': 'Wed Dec 21 12:50:58 +0000 2011', 'favourites_count': 2261, 'utc_offset': None, 'time_zone': None, 'geo_enabled': False, 'verified': False, 'statuses_count': 14423, 'lang': None, 'contributors_enabled': False, 'is_translator': False, 'is_translation_enabled': False, 'profile_background_color': 'DBE9ED', 'profile_background_image_url': 'http://abs.twimg.com/images/themes/theme17/bg.gif', 'profile_background_image_url_https': 'https://abs.twimg.com/images/themes/theme17/bg.gif', 'profile_background_tile': False, 'profile_image_url': 'http://pbs.twimg.com/profile_images/1483897867358339072/WTPCgHbi_normal.jpg', 'profile_image_url_https': 'https://pbs.twimg.com/profile_images/1483897867358339072/WTPCgHbi_normal.jpg', 'profile_banner_url': 'https://pbs.twimg.com/profile_banners/442762770/1577143147', 'profile_link_color': 'CC3366', 'profile_sidebar_border_color': 'DBE9ED', 'profile_sidebar_fill_color': 'E6F6F9', 'profile_text_color': '333333', 'profile_use_background_image': True, 'has_extended_profile': True, 'default_profile': False, 'default_profile_image': False, 'following': False, 'follow_request_sent': False, 'notifications': False, 'translator_type': 'none', 'withheld_in_countries': []}, id=442762770, id_str='442762770', name='𝓴𝔀𝓪𝓴𝓭𝓸', screen_name='arthirxh', location='', description='💎', url=None, entities={'description': {'urls': []}}, protected=False, followers_count=477, friends_count=474, listed_count=0, created_at=datetime.datetime(2011, 12, 21, 12, 50, 58, tzinfo=datetime.timezone.utc), favourites_count=2261, utc_offset=None, time_zone=None, geo_enabled=False, verified=False, statuses_count=14423, lang=None, contributors_enabled=False, is_translator=False, is_translation_enabled=False, profile_background_color='DBE9ED', profile_background_image_url='http://abs.twimg.com/images/themes/theme17/bg.gif', profile_background_image_url_https='https://abs.twimg.com/images/themes/theme17/bg.gif', profile_background_tile=False, profile_image_url='http://pbs.twimg.com/profile_images/1483897867358339072/WTPCgHbi_normal.jpg', profile_image_url_https='https://pbs.twimg.com/profile_images/1483897867358339072/WTPCgHbi_normal.jpg', profile_banner_url='https://pbs.twimg.com/profile_banners/442762770/1577143147', profile_link_color='CC3366', profile_sidebar_border_color='DBE9ED', profile_sidebar_fill_color='E6F6F9', profile_text_color='333333', profile_use_background_image=True, has_extended_profile=True, default_profile=False, default_profile_image=False, following=False, follow_request_sent=False, notifications=False, translator_type='none', withheld_in_countries=[]), geo=None, coordinates=None, place=None, contributors=None, is_quote_status=False, retweet_count=0, favorite_count=0, favorited=False, retweeted=False, lang='in'), Status(_api=<tweepy.api.API object at 0x00000152E6A92CD0>, _json={'created_at': 'Sat Feb 12 16:07:21 +0000 2022', 'id': 1492530777824841730, 'id_str': '1492530777824841730', 'text': 'RT @JuliMoret: Llevo a Lucas y a dos amigos de en el auto.\\nAmigo 1: a mí mi mamá me reta todo el tempo por las malas palabras.\\nAmigo 2: a m…', 'truncated': False, 'entities': {'hashtags': [], 'symbols': [], 'user_mentions': [{'screen_name': 'JuliMoret', 'name': 'Julia Moret', 'id': 768861671569891328, 'id_str': '768861671569891328', 'indices': [3, 13]}], 'urls': []}, 'metadata': {'iso_language_code': 'es', 'result_type': 'recent'}, 'source': '<a href=\"https://mobile.twitter.com\" rel=\"nofollow\">Twitter Web App</a>', 'in_reply_to_status_id': None, 'in_reply_to_status_id_str': None, 'in_reply_to_user_id': None, 'in_reply_to_user_id_str': None, 'in_reply_to_screen_name': None, 'user': {'id': 1061224238, 'id_str': '1061224238', 'name': 'lu', 'screen_name': 'LucianaGoldriz', 'location': 'Estados Unidos', 'description': 'She/Her/They/Them\\nFeminist', 'url': None, 'entities': {'description': {'urls': []}}, 'protected': False, 'followers_count': 43, 'friends_count': 77, 'listed_count': 1, 'created_at': 'Fri Jan 04 19:23:03 +0000 2013', 'favourites_count': 15424, 'utc_offset': None, 'time_zone': None, 'geo_enabled': True, 'verified': False, 'statuses_count': 4153, 'lang': None, 'contributors_enabled': False, 'is_translator': False, 'is_translation_enabled': False, 'profile_background_color': '0D0209', 'profile_background_image_url': 'http://abs.twimg.com/images/themes/theme1/bg.png', 'profile_background_image_url_https': 'https://abs.twimg.com/images/themes/theme1/bg.png', 'profile_background_tile': True, 'profile_image_url': 'http://pbs.twimg.com/profile_images/1324495098042814464/mfUH-1Sq_normal.jpg', 'profile_image_url_https': 'https://pbs.twimg.com/profile_images/1324495098042814464/mfUH-1Sq_normal.jpg', 'profile_link_color': '19CF86', 'profile_sidebar_border_color': '000000', 'profile_sidebar_fill_color': 'DDEEF6', 'profile_text_color': '333333', 'profile_use_background_image': True, 'has_extended_profile': True, 'default_profile': False, 'default_profile_image': False, 'following': False, 'follow_request_sent': False, 'notifications': False, 'translator_type': 'none', 'withheld_in_countries': []}, 'geo': None, 'coordinates': None, 'place': None, 'contributors': None, 'retweeted_status': {'created_at': 'Fri Feb 11 19:40:44 +0000 2022', 'id': 1492222087280267264, 'id_str': '1492222087280267264', 'text': 'Llevo a Lucas y a dos amigos de en el auto.\\nAmigo 1: a mí mi mamá me reta todo el tempo por las malas palabras.\\nAmi… https://t.co/XUJQp60wo4', 'truncated': True, 'entities': {'hashtags': [], 'symbols': [], 'user_mentions': [], 'urls': [{'url': 'https://t.co/XUJQp60wo4', 'expanded_url': 'https://twitter.com/i/web/status/1492222087280267264', 'display_url': 'twitter.com/i/web/status/1…', 'indices': [117, 140]}]}, 'metadata': {'iso_language_code': 'es', 'result_type': 'recent'}, 'source': '<a href=\"http://twitter.com/download/iphone\" rel=\"nofollow\">Twitter for iPhone</a>', 'in_reply_to_status_id': None, 'in_reply_to_status_id_str': None, 'in_reply_to_user_id': None, 'in_reply_to_user_id_str': None, 'in_reply_to_screen_name': None, 'user': {'id': 768861671569891328, 'id_str': '768861671569891328', 'name': 'Julia Moret', 'screen_name': 'JuliMoret', 'location': 'Argentina', 'description': 'Asperger. Autismo. Mamá de Lucas y Ana. Fan de la Diversidad. Escribí La música que llevamos adentro (Paidós). Instagram: juli.moret juliamoretescribe@gmail.com', 'url': None, 'entities': {'description': {'urls': []}}, 'protected': False, 'followers_count': 16666, 'friends_count': 3049, 'listed_count': 36, 'created_at': 'Thu Aug 25 17:24:42 +0000 2016', 'favourites_count': 10470, 'utc_offset': None, 'time_zone': None, 'geo_enabled': False, 'verified': False, 'statuses_count': 8857, 'lang': None, 'contributors_enabled': False, 'is_translator': False, 'is_translation_enabled': False, 'profile_background_color': 'F5F8FA', 'profile_background_image_url': None, 'profile_background_image_url_https': None, 'profile_background_tile': False, 'profile_image_url': 'http://pbs.twimg.com/profile_images/768897240534507521/TKmMyDdn_normal.jpg', 'profile_image_url_https': 'https://pbs.twimg.com/profile_images/768897240534507521/TKmMyDdn_normal.jpg', 'profile_banner_url': 'https://pbs.twimg.com/profile_banners/768861671569891328/1586548537', 'profile_link_color': '1DA1F2', 'profile_sidebar_border_color': 'C0DEED', 'profile_sidebar_fill_color': 'DDEEF6', 'profile_text_color': '333333', 'profile_use_background_image': True, 'has_extended_profile': True, 'default_profile': True, 'default_profile_image': False, 'following': False, 'follow_request_sent': False, 'notifications': False, 'translator_type': 'none', 'withheld_in_countries': []}, 'geo': None, 'coordinates': None, 'place': None, 'contributors': None, 'is_quote_status': False, 'retweet_count': 255, 'favorite_count': 14469, 'favorited': False, 'retweeted': False, 'lang': 'es'}, 'is_quote_status': False, 'retweet_count': 255, 'favorite_count': 0, 'favorited': False, 'retweeted': False, 'lang': 'es'}, created_at=datetime.datetime(2022, 2, 12, 16, 7, 21, tzinfo=datetime.timezone.utc), id=1492530777824841730, id_str='1492530777824841730', text='RT @JuliMoret: Llevo a Lucas y a dos amigos de en el auto.\\nAmigo 1: a mí mi mamá me reta todo el tempo por las malas palabras.\\nAmigo 2: a m…', truncated=False, entities={'hashtags': [], 'symbols': [], 'user_mentions': [{'screen_name': 'JuliMoret', 'name': 'Julia Moret', 'id': 768861671569891328, 'id_str': '768861671569891328', 'indices': [3, 13]}], 'urls': []}, metadata={'iso_language_code': 'es', 'result_type': 'recent'}, source='Twitter Web App', source_url='https://mobile.twitter.com', in_reply_to_status_id=None, in_reply_to_status_id_str=None, in_reply_to_user_id=None, in_reply_to_user_id_str=None, in_reply_to_screen_name=None, author=User(_api=<tweepy.api.API object at 0x00000152E6A92CD0>, _json={'id': 1061224238, 'id_str': '1061224238', 'name': 'lu', 'screen_name': 'LucianaGoldriz', 'location': 'Estados Unidos', 'description': 'She/Her/They/Them\\nFeminist', 'url': None, 'entities': {'description': {'urls': []}}, 'protected': False, 'followers_count': 43, 'friends_count': 77, 'listed_count': 1, 'created_at': 'Fri Jan 04 19:23:03 +0000 2013', 'favourites_count': 15424, 'utc_offset': None, 'time_zone': None, 'geo_enabled': True, 'verified': False, 'statuses_count': 4153, 'lang': None, 'contributors_enabled': False, 'is_translator': False, 'is_translation_enabled': False, 'profile_background_color': '0D0209', 'profile_background_image_url': 'http://abs.twimg.com/images/themes/theme1/bg.png', 'profile_background_image_url_https': 'https://abs.twimg.com/images/themes/theme1/bg.png', 'profile_background_tile': True, 'profile_image_url': 'http://pbs.twimg.com/profile_images/1324495098042814464/mfUH-1Sq_normal.jpg', 'profile_image_url_https': 'https://pbs.twimg.com/profile_images/1324495098042814464/mfUH-1Sq_normal.jpg', 'profile_link_color': '19CF86', 'profile_sidebar_border_color': '000000', 'profile_sidebar_fill_color': 'DDEEF6', 'profile_text_color': '333333', 'profile_use_background_image': True, 'has_extended_profile': True, 'default_profile': False, 'default_profile_image': False, 'following': False, 'follow_request_sent': False, 'notifications': False, 'translator_type': 'none', 'withheld_in_countries': []}, id=1061224238, id_str='1061224238', name='lu', screen_name='LucianaGoldriz', location='Estados Unidos', description='She/Her/They/Them\\nFeminist', url=None, entities={'description': {'urls': []}}, protected=False, followers_count=43, friends_count=77, listed_count=1, created_at=datetime.datetime(2013, 1, 4, 19, 23, 3, tzinfo=datetime.timezone.utc), favourites_count=15424, utc_offset=None, time_zone=None, geo_enabled=True, verified=False, statuses_count=4153, lang=None, contributors_enabled=False, is_translator=False, is_translation_enabled=False, profile_background_color='0D0209', profile_background_image_url='http://abs.twimg.com/images/themes/theme1/bg.png', profile_background_image_url_https='https://abs.twimg.com/images/themes/theme1/bg.png', profile_background_tile=True, profile_image_url='http://pbs.twimg.com/profile_images/1324495098042814464/mfUH-1Sq_normal.jpg', profile_image_url_https='https://pbs.twimg.com/profile_images/1324495098042814464/mfUH-1Sq_normal.jpg', profile_link_color='19CF86', profile_sidebar_border_color='000000', profile_sidebar_fill_color='DDEEF6', profile_text_color='333333', profile_use_background_image=True, has_extended_profile=True, default_profile=False, default_profile_image=False, following=False, follow_request_sent=False, notifications=False, translator_type='none', withheld_in_countries=[]), user=User(_api=<tweepy.api.API object at 0x00000152E6A92CD0>, _json={'id': 1061224238, 'id_str': '1061224238', 'name': 'lu', 'screen_name': 'LucianaGoldriz', 'location': 'Estados Unidos', 'description': 'She/Her/They/Them\\nFeminist', 'url': None, 'entities': {'description': {'urls': []}}, 'protected': False, 'followers_count': 43, 'friends_count': 77, 'listed_count': 1, 'created_at': 'Fri Jan 04 19:23:03 +0000 2013', 'favourites_count': 15424, 'utc_offset': None, 'time_zone': None, 'geo_enabled': True, 'verified': False, 'statuses_count': 4153, 'lang': None, 'contributors_enabled': False, 'is_translator': False, 'is_translation_enabled': False, 'profile_background_color': '0D0209', 'profile_background_image_url': 'http://abs.twimg.com/images/themes/theme1/bg.png', 'profile_background_image_url_https': 'https://abs.twimg.com/images/themes/theme1/bg.png', 'profile_background_tile': True, 'profile_image_url': 'http://pbs.twimg.com/profile_images/1324495098042814464/mfUH-1Sq_normal.jpg', 'profile_image_url_https': 'https://pbs.twimg.com/profile_images/1324495098042814464/mfUH-1Sq_normal.jpg', 'profile_link_color': '19CF86', 'profile_sidebar_border_color': '000000', 'profile_sidebar_fill_color': 'DDEEF6', 'profile_text_color': '333333', 'profile_use_background_image': True, 'has_extended_profile': True, 'default_profile': False, 'default_profile_image': False, 'following': False, 'follow_request_sent': False, 'notifications': False, 'translator_type': 'none', 'withheld_in_countries': []}, id=1061224238, id_str='1061224238', name='lu', screen_name='LucianaGoldriz', location='Estados Unidos', description='She/Her/They/Them\\nFeminist', url=None, entities={'description': {'urls': []}}, protected=False, followers_count=43, friends_count=77, listed_count=1, created_at=datetime.datetime(2013, 1, 4, 19, 23, 3, tzinfo=datetime.timezone.utc), favourites_count=15424, utc_offset=None, time_zone=None, geo_enabled=True, verified=False, statuses_count=4153, lang=None, contributors_enabled=False, is_translator=False, is_translation_enabled=False, profile_background_color='0D0209', profile_background_image_url='http://abs.twimg.com/images/themes/theme1/bg.png', profile_background_image_url_https='https://abs.twimg.com/images/themes/theme1/bg.png', profile_background_tile=True, profile_image_url='http://pbs.twimg.com/profile_images/1324495098042814464/mfUH-1Sq_normal.jpg', profile_image_url_https='https://pbs.twimg.com/profile_images/1324495098042814464/mfUH-1Sq_normal.jpg', profile_link_color='19CF86', profile_sidebar_border_color='000000', profile_sidebar_fill_color='DDEEF6', profile_text_color='333333', profile_use_background_image=True, has_extended_profile=True, default_profile=False, default_profile_image=False, following=False, follow_request_sent=False, notifications=False, translator_type='none', withheld_in_countries=[]), geo=None, coordinates=None, place=None, contributors=None, retweeted_status=Status(_api=<tweepy.api.API object at 0x00000152E6A92CD0>, _json={'created_at': 'Fri Feb 11 19:40:44 +0000 2022', 'id': 1492222087280267264, 'id_str': '1492222087280267264', 'text': 'Llevo a Lucas y a dos amigos de en el auto.\\nAmigo 1: a mí mi mamá me reta todo el tempo por las malas palabras.\\nAmi… https://t.co/XUJQp60wo4', 'truncated': True, 'entities': {'hashtags': [], 'symbols': [], 'user_mentions': [], 'urls': [{'url': 'https://t.co/XUJQp60wo4', 'expanded_url': 'https://twitter.com/i/web/status/1492222087280267264', 'display_url': 'twitter.com/i/web/status/1…', 'indices': [117, 140]}]}, 'metadata': {'iso_language_code': 'es', 'result_type': 'recent'}, 'source': '<a href=\"http://twitter.com/download/iphone\" rel=\"nofollow\">Twitter for iPhone</a>', 'in_reply_to_status_id': None, 'in_reply_to_status_id_str': None, 'in_reply_to_user_id': None, 'in_reply_to_user_id_str': None, 'in_reply_to_screen_name': None, 'user': {'id': 768861671569891328, 'id_str': '768861671569891328', 'name': 'Julia Moret', 'screen_name': 'JuliMoret', 'location': 'Argentina', 'description': 'Asperger. Autismo. Mamá de Lucas y Ana. Fan de la Diversidad. Escribí La música que llevamos adentro (Paidós). Instagram: juli.moret juliamoretescribe@gmail.com', 'url': None, 'entities': {'description': {'urls': []}}, 'protected': False, 'followers_count': 16666, 'friends_count': 3049, 'listed_count': 36, 'created_at': 'Thu Aug 25 17:24:42 +0000 2016', 'favourites_count': 10470, 'utc_offset': None, 'time_zone': None, 'geo_enabled': False, 'verified': False, 'statuses_count': 8857, 'lang': None, 'contributors_enabled': False, 'is_translator': False, 'is_translation_enabled': False, 'profile_background_color': 'F5F8FA', 'profile_background_image_url': None, 'profile_background_image_url_https': None, 'profile_background_tile': False, 'profile_image_url': 'http://pbs.twimg.com/profile_images/768897240534507521/TKmMyDdn_normal.jpg', 'profile_image_url_https': 'https://pbs.twimg.com/profile_images/768897240534507521/TKmMyDdn_normal.jpg', 'profile_banner_url': 'https://pbs.twimg.com/profile_banners/768861671569891328/1586548537', 'profile_link_color': '1DA1F2', 'profile_sidebar_border_color': 'C0DEED', 'profile_sidebar_fill_color': 'DDEEF6', 'profile_text_color': '333333', 'profile_use_background_image': True, 'has_extended_profile': True, 'default_profile': True, 'default_profile_image': False, 'following': False, 'follow_request_sent': False, 'notifications': False, 'translator_type': 'none', 'withheld_in_countries': []}, 'geo': None, 'coordinates': None, 'place': None, 'contributors': None, 'is_quote_status': False, 'retweet_count': 255, 'favorite_count': 14469, 'favorited': False, 'retweeted': False, 'lang': 'es'}, created_at=datetime.datetime(2022, 2, 11, 19, 40, 44, tzinfo=datetime.timezone.utc), id=1492222087280267264, id_str='1492222087280267264', text='Llevo a Lucas y a dos amigos de en el auto.\\nAmigo 1: a mí mi mamá me reta todo el tempo por las malas palabras.\\nAmi… https://t.co/XUJQp60wo4', truncated=True, entities={'hashtags': [], 'symbols': [], 'user_mentions': [], 'urls': [{'url': 'https://t.co/XUJQp60wo4', 'expanded_url': 'https://twitter.com/i/web/status/1492222087280267264', 'display_url': 'twitter.com/i/web/status/1…', 'indices': [117, 140]}]}, metadata={'iso_language_code': 'es', 'result_type': 'recent'}, source='Twitter for iPhone', source_url='http://twitter.com/download/iphone', in_reply_to_status_id=None, in_reply_to_status_id_str=None, in_reply_to_user_id=None, in_reply_to_user_id_str=None, in_reply_to_screen_name=None, author=User(_api=<tweepy.api.API object at 0x00000152E6A92CD0>, _json={'id': 768861671569891328, 'id_str': '768861671569891328', 'name': 'Julia Moret', 'screen_name': 'JuliMoret', 'location': 'Argentina', 'description': 'Asperger. Autismo. Mamá de Lucas y Ana. Fan de la Diversidad. Escribí La música que llevamos adentro (Paidós). Instagram: juli.moret juliamoretescribe@gmail.com', 'url': None, 'entities': {'description': {'urls': []}}, 'protected': False, 'followers_count': 16666, 'friends_count': 3049, 'listed_count': 36, 'created_at': 'Thu Aug 25 17:24:42 +0000 2016', 'favourites_count': 10470, 'utc_offset': None, 'time_zone': None, 'geo_enabled': False, 'verified': False, 'statuses_count': 8857, 'lang': None, 'contributors_enabled': False, 'is_translator': False, 'is_translation_enabled': False, 'profile_background_color': 'F5F8FA', 'profile_background_image_url': None, 'profile_background_image_url_https': None, 'profile_background_tile': False, 'profile_image_url': 'http://pbs.twimg.com/profile_images/768897240534507521/TKmMyDdn_normal.jpg', 'profile_image_url_https': 'https://pbs.twimg.com/profile_images/768897240534507521/TKmMyDdn_normal.jpg', 'profile_banner_url': 'https://pbs.twimg.com/profile_banners/768861671569891328/1586548537', 'profile_link_color': '1DA1F2', 'profile_sidebar_border_color': 'C0DEED', 'profile_sidebar_fill_color': 'DDEEF6', 'profile_text_color': '333333', 'profile_use_background_image': True, 'has_extended_profile': True, 'default_profile': True, 'default_profile_image': False, 'following': False, 'follow_request_sent': False, 'notifications': False, 'translator_type': 'none', 'withheld_in_countries': []}, id=768861671569891328, id_str='768861671569891328', name='Julia Moret', screen_name='JuliMoret', location='Argentina', description='Asperger. Autismo. Mamá de Lucas y Ana. Fan de la Diversidad. Escribí La música que llevamos adentro (Paidós). Instagram: juli.moret juliamoretescribe@gmail.com', url=None, entities={'description': {'urls': []}}, protected=False, followers_count=16666, friends_count=3049, listed_count=36, created_at=datetime.datetime(2016, 8, 25, 17, 24, 42, tzinfo=datetime.timezone.utc), favourites_count=10470, utc_offset=None, time_zone=None, geo_enabled=False, verified=False, statuses_count=8857, lang=None, contributors_enabled=False, is_translator=False, is_translation_enabled=False, profile_background_color='F5F8FA', profile_background_image_url=None, profile_background_image_url_https=None, profile_background_tile=False, profile_image_url='http://pbs.twimg.com/profile_images/768897240534507521/TKmMyDdn_normal.jpg', profile_image_url_https='https://pbs.twimg.com/profile_images/768897240534507521/TKmMyDdn_normal.jpg', profile_banner_url='https://pbs.twimg.com/profile_banners/768861671569891328/1586548537', profile_link_color='1DA1F2', profile_sidebar_border_color='C0DEED', profile_sidebar_fill_color='DDEEF6', profile_text_color='333333', profile_use_background_image=True, has_extended_profile=True, default_profile=True, default_profile_image=False, following=False, follow_request_sent=False, notifications=False, translator_type='none', withheld_in_countries=[]), user=User(_api=<tweepy.api.API object at 0x00000152E6A92CD0>, _json={'id': 768861671569891328, 'id_str': '768861671569891328', 'name': 'Julia Moret', 'screen_name': 'JuliMoret', 'location': 'Argentina', 'description': 'Asperger. Autismo. Mamá de Lucas y Ana. Fan de la Diversidad. Escribí La música que llevamos adentro (Paidós). Instagram: juli.moret juliamoretescribe@gmail.com', 'url': None, 'entities': {'description': {'urls': []}}, 'protected': False, 'followers_count': 16666, 'friends_count': 3049, 'listed_count': 36, 'created_at': 'Thu Aug 25 17:24:42 +0000 2016', 'favourites_count': 10470, 'utc_offset': None, 'time_zone': None, 'geo_enabled': False, 'verified': False, 'statuses_count': 8857, 'lang': None, 'contributors_enabled': False, 'is_translator': False, 'is_translation_enabled': False, 'profile_background_color': 'F5F8FA', 'profile_background_image_url': None, 'profile_background_image_url_https': None, 'profile_background_tile': False, 'profile_image_url': 'http://pbs.twimg.com/profile_images/768897240534507521/TKmMyDdn_normal.jpg', 'profile_image_url_https': 'https://pbs.twimg.com/profile_images/768897240534507521/TKmMyDdn_normal.jpg', 'profile_banner_url': 'https://pbs.twimg.com/profile_banners/768861671569891328/1586548537', 'profile_link_color': '1DA1F2', 'profile_sidebar_border_color': 'C0DEED', 'profile_sidebar_fill_color': 'DDEEF6', 'profile_text_color': '333333', 'profile_use_background_image': True, 'has_extended_profile': True, 'default_profile': True, 'default_profile_image': False, 'following': False, 'follow_request_sent': False, 'notifications': False, 'translator_type': 'none', 'withheld_in_countries': []}, id=768861671569891328, id_str='768861671569891328', name='Julia Moret', screen_name='JuliMoret', location='Argentina', description='Asperger. Autismo. Mamá de Lucas y Ana. Fan de la Diversidad. Escribí La música que llevamos adentro (Paidós). Instagram: juli.moret juliamoretescribe@gmail.com', url=None, entities={'description': {'urls': []}}, protected=False, followers_count=16666, friends_count=3049, listed_count=36, created_at=datetime.datetime(2016, 8, 25, 17, 24, 42, tzinfo=datetime.timezone.utc), favourites_count=10470, utc_offset=None, time_zone=None, geo_enabled=False, verified=False, statuses_count=8857, lang=None, contributors_enabled=False, is_translator=False, is_translation_enabled=False, profile_background_color='F5F8FA', profile_background_image_url=None, profile_background_image_url_https=None, profile_background_tile=False, profile_image_url='http://pbs.twimg.com/profile_images/768897240534507521/TKmMyDdn_normal.jpg', profile_image_url_https='https://pbs.twimg.com/profile_images/768897240534507521/TKmMyDdn_normal.jpg', profile_banner_url='https://pbs.twimg.com/profile_banners/768861671569891328/1586548537', profile_link_color='1DA1F2', profile_sidebar_border_color='C0DEED', profile_sidebar_fill_color='DDEEF6', profile_text_color='333333', profile_use_background_image=True, has_extended_profile=True, default_profile=True, default_profile_image=False, following=False, follow_request_sent=False, notifications=False, translator_type='none', withheld_in_countries=[]), geo=None, coordinates=None, place=None, contributors=None, is_quote_status=False, retweet_count=255, favorite_count=14469, favorited=False, retweeted=False, lang='es'), is_quote_status=False, retweet_count=255, favorite_count=0, favorited=False, retweeted=False, lang='es'), Status(_api=<tweepy.api.API object at 0x00000152E6A92CD0>, _json={'created_at': 'Sat Feb 12 16:07:20 +0000 2022', 'id': 1492530772527431684, 'id_str': '1492530772527431684', 'text': 'RT @funes_bri: un día sos joven y al otro crees en el universo, el Karma, las malas energías,la ley de atracción y vas por la vida prendien…', 'truncated': False, 'entities': {'hashtags': [], 'symbols': [], 'user_mentions': [{'screen_name': 'funes_bri', 'name': 'Bri🐞', 'id': 894058082405318656, 'id_str': '894058082405318656', 'indices': [3, 13]}], 'urls': []}, 'metadata': {'iso_language_code': 'es', 'result_type': 'recent'}, 'source': '<a href=\"http://twitter.com/download/android\" rel=\"nofollow\">Twitter for Android</a>', 'in_reply_to_status_id': None, 'in_reply_to_status_id_str': None, 'in_reply_to_user_id': None, 'in_reply_to_user_id_str': None, 'in_reply_to_screen_name': None, 'user': {'id': 1109133167661862912, 'id_str': '1109133167661862912', 'name': 'ju busca', 'screen_name': 'JuliBusca1', 'location': 'Buenos Aires, Argentina', 'description': 'Nacimos de Boca y nos vamos a morir de Boca.\\n✞♔', 'url': None, 'entities': {'description': {'urls': []}}, 'protected': False, 'followers_count': 121, 'friends_count': 99, 'listed_count': 0, 'created_at': 'Fri Mar 22 16:42:08 +0000 2019', 'favourites_count': 4583, 'utc_offset': None, 'time_zone': None, 'geo_enabled': False, 'verified': False, 'statuses_count': 2985, 'lang': None, 'contributors_enabled': False, 'is_translator': False, 'is_translation_enabled': False, 'profile_background_color': 'F5F8FA', 'profile_background_image_url': None, 'profile_background_image_url_https': None, 'profile_background_tile': False, 'profile_image_url': 'http://pbs.twimg.com/profile_images/1469699634196992002/1MjLusUp_normal.jpg', 'profile_image_url_https': 'https://pbs.twimg.com/profile_images/1469699634196992002/1MjLusUp_normal.jpg', 'profile_banner_url': 'https://pbs.twimg.com/profile_banners/1109133167661862912/1593145111', 'profile_link_color': '1DA1F2', 'profile_sidebar_border_color': 'C0DEED', 'profile_sidebar_fill_color': 'DDEEF6', 'profile_text_color': '333333', 'profile_use_background_image': True, 'has_extended_profile': True, 'default_profile': True, 'default_profile_image': False, 'following': False, 'follow_request_sent': False, 'notifications': False, 'translator_type': 'none', 'withheld_in_countries': []}, 'geo': None, 'coordinates': None, 'place': None, 'contributors': None, 'retweeted_status': {'created_at': 'Thu Feb 10 19:06:29 +0000 2022', 'id': 1491851081642496010, 'id_str': '1491851081642496010', 'text': 'un día sos joven y al otro crees en el universo, el Karma, las malas energías,la ley de atracción y vas por la vida prendiendo sahumerios', 'truncated': False, 'entities': {'hashtags': [], 'symbols': [], 'user_mentions': [], 'urls': []}, 'metadata': {'iso_language_code': 'es', 'result_type': 'recent'}, 'source': '<a href=\"http://twitter.com/download/iphone\" rel=\"nofollow\">Twitter for iPhone</a>', 'in_reply_to_status_id': None, 'in_reply_to_status_id_str': None, 'in_reply_to_user_id': None, 'in_reply_to_user_id_str': None, 'in_reply_to_screen_name': None, 'user': {'id': 894058082405318656, 'id_str': '894058082405318656', 'name': 'Bri🐞', 'screen_name': 'funes_bri', 'location': 'San Juan, Argentina', 'description': '', 'url': 'https://t.co/zbTN3jgxoY', 'entities': {'url': {'urls': [{'url': 'https://t.co/zbTN3jgxoY', 'expanded_url': 'https://instagram.com/brifunes03?r=nametag', 'display_url': 'instagram.com/brifunes03?r=n…', 'indices': [0, 23]}]}, 'description': {'urls': []}}, 'protected': False, 'followers_count': 134, 'friends_count': 266, 'listed_count': 0, 'created_at': 'Sun Aug 06 04:50:32 +0000 2017', 'favourites_count': 10512, 'utc_offset': None, 'time_zone': None, 'geo_enabled': False, 'verified': False, 'statuses_count': 758, 'lang': None, 'contributors_enabled': False, 'is_translator': False, 'is_translation_enabled': False, 'profile_background_color': 'F5F8FA', 'profile_background_image_url': None, 'profile_background_image_url_https': None, 'profile_background_tile': False, 'profile_image_url': 'http://pbs.twimg.com/profile_images/1483306969322737672/ci3qhGoT_normal.jpg', 'profile_image_url_https': 'https://pbs.twimg.com/profile_images/1483306969322737672/ci3qhGoT_normal.jpg', 'profile_banner_url': 'https://pbs.twimg.com/profile_banners/894058082405318656/1638467640', 'profile_link_color': '1DA1F2', 'profile_sidebar_border_color': 'C0DEED', 'profile_sidebar_fill_color': 'DDEEF6', 'profile_text_color': '333333', 'profile_use_background_image': True, 'has_extended_profile': True, 'default_profile': True, 'default_profile_image': False, 'following': False, 'follow_request_sent': False, 'notifications': False, 'translator_type': 'none', 'withheld_in_countries': []}, 'geo': None, 'coordinates': None, 'place': None, 'contributors': None, 'is_quote_status': False, 'retweet_count': 11857, 'favorite_count': 39089, 'favorited': False, 'retweeted': False, 'lang': 'es'}, 'is_quote_status': False, 'retweet_count': 11857, 'favorite_count': 0, 'favorited': False, 'retweeted': False, 'lang': 'es'}, created_at=datetime.datetime(2022, 2, 12, 16, 7, 20, tzinfo=datetime.timezone.utc), id=1492530772527431684, id_str='1492530772527431684', text='RT @funes_bri: un día sos joven y al otro crees en el universo, el Karma, las malas energías,la ley de atracción y vas por la vida prendien…', truncated=False, entities={'hashtags': [], 'symbols': [], 'user_mentions': [{'screen_name': 'funes_bri', 'name': 'Bri🐞', 'id': 894058082405318656, 'id_str': '894058082405318656', 'indices': [3, 13]}], 'urls': []}, metadata={'iso_language_code': 'es', 'result_type': 'recent'}, source='Twitter for Android', source_url='http://twitter.com/download/android', in_reply_to_status_id=None, in_reply_to_status_id_str=None, in_reply_to_user_id=None, in_reply_to_user_id_str=None, in_reply_to_screen_name=None, author=User(_api=<tweepy.api.API object at 0x00000152E6A92CD0>, _json={'id': 1109133167661862912, 'id_str': '1109133167661862912', 'name': 'ju busca', 'screen_name': 'JuliBusca1', 'location': 'Buenos Aires, Argentina', 'description': 'Nacimos de Boca y nos vamos a morir de Boca.\\n✞♔', 'url': None, 'entities': {'description': {'urls': []}}, 'protected': False, 'followers_count': 121, 'friends_count': 99, 'listed_count': 0, 'created_at': 'Fri Mar 22 16:42:08 +0000 2019', 'favourites_count': 4583, 'utc_offset': None, 'time_zone': None, 'geo_enabled': False, 'verified': False, 'statuses_count': 2985, 'lang': None, 'contributors_enabled': False, 'is_translator': False, 'is_translation_enabled': False, 'profile_background_color': 'F5F8FA', 'profile_background_image_url': None, 'profile_background_image_url_https': None, 'profile_background_tile': False, 'profile_image_url': 'http://pbs.twimg.com/profile_images/1469699634196992002/1MjLusUp_normal.jpg', 'profile_image_url_https': 'https://pbs.twimg.com/profile_images/1469699634196992002/1MjLusUp_normal.jpg', 'profile_banner_url': 'https://pbs.twimg.com/profile_banners/1109133167661862912/1593145111', 'profile_link_color': '1DA1F2', 'profile_sidebar_border_color': 'C0DEED', 'profile_sidebar_fill_color': 'DDEEF6', 'profile_text_color': '333333', 'profile_use_background_image': True, 'has_extended_profile': True, 'default_profile': True, 'default_profile_image': False, 'following': False, 'follow_request_sent': False, 'notifications': False, 'translator_type': 'none', 'withheld_in_countries': []}, id=1109133167661862912, id_str='1109133167661862912', name='ju busca', screen_name='JuliBusca1', location='Buenos Aires, Argentina', description='Nacimos de Boca y nos vamos a morir de Boca.\\n✞♔', url=None, entities={'description': {'urls': []}}, protected=False, followers_count=121, friends_count=99, listed_count=0, created_at=datetime.datetime(2019, 3, 22, 16, 42, 8, tzinfo=datetime.timezone.utc), favourites_count=4583, utc_offset=None, time_zone=None, geo_enabled=False, verified=False, statuses_count=2985, lang=None, contributors_enabled=False, is_translator=False, is_translation_enabled=False, profile_background_color='F5F8FA', profile_background_image_url=None, profile_background_image_url_https=None, profile_background_tile=False, profile_image_url='http://pbs.twimg.com/profile_images/1469699634196992002/1MjLusUp_normal.jpg', profile_image_url_https='https://pbs.twimg.com/profile_images/1469699634196992002/1MjLusUp_normal.jpg', profile_banner_url='https://pbs.twimg.com/profile_banners/1109133167661862912/1593145111', profile_link_color='1DA1F2', profile_sidebar_border_color='C0DEED', profile_sidebar_fill_color='DDEEF6', profile_text_color='333333', profile_use_background_image=True, has_extended_profile=True, default_profile=True, default_profile_image=False, following=False, follow_request_sent=False, notifications=False, translator_type='none', withheld_in_countries=[]), user=User(_api=<tweepy.api.API object at 0x00000152E6A92CD0>, _json={'id': 1109133167661862912, 'id_str': '1109133167661862912', 'name': 'ju busca', 'screen_name': 'JuliBusca1', 'location': 'Buenos Aires, Argentina', 'description': 'Nacimos de Boca y nos vamos a morir de Boca.\\n✞♔', 'url': None, 'entities': {'description': {'urls': []}}, 'protected': False, 'followers_count': 121, 'friends_count': 99, 'listed_count': 0, 'created_at': 'Fri Mar 22 16:42:08 +0000 2019', 'favourites_count': 4583, 'utc_offset': None, 'time_zone': None, 'geo_enabled': False, 'verified': False, 'statuses_count': 2985, 'lang': None, 'contributors_enabled': False, 'is_translator': False, 'is_translation_enabled': False, 'profile_background_color': 'F5F8FA', 'profile_background_image_url': None, 'profile_background_image_url_https': None, 'profile_background_tile': False, 'profile_image_url': 'http://pbs.twimg.com/profile_images/1469699634196992002/1MjLusUp_normal.jpg', 'profile_image_url_https': 'https://pbs.twimg.com/profile_images/1469699634196992002/1MjLusUp_normal.jpg', 'profile_banner_url': 'https://pbs.twimg.com/profile_banners/1109133167661862912/1593145111', 'profile_link_color': '1DA1F2', 'profile_sidebar_border_color': 'C0DEED', 'profile_sidebar_fill_color': 'DDEEF6', 'profile_text_color': '333333', 'profile_use_background_image': True, 'has_extended_profile': True, 'default_profile': True, 'default_profile_image': False, 'following': False, 'follow_request_sent': False, 'notifications': False, 'translator_type': 'none', 'withheld_in_countries': []}, id=1109133167661862912, id_str='1109133167661862912', name='ju busca', screen_name='JuliBusca1', location='Buenos Aires, Argentina', description='Nacimos de Boca y nos vamos a morir de Boca.\\n✞♔', url=None, entities={'description': {'urls': []}}, protected=False, followers_count=121, friends_count=99, listed_count=0, created_at=datetime.datetime(2019, 3, 22, 16, 42, 8, tzinfo=datetime.timezone.utc), favourites_count=4583, utc_offset=None, time_zone=None, geo_enabled=False, verified=False, statuses_count=2985, lang=None, contributors_enabled=False, is_translator=False, is_translation_enabled=False, profile_background_color='F5F8FA', profile_background_image_url=None, profile_background_image_url_https=None, profile_background_tile=False, profile_image_url='http://pbs.twimg.com/profile_images/1469699634196992002/1MjLusUp_normal.jpg', profile_image_url_https='https://pbs.twimg.com/profile_images/1469699634196992002/1MjLusUp_normal.jpg', profile_banner_url='https://pbs.twimg.com/profile_banners/1109133167661862912/1593145111', profile_link_color='1DA1F2', profile_sidebar_border_color='C0DEED', profile_sidebar_fill_color='DDEEF6', profile_text_color='333333', profile_use_background_image=True, has_extended_profile=True, default_profile=True, default_profile_image=False, following=False, follow_request_sent=False, notifications=False, translator_type='none', withheld_in_countries=[]), geo=None, coordinates=None, place=None, contributors=None, retweeted_status=Status(_api=<tweepy.api.API object at 0x00000152E6A92CD0>, _json={'created_at': 'Thu Feb 10 19:06:29 +0000 2022', 'id': 1491851081642496010, 'id_str': '1491851081642496010', 'text': 'un día sos joven y al otro crees en el universo, el Karma, las malas energías,la ley de atracción y vas por la vida prendiendo sahumerios', 'truncated': False, 'entities': {'hashtags': [], 'symbols': [], 'user_mentions': [], 'urls': []}, 'metadata': {'iso_language_code': 'es', 'result_type': 'recent'}, 'source': '<a href=\"http://twitter.com/download/iphone\" rel=\"nofollow\">Twitter for iPhone</a>', 'in_reply_to_status_id': None, 'in_reply_to_status_id_str': None, 'in_reply_to_user_id': None, 'in_reply_to_user_id_str': None, 'in_reply_to_screen_name': None, 'user': {'id': 894058082405318656, 'id_str': '894058082405318656', 'name': 'Bri🐞', 'screen_name': 'funes_bri', 'location': 'San Juan, Argentina', 'description': '', 'url': 'https://t.co/zbTN3jgxoY', 'entities': {'url': {'urls': [{'url': 'https://t.co/zbTN3jgxoY', 'expanded_url': 'https://instagram.com/brifunes03?r=nametag', 'display_url': 'instagram.com/brifunes03?r=n…', 'indices': [0, 23]}]}, 'description': {'urls': []}}, 'protected': False, 'followers_count': 134, 'friends_count': 266, 'listed_count': 0, 'created_at': 'Sun Aug 06 04:50:32 +0000 2017', 'favourites_count': 10512, 'utc_offset': None, 'time_zone': None, 'geo_enabled': False, 'verified': False, 'statuses_count': 758, 'lang': None, 'contributors_enabled': False, 'is_translator': False, 'is_translation_enabled': False, 'profile_background_color': 'F5F8FA', 'profile_background_image_url': None, 'profile_background_image_url_https': None, 'profile_background_tile': False, 'profile_image_url': 'http://pbs.twimg.com/profile_images/1483306969322737672/ci3qhGoT_normal.jpg', 'profile_image_url_https': 'https://pbs.twimg.com/profile_images/1483306969322737672/ci3qhGoT_normal.jpg', 'profile_banner_url': 'https://pbs.twimg.com/profile_banners/894058082405318656/1638467640', 'profile_link_color': '1DA1F2', 'profile_sidebar_border_color': 'C0DEED', 'profile_sidebar_fill_color': 'DDEEF6', 'profile_text_color': '333333', 'profile_use_background_image': True, 'has_extended_profile': True, 'default_profile': True, 'default_profile_image': False, 'following': False, 'follow_request_sent': False, 'notifications': False, 'translator_type': 'none', 'withheld_in_countries': []}, 'geo': None, 'coordinates': None, 'place': None, 'contributors': None, 'is_quote_status': False, 'retweet_count': 11857, 'favorite_count': 39089, 'favorited': False, 'retweeted': False, 'lang': 'es'}, created_at=datetime.datetime(2022, 2, 10, 19, 6, 29, tzinfo=datetime.timezone.utc), id=1491851081642496010, id_str='1491851081642496010', text='un día sos joven y al otro crees en el universo, el Karma, las malas energías,la ley de atracción y vas por la vida prendiendo sahumerios', truncated=False, entities={'hashtags': [], 'symbols': [], 'user_mentions': [], 'urls': []}, metadata={'iso_language_code': 'es', 'result_type': 'recent'}, source='Twitter for iPhone', source_url='http://twitter.com/download/iphone', in_reply_to_status_id=None, in_reply_to_status_id_str=None, in_reply_to_user_id=None, in_reply_to_user_id_str=None, in_reply_to_screen_name=None, author=User(_api=<tweepy.api.API object at 0x00000152E6A92CD0>, _json={'id': 894058082405318656, 'id_str': '894058082405318656', 'name': 'Bri🐞', 'screen_name': 'funes_bri', 'location': 'San Juan, Argentina', 'description': '', 'url': 'https://t.co/zbTN3jgxoY', 'entities': {'url': {'urls': [{'url': 'https://t.co/zbTN3jgxoY', 'expanded_url': 'https://instagram.com/brifunes03?r=nametag', 'display_url': 'instagram.com/brifunes03?r=n…', 'indices': [0, 23]}]}, 'description': {'urls': []}}, 'protected': False, 'followers_count': 134, 'friends_count': 266, 'listed_count': 0, 'created_at': 'Sun Aug 06 04:50:32 +0000 2017', 'favourites_count': 10512, 'utc_offset': None, 'time_zone': None, 'geo_enabled': False, 'verified': False, 'statuses_count': 758, 'lang': None, 'contributors_enabled': False, 'is_translator': False, 'is_translation_enabled': False, 'profile_background_color': 'F5F8FA', 'profile_background_image_url': None, 'profile_background_image_url_https': None, 'profile_background_tile': False, 'profile_image_url': 'http://pbs.twimg.com/profile_images/1483306969322737672/ci3qhGoT_normal.jpg', 'profile_image_url_https': 'https://pbs.twimg.com/profile_images/1483306969322737672/ci3qhGoT_normal.jpg', 'profile_banner_url': 'https://pbs.twimg.com/profile_banners/894058082405318656/1638467640', 'profile_link_color': '1DA1F2', 'profile_sidebar_border_color': 'C0DEED', 'profile_sidebar_fill_color': 'DDEEF6', 'profile_text_color': '333333', 'profile_use_background_image': True, 'has_extended_profile': True, 'default_profile': True, 'default_profile_image': False, 'following': False, 'follow_request_sent': False, 'notifications': False, 'translator_type': 'none', 'withheld_in_countries': []}, id=894058082405318656, id_str='894058082405318656', name='Bri🐞', screen_name='funes_bri', location='San Juan, Argentina', description='', url='https://t.co/zbTN3jgxoY', entities={'url': {'urls': [{'url': 'https://t.co/zbTN3jgxoY', 'expanded_url': 'https://instagram.com/brifunes03?r=nametag', 'display_url': 'instagram.com/brifunes03?r=n…', 'indices': [0, 23]}]}, 'description': {'urls': []}}, protected=False, followers_count=134, friends_count=266, listed_count=0, created_at=datetime.datetime(2017, 8, 6, 4, 50, 32, tzinfo=datetime.timezone.utc), favourites_count=10512, utc_offset=None, time_zone=None, geo_enabled=False, verified=False, statuses_count=758, lang=None, contributors_enabled=False, is_translator=False, is_translation_enabled=False, profile_background_color='F5F8FA', profile_background_image_url=None, profile_background_image_url_https=None, profile_background_tile=False, profile_image_url='http://pbs.twimg.com/profile_images/1483306969322737672/ci3qhGoT_normal.jpg', profile_image_url_https='https://pbs.twimg.com/profile_images/1483306969322737672/ci3qhGoT_normal.jpg', profile_banner_url='https://pbs.twimg.com/profile_banners/894058082405318656/1638467640', profile_link_color='1DA1F2', profile_sidebar_border_color='C0DEED', profile_sidebar_fill_color='DDEEF6', profile_text_color='333333', profile_use_background_image=True, has_extended_profile=True, default_profile=True, default_profile_image=False, following=False, follow_request_sent=False, notifications=False, translator_type='none', withheld_in_countries=[]), user=User(_api=<tweepy.api.API object at 0x00000152E6A92CD0>, _json={'id': 894058082405318656, 'id_str': '894058082405318656', 'name': 'Bri🐞', 'screen_name': 'funes_bri', 'location': 'San Juan, Argentina', 'description': '', 'url': 'https://t.co/zbTN3jgxoY', 'entities': {'url': {'urls': [{'url': 'https://t.co/zbTN3jgxoY', 'expanded_url': 'https://instagram.com/brifunes03?r=nametag', 'display_url': 'instagram.com/brifunes03?r=n…', 'indices': [0, 23]}]}, 'description': {'urls': []}}, 'protected': False, 'followers_count': 134, 'friends_count': 266, 'listed_count': 0, 'created_at': 'Sun Aug 06 04:50:32 +0000 2017', 'favourites_count': 10512, 'utc_offset': None, 'time_zone': None, 'geo_enabled': False, 'verified': False, 'statuses_count': 758, 'lang': None, 'contributors_enabled': False, 'is_translator': False, 'is_translation_enabled': False, 'profile_background_color': 'F5F8FA', 'profile_background_image_url': None, 'profile_background_image_url_https': None, 'profile_background_tile': False, 'profile_image_url': 'http://pbs.twimg.com/profile_images/1483306969322737672/ci3qhGoT_normal.jpg', 'profile_image_url_https': 'https://pbs.twimg.com/profile_images/1483306969322737672/ci3qhGoT_normal.jpg', 'profile_banner_url': 'https://pbs.twimg.com/profile_banners/894058082405318656/1638467640', 'profile_link_color': '1DA1F2', 'profile_sidebar_border_color': 'C0DEED', 'profile_sidebar_fill_color': 'DDEEF6', 'profile_text_color': '333333', 'profile_use_background_image': True, 'has_extended_profile': True, 'default_profile': True, 'default_profile_image': False, 'following': False, 'follow_request_sent': False, 'notifications': False, 'translator_type': 'none', 'withheld_in_countries': []}, id=894058082405318656, id_str='894058082405318656', name='Bri🐞', screen_name='funes_bri', location='San Juan, Argentina', description='', url='https://t.co/zbTN3jgxoY', entities={'url': {'urls': [{'url': 'https://t.co/zbTN3jgxoY', 'expanded_url': 'https://instagram.com/brifunes03?r=nametag', 'display_url': 'instagram.com/brifunes03?r=n…', 'indices': [0, 23]}]}, 'description': {'urls': []}}, protected=False, followers_count=134, friends_count=266, listed_count=0, created_at=datetime.datetime(2017, 8, 6, 4, 50, 32, tzinfo=datetime.timezone.utc), favourites_count=10512, utc_offset=None, time_zone=None, geo_enabled=False, verified=False, statuses_count=758, lang=None, contributors_enabled=False, is_translator=False, is_translation_enabled=False, profile_background_color='F5F8FA', profile_background_image_url=None, profile_background_image_url_https=None, profile_background_tile=False, profile_image_url='http://pbs.twimg.com/profile_images/1483306969322737672/ci3qhGoT_normal.jpg', profile_image_url_https='https://pbs.twimg.com/profile_images/1483306969322737672/ci3qhGoT_normal.jpg', profile_banner_url='https://pbs.twimg.com/profile_banners/894058082405318656/1638467640', profile_link_color='1DA1F2', profile_sidebar_border_color='C0DEED', profile_sidebar_fill_color='DDEEF6', profile_text_color='333333', profile_use_background_image=True, has_extended_profile=True, default_profile=True, default_profile_image=False, following=False, follow_request_sent=False, notifications=False, translator_type='none', withheld_in_countries=[]), geo=None, coordinates=None, place=None, contributors=None, is_quote_status=False, retweet_count=11857, favorite_count=39089, favorited=False, retweeted=False, lang='es'), is_quote_status=False, retweet_count=11857, favorite_count=0, favorited=False, retweeted=False, lang='es'), Status(_api=<tweepy.api.API object at 0x00000152E6A92CD0>, _json={'created_at': 'Sat Feb 12 16:07:20 +0000 2022', 'id': 1492530772187967490, 'id_str': '1492530772187967490', 'text': '@aintursugar Malas kali buka anaknya', 'truncated': False, 'entities': {'hashtags': [], 'symbols': [], 'user_mentions': [{'screen_name': 'aintursugar', 'name': 'lilith💫', 'id': 1051853409739894784, 'id_str': '1051853409739894784', 'indices': [0, 12]}], 'urls': []}, 'metadata': {'iso_language_code': 'in', 'result_type': 'recent'}, 'source': '<a href=\"http://twitter.com/download/iphone\" rel=\"nofollow\">Twitter for iPhone</a>', 'in_reply_to_status_id': 1492530429152268292, 'in_reply_to_status_id_str': '1492530429152268292', 'in_reply_to_user_id': 1051853409739894784, 'in_reply_to_user_id_str': '1051853409739894784', 'in_reply_to_screen_name': 'aintursugar', 'user': {'id': 968422518510927872, 'id_str': '968422518510927872', 'name': 'ً', 'screen_name': 'komunice_', 'location': '', 'description': 'wkwkwk', 'url': None, 'entities': {'description': {'urls': []}}, 'protected': False, 'followers_count': 152, 'friends_count': 225, 'listed_count': 0, 'created_at': 'Tue Feb 27 09:48:15 +0000 2018', 'favourites_count': 211, 'utc_offset': None, 'time_zone': None, 'geo_enabled': False, 'verified': False, 'statuses_count': 11440, 'lang': None, 'contributors_enabled': False, 'is_translator': False, 'is_translation_enabled': False, 'profile_background_color': '000000', 'profile_background_image_url': 'http://abs.twimg.com/images/themes/theme1/bg.png', 'profile_background_image_url_https': 'https://abs.twimg.com/images/themes/theme1/bg.png', 'profile_background_tile': False, 'profile_image_url': 'http://pbs.twimg.com/profile_images/1477230137351442435/ooFCn1qN_normal.jpg', 'profile_image_url_https': 'https://pbs.twimg.com/profile_images/1477230137351442435/ooFCn1qN_normal.jpg', 'profile_banner_url': 'https://pbs.twimg.com/profile_banners/968422518510927872/1638552114', 'profile_link_color': 'ABB8C2', 'profile_sidebar_border_color': '000000', 'profile_sidebar_fill_color': '000000', 'profile_text_color': '000000', 'profile_use_background_image': False, 'has_extended_profile': False, 'default_profile': False, 'default_profile_image': False, 'following': False, 'follow_request_sent': False, 'notifications': False, 'translator_type': 'none', 'withheld_in_countries': []}, 'geo': None, 'coordinates': None, 'place': None, 'contributors': None, 'is_quote_status': False, 'retweet_count': 0, 'favorite_count': 0, 'favorited': False, 'retweeted': False, 'lang': 'in'}, created_at=datetime.datetime(2022, 2, 12, 16, 7, 20, tzinfo=datetime.timezone.utc), id=1492530772187967490, id_str='1492530772187967490', text='@aintursugar Malas kali buka anaknya', truncated=False, entities={'hashtags': [], 'symbols': [], 'user_mentions': [{'screen_name': 'aintursugar', 'name': 'lilith💫', 'id': 1051853409739894784, 'id_str': '1051853409739894784', 'indices': [0, 12]}], 'urls': []}, metadata={'iso_language_code': 'in', 'result_type': 'recent'}, source='Twitter for iPhone', source_url='http://twitter.com/download/iphone', in_reply_to_status_id=1492530429152268292, in_reply_to_status_id_str='1492530429152268292', in_reply_to_user_id=1051853409739894784, in_reply_to_user_id_str='1051853409739894784', in_reply_to_screen_name='aintursugar', author=User(_api=<tweepy.api.API object at 0x00000152E6A92CD0>, _json={'id': 968422518510927872, 'id_str': '968422518510927872', 'name': 'ً', 'screen_name': 'komunice_', 'location': '', 'description': 'wkwkwk', 'url': None, 'entities': {'description': {'urls': []}}, 'protected': False, 'followers_count': 152, 'friends_count': 225, 'listed_count': 0, 'created_at': 'Tue Feb 27 09:48:15 +0000 2018', 'favourites_count': 211, 'utc_offset': None, 'time_zone': None, 'geo_enabled': False, 'verified': False, 'statuses_count': 11440, 'lang': None, 'contributors_enabled': False, 'is_translator': False, 'is_translation_enabled': False, 'profile_background_color': '000000', 'profile_background_image_url': 'http://abs.twimg.com/images/themes/theme1/bg.png', 'profile_background_image_url_https': 'https://abs.twimg.com/images/themes/theme1/bg.png', 'profile_background_tile': False, 'profile_image_url': 'http://pbs.twimg.com/profile_images/1477230137351442435/ooFCn1qN_normal.jpg', 'profile_image_url_https': 'https://pbs.twimg.com/profile_images/1477230137351442435/ooFCn1qN_normal.jpg', 'profile_banner_url': 'https://pbs.twimg.com/profile_banners/968422518510927872/1638552114', 'profile_link_color': 'ABB8C2', 'profile_sidebar_border_color': '000000', 'profile_sidebar_fill_color': '000000', 'profile_text_color': '000000', 'profile_use_background_image': False, 'has_extended_profile': False, 'default_profile': False, 'default_profile_image': False, 'following': False, 'follow_request_sent': False, 'notifications': False, 'translator_type': 'none', 'withheld_in_countries': []}, id=968422518510927872, id_str='968422518510927872', name='ً', screen_name='komunice_', location='', description='wkwkwk', url=None, entities={'description': {'urls': []}}, protected=False, followers_count=152, friends_count=225, listed_count=0, created_at=datetime.datetime(2018, 2, 27, 9, 48, 15, tzinfo=datetime.timezone.utc), favourites_count=211, utc_offset=None, time_zone=None, geo_enabled=False, verified=False, statuses_count=11440, lang=None, contributors_enabled=False, is_translator=False, is_translation_enabled=False, profile_background_color='000000', profile_background_image_url='http://abs.twimg.com/images/themes/theme1/bg.png', profile_background_image_url_https='https://abs.twimg.com/images/themes/theme1/bg.png', profile_background_tile=False, profile_image_url='http://pbs.twimg.com/profile_images/1477230137351442435/ooFCn1qN_normal.jpg', profile_image_url_https='https://pbs.twimg.com/profile_images/1477230137351442435/ooFCn1qN_normal.jpg', profile_banner_url='https://pbs.twimg.com/profile_banners/968422518510927872/1638552114', profile_link_color='ABB8C2', profile_sidebar_border_color='000000', profile_sidebar_fill_color='000000', profile_text_color='000000', profile_use_background_image=False, has_extended_profile=False, default_profile=False, default_profile_image=False, following=False, follow_request_sent=False, notifications=False, translator_type='none', withheld_in_countries=[]), user=User(_api=<tweepy.api.API object at 0x00000152E6A92CD0>, _json={'id': 968422518510927872, 'id_str': '968422518510927872', 'name': 'ً', 'screen_name': 'komunice_', 'location': '', 'description': 'wkwkwk', 'url': None, 'entities': {'description': {'urls': []}}, 'protected': False, 'followers_count': 152, 'friends_count': 225, 'listed_count': 0, 'created_at': 'Tue Feb 27 09:48:15 +0000 2018', 'favourites_count': 211, 'utc_offset': None, 'time_zone': None, 'geo_enabled': False, 'verified': False, 'statuses_count': 11440, 'lang': None, 'contributors_enabled': False, 'is_translator': False, 'is_translation_enabled': False, 'profile_background_color': '000000', 'profile_background_image_url': 'http://abs.twimg.com/images/themes/theme1/bg.png', 'profile_background_image_url_https': 'https://abs.twimg.com/images/themes/theme1/bg.png', 'profile_background_tile': False, 'profile_image_url': 'http://pbs.twimg.com/profile_images/1477230137351442435/ooFCn1qN_normal.jpg', 'profile_image_url_https': 'https://pbs.twimg.com/profile_images/1477230137351442435/ooFCn1qN_normal.jpg', 'profile_banner_url': 'https://pbs.twimg.com/profile_banners/968422518510927872/1638552114', 'profile_link_color': 'ABB8C2', 'profile_sidebar_border_color': '000000', 'profile_sidebar_fill_color': '000000', 'profile_text_color': '000000', 'profile_use_background_image': False, 'has_extended_profile': False, 'default_profile': False, 'default_profile_image': False, 'following': False, 'follow_request_sent': False, 'notifications': False, 'translator_type': 'none', 'withheld_in_countries': []}, id=968422518510927872, id_str='968422518510927872', name='ً', screen_name='komunice_', location='', description='wkwkwk', url=None, entities={'description': {'urls': []}}, protected=False, followers_count=152, friends_count=225, listed_count=0, created_at=datetime.datetime(2018, 2, 27, 9, 48, 15, tzinfo=datetime.timezone.utc), favourites_count=211, utc_offset=None, time_zone=None, geo_enabled=False, verified=False, statuses_count=11440, lang=None, contributors_enabled=False, is_translator=False, is_translation_enabled=False, profile_background_color='000000', profile_background_image_url='http://abs.twimg.com/images/themes/theme1/bg.png', profile_background_image_url_https='https://abs.twimg.com/images/themes/theme1/bg.png', profile_background_tile=False, profile_image_url='http://pbs.twimg.com/profile_images/1477230137351442435/ooFCn1qN_normal.jpg', profile_image_url_https='https://pbs.twimg.com/profile_images/1477230137351442435/ooFCn1qN_normal.jpg', profile_banner_url='https://pbs.twimg.com/profile_banners/968422518510927872/1638552114', profile_link_color='ABB8C2', profile_sidebar_border_color='000000', profile_sidebar_fill_color='000000', profile_text_color='000000', profile_use_background_image=False, has_extended_profile=False, default_profile=False, default_profile_image=False, following=False, follow_request_sent=False, notifications=False, translator_type='none', withheld_in_countries=[]), geo=None, coordinates=None, place=None, contributors=None, is_quote_status=False, retweet_count=0, favorite_count=0, favorited=False, retweeted=False, lang='in')]\n"
     ]
    }
   ],
   "source": [
    "import tweepy as tw\n",
    "\n",
    "####Credentials\n",
    "consumer_key='VClbThxnr6T59VVrXtJJ1c7yF'\n",
    "consumer_secret='SKR1Oxo1MTgn6veEEfuEj76nrTaklhtxYP0mlFjHIneJEKubf1'\n",
    "access_token='1362975019131760642-5EjLvg3qNvIAVVa5ui9CO27RWHhWTQ'\n",
    "access_token_secret='8l1NLLiRnd4XIVDtFnoW75GrABPffKB2bR4SgDy5A72VP'\n",
    "\n",
    "# Authenticate\n",
    "auth = tw.OAuthHandler(consumer_key, consumer_secret)\n",
    "# Set Tokens\n",
    "auth.set_access_token(access_token, access_token_secret)\n",
    "# Instantiate API\n",
    "api = tw.API(auth, wait_on_rate_limit=True)\n",
    "\n",
    "#Download Tweet\n",
    "KataKunci = input(\"Masukan Kata Kunci:\")\n",
    "JmlTweets = int(input(\"Masukan Jumlah Tweets:\"))\n",
    "searched_tweets = [status for status in tw.Cursor(api.search_tweets, q=KataKunci).items(JmlTweets)]\n",
    "# test_tweet = [tweet.text for tweet in searched_tweets]\n",
    "print(searched_tweets)"
   ]
  },
  {
   "cell_type": "code",
   "execution_count": null,
   "metadata": {},
   "outputs": [],
   "source": [
    "preprocessed_text = []\n",
    "for i in range(0, len(test_tweet)):\n",
    "    preprocessed_text.append(process_tweet(test_tweet[i]))\n",
    "\n",
    "X_test_tweet = preprocessed_text"
   ]
  },
  {
   "cell_type": "code",
   "execution_count": null,
   "metadata": {},
   "outputs": [],
   "source": [
    "print(X_test_tweet)"
   ]
  },
  {
   "cell_type": "code",
   "execution_count": null,
   "metadata": {},
   "outputs": [],
   "source": [
    "#predicting\n",
    "\n",
    "print(\"Mulai:\", datetime.now(time_jkt).strftime(\"%H:%M:%S\"))\n",
    "y_pred = nb.predict(X_test_tweet)\n",
    "\n",
    "#Checking"
   ]
  },
  {
   "cell_type": "markdown",
   "metadata": {},
   "source": [
    "# Visualisasi Tabel ##"
   ]
  },
  {
   "cell_type": "code",
   "execution_count": null,
   "metadata": {},
   "outputs": [],
   "source": [
    "hasil_2 = pd.DataFrame(list(zip(test_tweet, X_test_tweet, y_pred)),\n",
    "               columns =['Tweet', 'Tweet_Processed', 'Sentimen'])\n",
    "hasil_2['Sentimen'].replace((0, 1, 2), ('neutral', 'positive', 'negative'), inplace=True)\n",
    "\n",
    "pd.set_option('display.max_colwidth', 3000)\n",
    "hasil_2"
   ]
  },
  {
   "cell_type": "markdown",
   "metadata": {},
   "source": [
    "# Visualisasi Pie Chart ##"
   ]
  },
  {
   "cell_type": "code",
   "execution_count": null,
   "metadata": {},
   "outputs": [],
   "source": [
    "fig, ax = plt.subplots(figsize = (6, 6))\n",
    "sizes = [count for count in hasil_2['Sentimen'].value_counts()]\n",
    "labels = list(hasil_2['Sentimen'].value_counts().index)\n",
    "# explode = (0.1, 0, 0)\n",
    "ax.pie(x = sizes, labels = labels, autopct = '%1.1f%%', textprops={'fontsize': 14})\n",
    "ax.set_title('Polaritas Sentimen Data dari Tweet', fontsize = 16, pad = 20)\n",
    "plt.show()"
   ]
  },
  {
   "cell_type": "code",
   "execution_count": null,
   "metadata": {},
   "outputs": [],
   "source": [
    "# Visualisasi WordCloud ##"
   ]
  },
  {
   "cell_type": "code",
   "execution_count": null,
   "metadata": {},
   "outputs": [],
   "source": [
    "# Visualize word cloud\n",
    "\n",
    "list_words=''\n",
    "for tweet in hasil_2['Tweet_Processed']:\n",
    "    for word in tweet:\n",
    "        list_words += ' '+(word)\n",
    "        \n",
    "wordcloud = WordCloud(width = 600, height = 400, background_color = 'black', min_font_size = 10).generate(list_words)\n",
    "fig, ax = plt.subplots(figsize = (8, 6))\n",
    "ax.set_title('Word Cloud Data Tweet', fontsize = 18)\n",
    "ax.grid(False)\n",
    "ax.imshow((wordcloud))\n",
    "fig.tight_layout(pad=0)\n",
    "ax.axis('off')\n",
    "plt.show()"
   ]
  },
  {
   "cell_type": "markdown",
   "metadata": {},
   "source": [
    "## Visualisasi WordCloud Positif ##"
   ]
  },
  {
   "cell_type": "code",
   "execution_count": null,
   "metadata": {},
   "outputs": [],
   "source": [
    "hasil_pos_2 = hasil_2.loc[hasil_2['Sentimen']=='positive']\n",
    "\n",
    "list_words_postive_2=''\n",
    "for row_word in hasil_pos_2['Tweet_Processed']:\n",
    "    for word in row_word:\n",
    "        list_words_postive_2 += ' '+(word)\n",
    "        \n",
    "wordcloud = WordCloud(width = 800, height = 600, background_color = 'black', colormap = 'Greens'\n",
    "                               , min_font_size = 10).generate(list_words_postive_2)\n",
    "fig, ax = plt.subplots(figsize = (8, 6))\n",
    "ax.set_title('Word Cloud Data Tweet Positif', fontsize = 18)\n",
    "ax.grid(False)\n",
    "ax.imshow((wordcloud))\n",
    "fig.tight_layout(pad=0)\n",
    "ax.axis('off')\n",
    "plt.show()"
   ]
  },
  {
   "cell_type": "markdown",
   "metadata": {},
   "source": [
    "# Visualisasi WordCloud Negatif ##"
   ]
  },
  {
   "cell_type": "code",
   "execution_count": null,
   "metadata": {},
   "outputs": [],
   "source": [
    "hasil_neg_2 = hasil_2.loc[hasil_2['Sentimen']=='negative']\n",
    "\n",
    "list_words_negative_2=''\n",
    "for row_word in hasil_neg_2['Tweet_Processed']:\n",
    "    for word in row_word:\n",
    "        list_words_negative_2 += ' '+(word)\n",
    "        \n",
    "wordcloud = WordCloud(width = 800, height = 600, background_color = 'black', colormap = 'Reds'\n",
    "                               , min_font_size = 10).generate(list_words_negative_2)\n",
    "fig, ax = plt.subplots(figsize = (8, 6))\n",
    "ax.set_title('Word Cloud Data Tweet Negatif', fontsize = 18)\n",
    "ax.grid(False)\n",
    "ax.imshow((wordcloud))\n",
    "fig.tight_layout(pad=0)\n",
    "ax.axis('off')\n",
    "plt.show()"
   ]
  },
  {
   "cell_type": "code",
   "execution_count": null,
   "metadata": {},
   "outputs": [],
   "source": []
  }
 ],
 "metadata": {
  "kernelspec": {
   "display_name": "Python 3 (ipykernel)",
   "language": "python",
   "name": "python3"
  },
  "language_info": {
   "codemirror_mode": {
    "name": "ipython",
    "version": 3
   },
   "file_extension": ".py",
   "mimetype": "text/x-python",
   "name": "python",
   "nbconvert_exporter": "python",
   "pygments_lexer": "ipython3",
   "version": "3.9.7"
  }
 },
 "nbformat": 4,
 "nbformat_minor": 4
}
